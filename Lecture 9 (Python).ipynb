{
 "cells": [
  {
   "cell_type": "markdown",
   "metadata": {},
   "source": [
    "# Conditional Logic with `if`, `elif`, and `else`"
   ]
  },
  {
   "cell_type": "markdown",
   "metadata": {},
   "source": [
    "Conditional statements are a fundamental part of programming. They allow your code to make decisions and execute different blocks of code based on whether a condition is `True` or `False`. In Python, the primary way to do this is with `if`, `elif`, and `else` statements."
   ]
  },
  {
   "cell_type": "code",
   "execution_count": 1,
   "metadata": {},
   "outputs": [
    {
     "name": "stdout",
     "output_type": "stream",
     "text": [
      "You are old enough to vote.\n",
      "Please register to vote!\n",
      "Thank you for checking your eligibility.\n"
     ]
    }
   ],
   "source": [
    "user_age = int(input(\"Please enter your age: \"))\n",
    "\n",
    "if user_age >= 18:\n",
    "    print(\"You are old enough to vote.\")\n",
    "    print(\"Please register to vote!\")\n",
    "else:\n",
    "    print(\"You are not yet eligible to vote.\")\n",
    "print(\"Thank you for checking your eligibility.\")"
   ]
  },
  {
   "cell_type": "markdown",
   "metadata": {},
   "source": [
    "---"
   ]
  },
  {
   "cell_type": "markdown",
   "metadata": {},
   "source": [
    "## `elif` and Chained Conditions\n",
    "\n",
    "When you have multiple conditions to check, you can use `elif` (short for 'else if') to create a chain of checks. The program will execute the code block for the first condition that evaluates to `True` and then skip the rest. If none of the `if` or `elif` conditions are met, the code in the `else` block will run."
   ]
  },
  {
   "cell_type": "code",
   "execution_count": 2,
   "metadata": {},
   "outputs": [
    {
     "name": "stdout",
     "output_type": "stream",
     "text": [
      "Grade: F\n"
     ]
    }
   ],
   "source": [
    "user_score = int(input(\"Enter your test score (0-100): \"))\n",
    "\n",
    "if user_score >= 90:\n",
    "    print(\"Grade: A\")\n",
    "elif user_score >= 80:\n",
    "    print(\"Grade: B\")\n",
    "elif user_score >= 70:\n",
    "    print(\"Grade: C\")\n",
    "elif user_score >= 60:\n",
    "    print(\"Grade: D\")\n",
    "else:\n",
    "    print(\"Grade: F\")"
   ]
  },
  {
   "cell_type": "markdown",
   "metadata": {},
   "source": [
    "---"
   ]
  },
  {
   "cell_type": "markdown",
   "metadata": {},
   "source": [
    "## Nested `if` Statements\n",
    "\n",
    "You can place an `if` statement inside another `if` or `else` block. This is called **nesting**. It's useful for checking a secondary condition only after a primary condition has already been met."
   ]
  },
  {
   "cell_type": "code",
   "execution_count": 3,
   "metadata": {},
   "outputs": [
    {
     "name": "stdout",
     "output_type": "stream",
     "text": [
      "Password is too short. It must be at least 8 characters long.\n"
     ]
    }
   ],
   "source": [
    "password = input(\"Create a new password: \")\n",
    "\n",
    "if len(password) >= 8:\n",
    "    print(\"Your password meets the minimum length requirement.\")\n",
    "    if any(char.isdigit() for char in password):\n",
    "        print(\"Password contains a number.\")\n",
    "        if any(char.isupper() for char in password):\n",
    "            print(\"Password contains an uppercase letter.\")\n",
    "            print(\"Your password is strong! 🔒\")\n",
    "        else:\n",
    "            print(\"Password is weak: Needs an uppercase letter.\")\n",
    "    else:\n",
    "        print(\"Password is weak: Needs at least one number.\")\n",
    "else:\n",
    "    print(\"Password is too short. It must be at least 8 characters long.\")"
   ]
  },
  {
   "cell_type": "markdown",
   "metadata": {},
   "source": [
    "---"
   ]
  },
  {
   "cell_type": "markdown",
   "metadata": {},
   "source": [
    "## The `not` Operator\n",
    "\n",
    "The `not` operator is a logical operator that inverts the boolean value of a condition. If a condition is `True`, `not` makes it `False`, and vice versa. It's often used to check if a condition is *not* met."
   ]
  },
  {
   "cell_type": "code",
   "execution_count": 4,
   "metadata": {},
   "outputs": [
    {
     "name": "stdout",
     "output_type": "stream",
     "text": [
      "The sun is out! Time to go for a walk. ☀️\n"
     ]
    }
   ],
   "source": [
    "is_raining = False\n",
    "\n",
    "if not is_raining:\n",
    "    print(\"The sun is out! Time to go for a walk. ☀️\")\n",
    "else:\n",
    "    print(\"It's raining. Better stay inside and read a book. ☔\")"
   ]
  },
  {
   "cell_type": "markdown",
   "metadata": {},
   "source": [
    "---"
   ]
  },
  {
   "cell_type": "markdown",
   "metadata": {},
   "source": [
    "## The `and` Operator\n",
    "\n",
    "The `and` operator combines two or more conditions. The entire condition evaluates to `True` only if **all** of the individual conditions are `True`. If even one condition is `False`, the whole statement is `False`."
   ]
  },
  {
   "cell_type": "code",
   "execution_count": 5,
   "metadata": {},
   "outputs": [
    {
     "name": "stdout",
     "output_type": "stream",
     "text": [
      "You are eligible to rent a car.\n"
     ]
    }
   ],
   "source": [
    "age = 25\n",
    "has_driver_license = True\n",
    "\n",
    "if age >= 16 and has_driver_license:\n",
    "    print(\"You are eligible to rent a car.\")\n",
    "else:\n",
    "    print(\"You are not eligible to rent a car.\")"
   ]
  },
  {
   "cell_type": "markdown",
   "metadata": {},
   "source": [
    "### Example with multiple conditions:\n",
    "\n",
    "You can also use `and` to check if a number falls within a specific range. For example, to check if a number is between 10 and 20 (inclusive), you can use `if number >= 10 and number <= 20`."
   ]
  },
  {
   "cell_type": "code",
   "execution_count": 6,
   "metadata": {},
   "outputs": [
    {
     "name": "stdout",
     "output_type": "stream",
     "text": [
      "The number is a positive even number.\n"
     ]
    }
   ],
   "source": [
    "num = int(input(\"Enter a number: \"))\n",
    "\n",
    "if num > 0 and num % 2 == 0:\n",
    "    print(\"The number is a positive even number.\")\n",
    "else:\n",
    "    print(\"The number is either not positive or not even.\")"
   ]
  },
  {
   "cell_type": "markdown",
   "metadata": {},
   "source": [
    "---"
   ]
  },
  {
   "cell_type": "markdown",
   "metadata": {},
   "source": [
    "## The `in` Operator\n",
    "\n",
    "The `in` operator is a membership operator. It's a great way to check if a value exists within a sequence like a string, list, or tuple. It makes your code more readable and concise, especially when you would otherwise have to use a long series of `or` statements."
   ]
  },
  {
   "cell_type": "code",
   "execution_count": 7,
   "metadata": {},
   "outputs": [
    {
     "name": "stdout",
     "output_type": "stream",
     "text": [
      "The character '2' is a consonant or not a letter.\n"
     ]
    }
   ],
   "source": [
    "vowels = ('a', 'e', 'i', 'o', 'u')\n",
    "\n",
    "char = input(\"Enter a single character: \").lower()\n",
    "\n",
    "if char in vowels:\n",
    "    print(f\"The character '{char}' is a vowel.\")\n",
    "else:\n",
    "    print(f\"The character '{char}' is a consonant or not a letter.\")"
   ]
  },
  {
   "cell_type": "markdown",
   "metadata": {},
   "source": [
    "### Finding common elements in two lists:\n",
    "\n",
    "The `in` operator is very useful for iterating through one list and checking if an item also exists in another list."
   ]
  },
  {
   "cell_type": "code",
   "execution_count": 8,
   "metadata": {},
   "outputs": [
    {
     "name": "stdout",
     "output_type": "stream",
     "text": [
      "Players who are on both teams:\n",
      "- Olivia\n",
      "- Noah\n"
     ]
    }
   ],
   "source": [
    "team_a = [\"Liam\", \"Olivia\", \"Noah\", \"Emma\"]\n",
    "team_b = [\"Noah\", \"Charlotte\", \"Olivia\", \"Oliver\"]\n",
    "\n",
    "print(\"Players who are on both teams:\")\n",
    "for player in team_a:\n",
    "    if player in team_b:\n",
    "        print(f\"- {player}\")"
   ]
  },
  {
   "cell_type": "markdown",
   "metadata": {},
   "source": [
    "---"
   ]
  },
  {
   "cell_type": "markdown",
   "metadata": {},
   "source": [
    "## Practical Examples and Exercises\n",
    "\n",
    "Let's put these concepts together with some practical problems. Here are some common scenarios where conditional logic is essential."
   ]
  },
  {
   "cell_type": "markdown",
   "metadata": {},
   "source": [
    "### Temperature Converter\n",
    "\n",
    "Create a program that converts temperatures between Celsius and Fahrenheit based on the user's input. The user will input a value like `\"25C\"` or `\"77F\"`."
   ]
  },
  {
   "cell_type": "code",
   "execution_count": 9,
   "metadata": {},
   "outputs": [
    {
     "name": "stdout",
     "output_type": "stream",
     "text": [
      "Invalid input. Please use 'C' or 'F' as the unit.\n"
     ]
    }
   ],
   "source": [
    "temp_input = input(\"Enter a temperature (e.g., 25C, 77F): \")\n",
    "degree = int(temp_input[:-1])\n",
    "unit = temp_input[-1].upper()\n",
    "\n",
    "if unit == 'C':\n",
    "    fahrenheit = (9/5) * degree + 32\n",
    "    print(f\"{degree}°C is {fahrenheit}°F\")\n",
    "elif unit == 'F':\n",
    "    celsius = (degree - 32) * 5/9\n",
    "    print(f\"{degree}°F is {celsius}°C\")\n",
    "else:\n",
    "    print(\"Invalid input. Please use 'C' or 'F' as the unit.\")"
   ]
  },
  {
   "cell_type": "markdown",
   "metadata": {},
   "source": [
    "---"
   ]
  },
  {
   "cell_type": "markdown",
   "metadata": {},
   "source": [
    "### Number Properties\n",
    "\n",
    "Write a script that takes a number from a user and checks if it's a **positive number**, **negative number**, or **zero**. Then, check if the number is **even** or **odd**."
   ]
  },
  {
   "cell_type": "code",
   "execution_count": 10,
   "metadata": {},
   "outputs": [
    {
     "name": "stdout",
     "output_type": "stream",
     "text": [
      "The number is positive.\n",
      "The number is odd.\n"
     ]
    }
   ],
   "source": [
    "number = int(input(\"Enter a whole number: \"))\n",
    "\n",
    "if number > 0:\n",
    "    print(\"The number is positive.\")\n",
    "elif number < 0:\n",
    "    print(\"The number is negative.\")\n",
    "else:\n",
    "    print(\"The number is zero.\")\n",
    "\n",
    "if number % 2 == 0:\n",
    "    print(\"The number is even.\")\n",
    "else:\n",
    "    print(\"The number is odd.\")"
   ]
  },
  {
   "cell_type": "markdown",
   "metadata": {},
   "source": [
    "---"
   ]
  },
  {
   "cell_type": "markdown",
   "metadata": {},
   "source": [
    "### Character Type Checker\n",
    "\n",
    "This script will determine if a character is a letter, a digit, or something else entirely (like a symbol)."
   ]
  },
  {
   "cell_type": "code",
   "execution_count": 11,
   "metadata": {},
   "outputs": [
    {
     "name": "stdout",
     "output_type": "stream",
     "text": [
      "'1' is a digit.\n"
     ]
    }
   ],
   "source": [
    "char = input(\"Enter a single character: \")\n",
    "\n",
    "if 'a' <= char.lower() <= 'z':\n",
    "    print(f\"'{char}' is an alphabet character.\")\n",
    "elif '0' <= char <= '9':\n",
    "    print(f\"'{char}' is a digit.\")\n",
    "else:\n",
    "    print(f\"'{char}' is a symbol or other character.\")"
   ]
  },
  {
   "cell_type": "markdown",
   "metadata": {},
   "source": [
    "---"
   ]
  },
  {
   "cell_type": "markdown",
   "metadata": {},
   "source": [
    "### Finding numbers divisible by 7 and a multiple of 5\n",
    "\n",
    "Here's a good example of using `and` with a loop to find all numbers within a specific range that meet two conditions."
   ]
  },
  {
   "cell_type": "code",
   "execution_count": 12,
   "metadata": {},
   "outputs": [
    {
     "name": "stdout",
     "output_type": "stream",
     "text": [
      "Numbers between 1500 and 2700 divisible by 7 and 5:\n",
      "1505, 1540, 1575, 1610, 1645, 1680, 1715, 1750, 1785, 1820, 1855, 1890, 1925, 1960, 1995, 2030, 2065, 2100, 2135, 2170, 2205, 2240, 2275, 2310, 2345, 2380, 2415, 2450, 2485, 2520, 2555, 2590, 2625, 2660, 2695\n"
     ]
    }
   ],
   "source": [
    "matching_numbers = []\n",
    "for number in range(1500, 2701):\n",
    "    if number % 7 == 0 and number % 5 == 0:\n",
    "        matching_numbers.append(str(number))\n",
    "\n",
    "print(\"Numbers between 1500 and 2700 divisible by 7 and 5:\")\n",
    "print(\", \".join(matching_numbers))"
   ]
  }
 ],
 "metadata": {
  "kernelspec": {
   "display_name": "base",
   "language": "python",
   "name": "python3"
  },
  "language_info": {
   "codemirror_mode": {
    "name": "ipython",
    "version": 3
   },
   "file_extension": ".py",
   "mimetype": "text/x-python",
   "name": "python",
   "nbconvert_exporter": "python",
   "pygments_lexer": "ipython3",
   "version": "3.12.9"
  }
 },
 "nbformat": 4,
 "nbformat_minor": 2
}
