{
 "cells": [
  {
   "cell_type": "markdown",
   "metadata": {},
   "source": [
    "# Python Lecture on Basic Statistics\n",
    "\n",
    "Welcome to this lecture on fundamental statistical concepts using Python. We will cover four key measures:\n",
    "\n",
    "* **Mean**: The average value of a dataset.\n",
    "* **Median**: The middle value of a sorted dataset.\n",
    "* **Mode**: The most frequently occurring value in a dataset.\n",
    "* **Standard Deviation**: A measure of the amount of variation or dispersion of a set of values.\n",
    "\n",
    "Let's dive in!"
   ]
  },
  {
   "cell_type": "markdown",
   "metadata": {},
   "source": [
    "---"
   ]
  },
  {
   "cell_type": "markdown",
   "metadata": {},
   "source": [
    "## 1. Mean (Average)\n",
    "\n",
    "The **mean** is the arithmetic average of a set of numbers. It is calculated by summing all the values in a dataset and then dividing by the number of values.\n",
    "\n",
    "Formula: \n",
    "\n",
    "$$ \\mu = \\frac{\\sum_{i=1}^{n} x_i}{n} $$\n",
    "\n",
    "Here is a Python function to calculate the mean:"
   ]
  },
  {
   "cell_type": "code",
   "execution_count": 17,
   "metadata": {},
   "outputs": [],
   "source": [
    "def calculate_mean(data):\n",
    "    \"\"\"\n",
    "    Calculates the mean (average) of a list of numbers.\n",
    "    Args:\n",
    "        data (list): A list of numerical data.\n",
    "    Returns:\n",
    "        float: The mean of the data.\n",
    "    \"\"\"\n",
    "    # Handle the case of an empty list to avoid division by zero\n",
    "    if not data:\n",
    "        return 0\n",
    "    return sum(data) / len(data)"
   ]
  },
  {
   "cell_type": "markdown",
   "metadata": {},
   "source": [
    "### Example 1: Simple integers"
   ]
  },
  {
   "cell_type": "code",
   "execution_count": 18,
   "metadata": {},
   "outputs": [
    {
     "name": "stdout",
     "output_type": "stream",
     "text": [
      "Dataset: [10, 20, 30, 40, 50]\n",
      "The mean is: 30.0\n"
     ]
    }
   ],
   "source": [
    "dataset1 = [10, 20, 30, 40, 50]\n",
    "mean1 = calculate_mean(dataset1)\n",
    "print(f\"Dataset: {dataset1}\")\n",
    "print(f\"The mean is: {mean1}\")"
   ]
  },
  {
   "cell_type": "markdown",
   "metadata": {},
   "source": [
    "### Example 2: Numbers with a decimal"
   ]
  },
  {
   "cell_type": "code",
   "execution_count": 19,
   "metadata": {},
   "outputs": [
    {
     "name": "stdout",
     "output_type": "stream",
     "text": [
      "Dataset: [2.5, 3.5, 4.0, 6.0, 7.5]\n",
      "The mean is: 4.7\n"
     ]
    }
   ],
   "source": [
    "dataset2 = [2.5, 3.5, 4.0, 6.0, 7.5]\n",
    "mean2 = calculate_mean(dataset2)\n",
    "print(f\"Dataset: {dataset2}\")\n",
    "print(f\"The mean is: {mean2}\")"
   ]
  },
  {
   "cell_type": "markdown",
   "metadata": {},
   "source": [
    "### Example 3: Negative numbers"
   ]
  },
  {
   "cell_type": "code",
   "execution_count": 20,
   "metadata": {},
   "outputs": [
    {
     "name": "stdout",
     "output_type": "stream",
     "text": [
      "Dataset: [-5, 0, 5, 10, 15, 20]\n",
      "The mean is: 7.5\n"
     ]
    }
   ],
   "source": [
    "dataset3 = [-5, 0, 5, 10, 15, 20]\n",
    "mean3 = calculate_mean(dataset3)\n",
    "print(f\"Dataset: {dataset3}\")\n",
    "print(f\"The mean is: {mean3}\")"
   ]
  },
  {
   "cell_type": "markdown",
   "metadata": {},
   "source": [
    "---"
   ]
  },
  {
   "cell_type": "markdown",
   "metadata": {},
   "source": [
    "## 2. Median\n",
    "\n",
    "The **median** is the middle value of a dataset when it is sorted in ascending order. It's a useful measure of central tendency because it is not affected by extremely large or small values (outliers).\n",
    "\n",
    "* If the dataset has an **odd** number of values, the median is the single middle value.\n",
    "* If the dataset has an **even** number of values, the median is the average of the two middle values.\n",
    "\n",
    "Here is a Python function to calculate the median:"
   ]
  },
  {
   "cell_type": "code",
   "execution_count": 21,
   "metadata": {},
   "outputs": [],
   "source": [
    "def calculate_median(data):\n",
    "    \"\"\"\n",
    "    Calculates the median of a list of numbers.\n",
    "    Args:\n",
    "        data (list): A list of numerical data.\n",
    "    Returns:\n",
    "        float: The median of the data.\n",
    "    \"\"\"\n",
    "    # Handle the case of an empty list\n",
    "    if not data:\n",
    "        return 0\n",
    "    \n",
    "    sorted_data = sorted(data)\n",
    "    n = len(sorted_data)\n",
    "    \n",
    "    # Odd number of values\n",
    "    if n % 2 == 1:\n",
    "        # The middle index is the length divided by 2 (integer division)\n",
    "        return sorted_data[n // 2]\n",
    "    # Even number of values\n",
    "    else:\n",
    "        # Get the two middle values and average them\n",
    "        mid1 = sorted_data[n // 2 - 1]\n",
    "        mid2 = sorted_data[n // 2]\n",
    "        return (mid1 + mid2) / 2"
   ]
  },
  {
   "cell_type": "markdown",
   "metadata": {},
   "source": [
    "### Example 1: Odd number of values"
   ]
  },
  {
   "cell_type": "code",
   "execution_count": 22,
   "metadata": {},
   "outputs": [
    {
     "name": "stdout",
     "output_type": "stream",
     "text": [
      "Dataset: [1, 7, 3, 9, 5]\n",
      "The median is: 5\n"
     ]
    }
   ],
   "source": [
    "dataset4 = [1, 7, 3, 9, 5]\n",
    "median1 = calculate_median(dataset4)\n",
    "print(f\"Dataset: {dataset4}\")\n",
    "print(f\"The median is: {median1}\")"
   ]
  },
  {
   "cell_type": "markdown",
   "metadata": {},
   "source": [
    "### Example 2: Even number of values"
   ]
  },
  {
   "cell_type": "code",
   "execution_count": 23,
   "metadata": {},
   "outputs": [
    {
     "name": "stdout",
     "output_type": "stream",
     "text": [
      "Dataset: [10, 20, 30, 40]\n",
      "The median is: 25.0\n"
     ]
    }
   ],
   "source": [
    "dataset5 = [10, 20, 30, 40]\n",
    "median2 = calculate_median(dataset5)\n",
    "print(f\"Dataset: {dataset5}\")\n",
    "print(f\"The median is: {median2}\")"
   ]
  },
  {
   "cell_type": "markdown",
   "metadata": {},
   "source": [
    "### Example 3: Outliers and unsorted data"
   ]
  },
  {
   "cell_type": "code",
   "execution_count": 24,
   "metadata": {},
   "outputs": [
    {
     "name": "stdout",
     "output_type": "stream",
     "text": [
      "Dataset: [1, 2, 100, 3, 4, 5]\n",
      "The median is: 3.5\n"
     ]
    }
   ],
   "source": [
    "dataset6 = [1, 2, 100, 3, 4, 5]\n",
    "median3 = calculate_median(dataset6)\n",
    "print(f\"Dataset: {dataset6}\")\n",
    "print(f\"The median is: {median3}\")\n",
    "# Note how the median (3.5) is not heavily skewed by the outlier (100)."
   ]
  },
  {
   "cell_type": "markdown",
   "metadata": {},
   "source": [
    "---"
   ]
  },
  {
   "cell_type": "markdown",
   "metadata": {},
   "source": [
    "## 3. Mode\n",
    "\n",
    "The **mode** is the value that appears most frequently in a dataset. A dataset can have one mode, multiple modes (bimodal, multimodal), or no mode at all if every value appears only once.\n",
    "\n",
    "We will use the `collections` module to easily count the frequency of each item.\n",
    "\n",
    "Here is a Python function to find the mode:"
   ]
  },
  {
   "cell_type": "code",
   "execution_count": 25,
   "metadata": {},
   "outputs": [],
   "source": [
    "from collections import Counter\n",
    "\n",
    "def calculate_mode(data):\n",
    "    \"\"\"\n",
    "    Calculates the mode(s) of a list of numbers.\n",
    "    Args:\n",
    "        data (list): A list of data.\n",
    "    Returns:\n",
    "        list: A list of the mode(s).\n",
    "    \"\"\"\n",
    "    if not data:\n",
    "        return []\n",
    "    \n",
    "    counts = Counter(data)\n",
    "    max_count = max(counts.values())\n",
    "    \n",
    "    # Return all items that have the max count\n",
    "    modes = [key for key, value in counts.items() if value == max_count]\n",
    "    \n",
    "    # Handle the case where every element appears only once\n",
    "    if len(modes) == len(data):\n",
    "        return [] # No mode\n",
    "    else:\n",
    "        return modes"
   ]
  },
  {
   "cell_type": "markdown",
   "metadata": {},
   "source": [
    "### Example 1: Single mode"
   ]
  },
  {
   "cell_type": "code",
   "execution_count": 26,
   "metadata": {},
   "outputs": [
    {
     "name": "stdout",
     "output_type": "stream",
     "text": [
      "Dataset: [1, 2, 2, 3, 4, 4, 4, 5, 5]\n",
      "The mode is: [4]\n"
     ]
    }
   ],
   "source": [
    "dataset7 = [1, 2, 2, 3, 4, 4, 4, 5, 5]\n",
    "mode1 = calculate_mode(dataset7)\n",
    "print(f\"Dataset: {dataset7}\")\n",
    "print(f\"The mode is: {mode1}\")"
   ]
  },
  {
   "cell_type": "markdown",
   "metadata": {},
   "source": [
    "### Example 2: Bimodal (multiple modes)"
   ]
  },
  {
   "cell_type": "code",
   "execution_count": 27,
   "metadata": {},
   "outputs": [
    {
     "name": "stdout",
     "output_type": "stream",
     "text": [
      "Dataset: [1, 2, 2, 3, 4, 4, 5]\n",
      "The modes are: [2, 4]\n"
     ]
    }
   ],
   "source": [
    "dataset8 = [1, 2, 2, 3, 4, 4, 5]\n",
    "mode2 = calculate_mode(dataset8)\n",
    "print(f\"Dataset: {dataset8}\")\n",
    "print(f\"The modes are: {mode2}\")"
   ]
  },
  {
   "cell_type": "markdown",
   "metadata": {},
   "source": [
    "### Example 3: No mode"
   ]
  },
  {
   "cell_type": "code",
   "execution_count": 28,
   "metadata": {},
   "outputs": [
    {
     "name": "stdout",
     "output_type": "stream",
     "text": [
      "Dataset: [10, 20, 30, 40, 50]\n",
      "The mode is: []\n"
     ]
    }
   ],
   "source": [
    "dataset9 = [10, 20, 30, 40, 50]\n",
    "mode3 = calculate_mode(dataset9)\n",
    "print(f\"Dataset: {dataset9}\")\n",
    "print(f\"The mode is: {mode3}\")"
   ]
  },
  {
   "cell_type": "markdown",
   "metadata": {},
   "source": [
    "---"
   ]
  },
  {
   "cell_type": "markdown",
   "metadata": {},
   "source": [
    "## 4. Standard Deviation\n",
    "\n",
    "The **standard deviation** is a measure of how spread out the numbers in a dataset are from the mean. A low standard deviation means values are close to the mean, while a high standard deviation indicates values are spread out over a wider range.\n",
    "\n",
    "To calculate standard deviation, we follow these steps:\n",
    "1.  Calculate the mean of the data.\n",
    "2.  For each number, subtract the mean and square the result (this is the squared deviation).\n",
    "3.  Calculate the mean of these squared deviations (this is the variance).\n",
    "4.  Take the square root of the variance to get the standard deviation.\n",
    "\n",
    "Formula:\n",
    "\n",
    "$$ \\sigma = \\sqrt{\\frac{\\sum_{i=1}^{n}(x_i - \\mu)^2}{n}} $$\n",
    "\n",
    "Here is a Python function to calculate the standard deviation. We will reuse the `calculate_mean` function defined earlier."
   ]
  },
  {
   "cell_type": "code",
   "execution_count": 29,
   "metadata": {},
   "outputs": [],
   "source": [
    "import math\n",
    "\n",
    "def calculate_standard_deviation(data):\n",
    "    \"\"\"\n",
    "    Calculates the standard deviation of a list of numbers.\n",
    "    Args:\n",
    "        data (list): A list of numerical data.\n",
    "    Returns:\n",
    "        float: The standard deviation of the data.\n",
    "    \"\"\"\n",
    "    if not data:\n",
    "        return 0\n",
    "    \n",
    "    # Step 1: Calculate the mean\n",
    "    mean_value = calculate_mean(data)\n",
    "    \n",
    "    # Step 2: Calculate the squared deviations\n",
    "    squared_deviations = [(x - mean_value) ** 2 for x in data]\n",
    "    \n",
    "    # Step 3: Calculate the variance (mean of squared deviations)\n",
    "    variance = calculate_mean(squared_deviations)\n",
    "    \n",
    "    # Step 4: Take the square root of the variance\n",
    "    return math.sqrt(variance)"
   ]
  },
  {
   "cell_type": "markdown",
   "metadata": {},
   "source": [
    "### Example 1: Low standard deviation"
   ]
  },
  {
   "cell_type": "code",
   "execution_count": 30,
   "metadata": {},
   "outputs": [
    {
     "name": "stdout",
     "output_type": "stream",
     "text": [
      "Dataset: [10, 11, 10, 12, 9, 10]\n",
      "The standard deviation is: 0.9428\n"
     ]
    }
   ],
   "source": [
    "dataset10 = [10, 11, 10, 12, 9, 10]\n",
    "std_dev1 = calculate_standard_deviation(dataset10)\n",
    "print(f\"Dataset: {dataset10}\")\n",
    "print(f\"The standard deviation is: {std_dev1:.4f}\") # Low spread"
   ]
  },
  {
   "cell_type": "markdown",
   "metadata": {},
   "source": [
    "### Example 2: High standard deviation"
   ]
  },
  {
   "cell_type": "code",
   "execution_count": 31,
   "metadata": {},
   "outputs": [
    {
     "name": "stdout",
     "output_type": "stream",
     "text": [
      "Dataset: [1, 5, 10, 15, 20]\n",
      "The standard deviation is: 6.7941\n"
     ]
    }
   ],
   "source": [
    "dataset11 = [1, 5, 10, 15, 20]\n",
    "std_dev2 = calculate_standard_deviation(dataset11)\n",
    "print(f\"Dataset: {dataset11}\")\n",
    "print(f\"The standard deviation is: {std_dev2:.4f}\") # High spread"
   ]
  },
  {
   "cell_type": "markdown",
   "metadata": {},
   "source": [
    "### Example 3: Zero standard deviation"
   ]
  },
  {
   "cell_type": "code",
   "execution_count": 32,
   "metadata": {},
   "outputs": [
    {
     "name": "stdout",
     "output_type": "stream",
     "text": [
      "Dataset: [5, 5, 5, 5, 5]\n",
      "The standard deviation is: 0.0000\n"
     ]
    }
   ],
   "source": [
    "dataset12 = [5, 5, 5, 5, 5]\n",
    "std_dev3 = calculate_standard_deviation(dataset12)\n",
    "print(f\"Dataset: {dataset12}\")\n",
    "print(f\"The standard deviation is: {std_dev3:.4f}\") # No spread"
   ]
  }
 ],
 "metadata": {
  "kernelspec": {
   "display_name": "base",
   "language": "python",
   "name": "python3"
  },
  "language_info": {
   "codemirror_mode": {
    "name": "ipython",
    "version": 3
   },
   "file_extension": ".py",
   "mimetype": "text/x-python",
   "name": "python",
   "nbconvert_exporter": "python",
   "pygments_lexer": "ipython3",
   "version": "3.12.9"
  }
 },
 "nbformat": 4,
 "nbformat_minor": 4
}
