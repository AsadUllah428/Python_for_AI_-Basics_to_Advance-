{
 "cells": [
  {
   "cell_type": "markdown",
   "metadata": {},
   "source": [
    "# Python Basics: Making Decisions and Handling Collections"
   ]
  },
  {
   "cell_type": "markdown",
   "metadata": {},
   "source": [
    "Welcome to this lecture on fundamental Python concepts! We'll explore how computers make 'yes' or 'no' decisions and how we can organize groups of information."
   ]
  },
  {
   "cell_type": "markdown",
   "metadata": {},
   "source": [
    "## Chapter 1: True or False? (Booleans)"
   ]
  },
  {
   "cell_type": "markdown",
   "metadata": {},
   "source": [
    "In programming, sometimes you just need a simple 'yes' or 'no' answer. This is where **Booleans** come in handy. They can only hold one of two values: `True` or `False`."
   ]
  },
  {
   "cell_type": "markdown",
   "metadata": {},
   "source": [
    "### Seeing Boolean Values in Action"
   ]
  },
  {
   "cell_type": "code",
   "execution_count": null,
   "metadata": {},
   "outputs": [],
   "source": [
    "# Let's compare some numbers to see what Python thinks is True or False\n",
    "print(25 > 15)  # Is 25 greater than 15? (Should be True)\n",
    "print(50 == 55) # Is 50 exactly equal to 55? (Should be False)\n",
    "print(100 < 90) # Is 100 less than 90? (Should be False)"
   ]
  },
  {
   "cell_type": "markdown",
   "metadata": {},
   "source": [
    "We can also use Booleans to control what our program does using `if` and `else` statements."
   ]
  },
  {
   "cell_type": "code",
   "execution_count": null,
   "metadata": {},
   "outputs": [],
   "source": [
    "current_score = 75\n",
    "passing_score = 60\n",
    "\n",
    "if current_score >= passing_score:\n",
    "  print(\"Congratulations! You passed the test.\")\n",
    "else:\n",
    "  print(\"Keep practicing. You can do it!\")"
   ]
  },
  {
   "cell_type": "markdown",
   "metadata": {},
   "source": [
    "## Chapter 2: Doing Things with Data (Operators)"
   ]
  },
  {
   "cell_type": "markdown",
   "metadata": {},
   "source": [
    "Operators are like special symbols that tell Python to perform specific actions on values and variables. Think of them as verbs in a sentence for your data."
   ]
  },
  {
   "cell_type": "markdown",
   "metadata": {},
   "source": [
    "For example, the `+` operator adds numbers together:"
   ]
  },
  {
   "cell_type": "code",
   "execution_count": null,
   "metadata": {},
   "outputs": [],
   "source": [
    "print(7 + 8) # This will add 7 and 8"
   ]
  },
  {
   "cell_type": "markdown",
   "metadata": {},
   "source": [
    "Python has several categories of operators:"
   ]
  },
  {
   "cell_type": "markdown",
   "metadata": {},
   "source": [
    "* **Math Operators:** For calculations like addition, subtraction.\n",
    "* **Assignment Operators:** For putting values into variables.\n",
    "* **Comparison Operators:** For checking how values relate (e.g., is one bigger than the other?).\n",
    "* **Logic Operators:** For combining `True`/`False` conditions.\n",
    "* **Identity Operators:** For checking if two things are literally the same object.\n",
    "* **Membership Operators:** For seeing if something is inside a collection.\n",
    "* **Bitwise Operators:** For working with individual bits (more advanced)."
   ]
  },
  {
   "cell_type": "markdown",
   "metadata": {},
   "source": [
    "### Math Operators (Arithmetic Operators)"
   ]
  },
  {
   "cell_type": "markdown",
   "metadata": {},
   "source": [
    "These are your basic math symbols:\n",
    "\n",
    "* `+` : Addition (e.g., `5 + 2` gives `7`)\n",
    "* `-` : Subtraction (e.g., `10 - 3` gives `7`)\n",
    "* `*` : Multiplication (e.g., `4 * 6` gives `24`)\n",
    "* `/` : Division (e.g., `10 / 2` gives `5.0`)\n",
    "* `%` : Modulus (gives the remainder of a division, e.g., `10 % 3` gives `1`)\n",
    "* `**`: Exponent (raises to a power, e.g., `2 ** 3` gives `8` (2 to the power of 3))\n",
    "* `//`: Floor Division (divides and rounds down to the nearest whole number, e.g., `7 // 2` gives `3`)"
   ]
  },
  {
   "cell_type": "markdown",
   "metadata": {},
   "source": [
    "### Assignment Operators"
   ]
  },
  {
   "cell_type": "markdown",
   "metadata": {},
   "source": [
    "These are shortcuts for assigning values to variables:\n",
    "\n",
    "* `=` : Simple assignment (e.g., `my_age = 30`)\n",
    "* `+=`: Add and assign (e.g., `score += 5` is the same as `score = score + 5`)\n",
    "* `-=` : Subtract and assign (e.g., `health -= 10` is the same as `health = health - 10`)"
   ]
  },
  {
   "cell_type": "markdown",
   "metadata": {},
   "source": [
    "### Comparison Operators"
   ]
  },
  {
   "cell_type": "markdown",
   "metadata": {},
   "source": [
    "These compare two values and always result in `True` or `False`:\n",
    "\n",
    "* `==`: Is equal to? (e.g., `5 == 5` is `True`)\n",
    "* `!=`: Is not equal to? (e.g., `5 != 10` is `True`)\n",
    "* `>` : Is greater than? (e.g., `7 > 3` is `True`)\n",
    "* `<` : Is less than? (e.g., `2 < 8` is `True`)\n",
    "* `>=`: Is greater than or equal to? (e.g., `10 >= 10` is `True`)\n",
    "* `<=`: Is less than or equal to? (e.g., `4 <= 5` is `True`)"
   ]
  },
  {
   "cell_type": "markdown",
   "metadata": {},
   "source": [
    "### Logic Operators"
   ]
  },
  {
   "cell_type": "markdown",
   "metadata": {},
   "source": [
    "These combine Boolean values:\n",
    "\n",
    "* `and`: `True` only if *both* conditions are `True` (e.g., `(age > 18 and has_license)`)\n",
    "* `or` : `True` if *at least one* condition is `True` (e.g., `(is_sunny or is_weekend)`)\n",
    "* `not`: Reverses the Boolean value (e.g., `not is_raining` means `True` if it's *not* raining)"
   ]
  },
  {
   "cell_type": "markdown",
   "metadata": {},
   "source": [
    "### Identity Operators"
   ]
  },
  {
   "cell_type": "markdown",
   "metadata": {},
   "source": [
    "These check if two variables refer to the *exact same object* in memory, not just if they have the same value.\n",
    "\n",
    "* `is`: Returns `True` if both variables point to the same object (e.g., `list_a is list_b`)\n",
    "* `is not`: Returns `True` if both variables do *not* point to the same object (e.g., `object_x is not object_y`)"
   ]
  },
  {
   "cell_type": "markdown",
   "metadata": {},
   "source": [
    "### Membership Operators"
   ]
  },
  {
   "cell_type": "markdown",
   "metadata": {},
   "source": [
    "These check if a value is present within a sequence (like a list or string):\n",
    "\n",
    "* `in`: Returns `True` if the value is found in the sequence (e.g., `'apple' in fruit_basket`)\n",
    "* `not in`: Returns `True` if the value is *not* found in the sequence (e.g., `'grape' not in fruit_basket`)"
   ]
  },
  {
   "cell_type": "markdown",
   "metadata": {},
   "source": [
    "### Bitwise Operators (Advanced)"
   ]
  },
  {
   "cell_type": "markdown",
   "metadata": {},
   "source": [
    "These operators work on the individual bits (0s and 1s) that make up numbers. They are less common for beginners but are powerful for specific tasks.\n",
    "\n",
    "* `&` (AND): Sets a bit to 1 if both corresponding bits are 1.\n",
    "* `|` (OR): Sets a bit to 1 if at least one corresponding bit is 1.\n",
    "* `^` (XOR): Sets a bit to 1 if only one of the corresponding bits is 1.\n",
    "* `~` (NOT): Flips all the bits (0 becomes 1, 1 becomes 0).\n",
    "* `<<` (Left Shift): Shifts bits to the left, adding zeros on the right.\n",
    "* `>>` (Right Shift): Shifts bits to the right, dropping bits from the right."
   ]
  },
  {
   "cell_type": "markdown",
   "metadata": {},
   "source": [
    "## Chapter 3: Organizing Your Stuff (Lists)"
   ]
  },
  {
   "cell_type": "markdown",
   "metadata": {},
   "source": [
    "Imagine you have a shopping list or a collection of your favorite movies. In Python, we use **Lists** to store multiple items in a single, organized variable."
   ]
  },
  {
   "cell_type": "code",
   "execution_count": null,
   "metadata": {},
   "outputs": [],
   "source": [
    "my_shopping_list = [\"milk\", \"eggs\", \"bread\"]\n",
    "print(my_shopping_list)"
   ]
  },
  {
   "cell_type": "markdown",
   "metadata": {},
   "source": [
    "### Key Features of Lists"
   ]
  },
  {
   "cell_type": "markdown",
   "metadata": {},
   "source": [
    "* **Ordered:** The items stay in the order you put them in.\n",
    "* **Changeable:** You can add, remove, or modify items after the list is created.\n",
    "* **Allows Duplicates:** You can have the same item multiple times in a list."
   ]
  },
  {
   "cell_type": "code",
   "execution_count": null,
   "metadata": {},
   "outputs": [],
   "source": [
    "favorite_colors = [\"blue\", \"green\", \"red\", \"blue\", \"yellow\"]\n",
    "print(favorite_colors) # Notice 'blue' appears twice!"
   ]
  },
  {
   "cell_type": "markdown",
   "metadata": {},
   "source": [
    "### How Many Items? (`len()`)"
   ]
  },
  {
   "cell_type": "markdown",
   "metadata": {},
   "source": [
    "To find out how many items are in a list, use the `len()` function."
   ]
  },
  {
   "cell_type": "code",
   "execution_count": null,
   "metadata": {},
   "outputs": [],
   "source": [
    "student_names = [\"Alice\", \"Bob\", \"Charlie\"]\n",
    "print(len(student_names)) # This will print 3"
   ]
  },
  {
   "cell_type": "markdown",
   "metadata": {},
   "source": [
    "### Lists Can Hold Anything!"
   ]
  },
  {
   "cell_type": "markdown",
   "metadata": {},
   "source": [
    "Lists are super flexible! They can contain different types of data, all in one list."
   ]
  },
  {
   "cell_type": "code",
   "execution_count": null,
   "metadata": {},
   "outputs": [],
   "source": [
    "mixed_bag = [\"hello\", 123, True, 3.14, \"world\"]\n",
    "print(mixed_bag)"
   ]
  },
  {
   "cell_type": "markdown",
   "metadata": {},
   "source": [
    "### What Type Is It? (`type()`)"
   ]
  },
  {
   "cell_type": "markdown",
   "metadata": {},
   "source": [
    "You can always check the type of any variable using the `type()` function."
   ]
  },
  {
   "cell_type": "code",
   "execution_count": null,
   "metadata": {},
   "outputs": [],
   "source": [
    "my_list_variable = [1, 2, 3]\n",
    "print(type(my_list_variable))"
   ]
  },
  {
   "cell_type": "markdown",
   "metadata": {},
   "source": [
    "### Creating Lists with `list()`"
   ]
  },
  {
   "cell_type": "markdown",
   "metadata": {},
   "source": [
    "You can also create a list using the `list()` constructor, especially useful when converting other types of collections (like tuples) into lists."
   ]
  },
  {
   "cell_type": "code",
   "execution_count": null,
   "metadata": {},
   "outputs": [],
   "source": [
    "my_tuple = (\"red\", \"green\", \"blue\")\n",
    "colors_list = list(my_tuple) # Notice the double parentheses if converting a tuple\n",
    "print(colors_list)"
   ]
  },
  {
   "cell_type": "markdown",
   "metadata": {},
   "source": [
    "## Chapter 4: Getting and Changing List Items"
   ]
  },
  {
   "cell_type": "markdown",
   "metadata": {},
   "source": [
    "Each item in a list has a special number called an **index**, starting from `0` for the very first item. You use this index to grab specific items."
   ]
  },
  {
   "cell_type": "code",
   "execution_count": null,
   "metadata": {},
   "outputs": [],
   "source": [
    "planets = [\"Mercury\", \"Venus\", \"Earth\", \"Mars\"]\n",
    "print(planets[2]) # This will print 'Earth' because it's at index 2"
   ]
  },
  {
   "cell_type": "markdown",
   "metadata": {},
   "source": [
    "### Counting Backwards (Negative Indexing)"
   ]
  },
  {
   "cell_type": "markdown",
   "metadata": {},
   "source": [
    "You can also count from the end of the list using negative numbers:\n",
    "\n",
    "* `-1` refers to the very last item.\n",
    "* `-2` refers to the second to last item, and so on."
   ]
  },
  {
   "cell_type": "code",
   "execution_count": null,
   "metadata": {},
   "outputs": [],
   "source": [
    "days_of_week = [\"Mon\", \"Tue\", \"Wed\", \"Thu\", \"Fri\", \"Sat\", \"Sun\"]\n",
    "print(days_of_week[-1]) # This will print 'Sun'"
   ]
  },
  {
   "cell_type": "markdown",
   "metadata": {},
   "source": [
    "### Grabbing a Section (Slicing)"
   ]
  },
  {
   "cell_type": "markdown",
   "metadata": {},
   "source": [
    "You can get a part of a list (a 'slice') by specifying a start and end index. The end index is *not* included in the slice."
   ]
  },
  {
   "cell_type": "code",
   "execution_count": null,
   "metadata": {},
   "outputs": [],
   "source": [
    "alphabet = [\"a\", \"b\", \"c\", \"d\", \"e\", \"f\", \"g\"]\n",
    "print(alphabet[2:5]) # This will give you items from index 2 up to (but not including) index 5: ['c', 'd', 'e']"
   ]
  },
  {
   "cell_type": "markdown",
   "metadata": {},
   "source": [
    "If you leave out the starting index, it assumes you want to start from the beginning:"
   ]
  },
  {
   "cell_type": "code",
   "execution_count": null,
   "metadata": {},
   "outputs": [],
   "source": [
    "numbers = [10, 20, 30, 40, 50, 60]\n",
    "print(numbers[:3]) # This gets items from the start up to (but not including) index 3: [10, 20, 30]"
   ]
  },
  {
   "cell_type": "markdown",
   "metadata": {},
   "source": [
    "If you leave out the ending index, it goes all the way to the end of the list:"
   ]
  },
  {
   "cell_type": "code",
   "execution_count": null,
   "metadata": {},
   "outputs": [],
   "source": [
    "fruits = [\"apple\", \"banana\", \"kiwi\", \"grape\", \"mango\"]\n",
    "print(fruits[2:]) # This gets items from index 2 to the end: ['kiwi', 'grape', 'mango']"
   ]
  },
  {
   "cell_type": "markdown",
   "metadata": {},
   "source": [
    "You can also use negative indexes for slicing:"
   ]
  },
  {
   "cell_type": "code",
   "execution_count": null,
   "metadata": {},
   "outputs": [],
   "source": [
    "cities = [\"New York\", \"London\", \"Paris\", \"Tokyo\", \"Rome\"]\n",
    "print(cities[-3:-1]) # This gets items from the third to last up to (but not including) the last: ['Paris', 'Tokyo']"
   ]
  },
  {
   "cell_type": "markdown",
   "metadata": {},
   "source": [
    "## Chapter 5: Does It Exist? (`in` keyword)"
   ]
  },
  {
   "cell_type": "markdown",
   "metadata": {},
   "source": [
    "To quickly check if a specific item is inside a list, use the `in` keyword."
   ]
  },
  {
   "cell_type": "code",
   "execution_count": null,
   "metadata": {},
   "outputs": [],
   "source": [
    "my_hobbies = [\"reading\", \"hiking\", \"coding\"]\n",
    "if \"hiking\" in my_hobbies:\n",
    "  print(\"Yes, hiking is one of my hobbies!\")"
   ]
  },
  {
   "cell_type": "markdown",
   "metadata": {},
   "source": [
    "## Chapter 6: Modifying Your Lists"
   ]
  },
  {
   "cell_type": "markdown",
   "metadata": {},
   "source": [
    "### Changing a Single Item"
   ]
  },
  {
   "cell_type": "markdown",
   "metadata": {},
   "source": [
    "To change the value of an item, just refer to its index and assign a new value."
   ]
  },
  {
   "cell_type": "code",
   "execution_count": null,
   "metadata": {},
   "outputs": [],
   "source": [
    "team_members = [\"John\", \"Sarah\", \"Mike\"]\n",
    "team_members[1] = \"Emily\" # Change 'Sarah' to 'Emily'\n",
    "print(team_members)"
   ]
  },
  {
   "cell_type": "markdown",
   "metadata": {},
   "source": [
    "### Changing a Section of Items"
   ]
  },
  {
   "cell_type": "markdown",
   "metadata": {},
   "source": [
    "You can replace a range of items with new ones. If you provide more new items than you replace, the list will grow."
   ]
  },
  {
   "cell_type": "code",
   "execution_count": null,
   "metadata": {},
   "outputs": [],
   "source": [
    "grades = [85, 90, 78, 92, 88]\n",
    "grades[1:3] = [95, 80, 70] # Replace items at index 1 and 2 with three new items\n",
    "print(grades)"
   ]
  },
  {
   "cell_type": "markdown",
   "metadata": {},
   "source": [
    "If you provide fewer new items, the list will shrink."
   ]
  },
  {
   "cell_type": "code",
   "execution_count": null,
   "metadata": {},
   "outputs": [],
   "source": [
    "tasks = [\"wash dishes\", \"clean room\", \"do laundry\", \"buy groceries\"]\n",
    "tasks[1:3] = [\"tidy up\"] # Replace two items with one\n",
    "print(tasks)"
   ]
  },
  {
   "cell_type": "markdown",
   "metadata": {},
   "source": [
    "### Adding Items without Replacing (`insert()`)"
   ]
  },
  {
   "cell_type": "markdown",
   "metadata": {},
   "source": [
    "The `insert()` method lets you add an item at a specific position without removing anything."
   ]
  },
  {
   "cell_type": "code",
   "execution_count": null,
   "metadata": {},
   "outputs": [],
   "source": [
    "shopping_cart = [\"apples\", \"bananas\", \"oranges\"]\n",
    "shopping_cart.insert(1, \"grapes\") # Insert 'grapes' at index 1\n",
    "print(shopping_cart)"
   ]
  },
  {
   "cell_type": "markdown",
   "metadata": {},
   "source": [
    "## Chapter 7: Lists Inside Lists (Nested Lists)"
   ]
  },
  {
   "cell_type": "markdown",
   "metadata": {},
   "source": [
    "Lists can even contain other lists! This is called a **nested list**, and it's great for organizing more complex data, like a spreadsheet or a game board."
   ]
  },
  {
   "cell_type": "code",
   "execution_count": null,
   "metadata": {},
   "outputs": [],
   "source": [
    "game_board = [\n",
    "    [\"X\", \"O\", \"X\"], # Row 1\n",
    "    [\"O\", \"X\", \"O\"], # Row 2\n",
    "    [\"X\", \"O\", \"X\"]  # Row 3\n",
    "]\n",
    "print(game_board)"
   ]
  },
  {
   "cell_type": "markdown",
   "metadata": {},
   "source": [
    "To access items in a nested list, you use multiple sets of square brackets. Each set of brackets goes one level deeper."
   ]
  },
  {
   "cell_type": "code",
   "execution_count": null,
   "metadata": {},
   "outputs": [],
   "source": [
    "print(game_board[0])    # This gets the first row: ['X', 'O', 'X']\n",
    "print(game_board[1][1]) # This gets the item at row 1, column 1 (the center 'X'): 'X'"
   ]
  },
  {
   "cell_type": "markdown",
   "metadata": {},
   "source": [
    "Let's try a more complex example:"
   ]
  },
  {
   "cell_type": "code",
   "execution_count": null,
   "metadata": {},
   "outputs": [],
   "source": [
    "data_matrix = [\n",
    "    [1, 2, 3], \n",
    "    [4, [5, 6, 7]], \n",
    "    [8, 9]\n",
    "]\n",
    "\n",
    "print(data_matrix[1][1][0]) # This gets the first item (5) from the nested list [5, 6, 7] within the second main list item."
   ]
  },
  {
   "cell_type": "markdown",
   "metadata": {},
   "source": [
    "### Changing Items in Nested Lists"
   ]
  },
  {
   "cell_type": "markdown",
   "metadata": {},
   "source": [
    "You can change values inside nested lists just like regular lists, by using the correct indexes."
   ]
  },
  {
   "cell_type": "code",
   "execution_count": null,
   "metadata": {},
   "outputs": [],
   "source": [
    "inventory = [\"sword\", [\"potion\", \"shield\"], \"gold\"]\n",
    "inventory[1][0] = \"super potion\" # Change 'potion' to 'super potion'\n",
    "print(inventory)"
   ]
  },
  {
   "cell_type": "markdown",
   "metadata": {},
   "source": [
    "### Adding Items to Nested Lists"
   ]
  },
  {
   "cell_type": "markdown",
   "metadata": {},
   "source": [
    "You can add items to an inner list using methods like `append()` or `insert()` on that specific inner list."
   ]
  },
  {
   "cell_type": "code",
   "execution_count": null,
   "metadata": {},
   "outputs": [],
   "source": [
    "student_grades = [\"Alice\", [90, 85], \"Bob\"]\n",
    "student_grades[1].append(92) # Add a new grade to Alice's scores\n",
    "print(student_grades)"
   ]
  },
  {
   "cell_type": "markdown",
   "metadata": {},
   "source": [
    "The `extend()` method is useful for merging another list's items into an existing list (or a nested list)."
   ]
  },
  {
   "cell_type": "code",
   "execution_count": null,
   "metadata": {},
   "outputs": [],
   "source": [
    "team_scores = [\"Team A\", [10, 20], \"Team B\"]\n",
    "new_scores = [15, 5, 25]\n",
    "team_scores[1].extend(new_scores) # Add new_scores to Team A's scores\n",
    "print(team_scores)"
   ]
  },
  {
   "cell_type": "markdown",
   "metadata": {},
   "source": [
    "This concludes our simplified Python lecture on Booleans, Operators, and Lists! Keep practicing, and you'll master these concepts in no time."
   ]
  }
 ],
 "metadata": {
  "kernelspec": {
   "display_name": "Python 3",
   "language": "python",
   "name": "python3"
  },
  "language_info": {
   "codemirror_mode": {
    "name": "ipython",
    "version": 3
   },
   "file_extension": ".py",
   "mimetype": "text/x-python",
   "name": "python",
   "nbconvert_exporter": "python",
   "pygments_lexer": "ipython3",
   "version": "3.7.3"
  }
 },
 "nbformat": 4,
 "nbformat_minor": 2
}
