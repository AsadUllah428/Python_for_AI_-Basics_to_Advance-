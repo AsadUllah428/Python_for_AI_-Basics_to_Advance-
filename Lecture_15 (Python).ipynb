{
 "cells": [
  {
   "cell_type": "markdown",
   "metadata": {},
   "source": [
    "# Mastering Python Functions: A Comprehensive Guide\n",
    "\n",
    "Welcome! Functions are the building blocks of Python programs, allowing you to organize your code into reusable and manageable units. This lecture will walk you through the essential concepts of defining and using functions, from the simplest form to more advanced techniques like recursion and higher-order functions.\n",
    "\n",
    "**Why use functions?**\n",
    "- They help you avoid repeating code (DRY principle).\n",
    "- Functions make your code easier to read, test, and maintain.\n",
    "- You can break complex problems into smaller, manageable pieces.\n",
    "\n",
    "Let's dive in and see how functions work in Python!"
   ]
  },
  {
   "cell_type": "markdown",
   "metadata": {},
   "source": [
    "## 1. Defining and Calling Simple Functions\n",
    "\n",
    "A function is a block of code that runs only when it's called. You define a function using the `def` keyword, followed by the function name, parentheses `()`, and a colon `:`. The code inside the function is indented.\n",
    "\n",
    "**Key points:**\n",
    "- The function does nothing until you call it by its name.\n",
    "- You can call a function as many times as you want, anywhere in your code.\n",
    "- Functions help you organize your code and avoid repetition."
   ]
  },
  {
   "cell_type": "code",
   "execution_count": 1,
   "metadata": {},
   "outputs": [
    {
     "name": "stdout",
     "output_type": "stream",
     "text": [
      "Hello! Welcome to the lecture on Python functions.\n"
     ]
    }
   ],
   "source": [
    "# This function, `greet_user`, prints a welcoming message when called.\n",
    "def greet_user():\n",
    "    # This line is the body of the function. It will only run when the function is called.\n",
    "    print(\"Hello! Welcome to the lecture on Python functions.\")\n",
    "\n",
    "# To execute the code inside the function, you must call it by its name.\n",
    "greet_user()  # This will print the welcome message above"
   ]
  },
  {
   "cell_type": "markdown",
   "metadata": {},
   "source": [
    "## 2. Passing Information with Arguments\n",
    "\n",
    "Functions can receive data as arguments, making them more flexible. Arguments are specified inside the parentheses in the function definition. The following example shows how to use a single argument to personalize a greeting.\n",
    "\n",
    "**Why use arguments?**\n",
    "- Arguments let you pass information into a function, so it can work with different data each time you call it.\n",
    "- This makes your functions much more powerful and reusable."
   ]
  },
  {
   "cell_type": "code",
   "execution_count": 2,
   "metadata": {},
   "outputs": [
    {
     "name": "stdout",
     "output_type": "stream",
     "text": [
      "Hello, Alex! It's great to have you here.\n",
      "Hello, Sarah! It's great to have you here.\n",
      "Hello, Jordan! It's great to have you here.\n"
     ]
    }
   ],
   "source": [
    "# `name` is the argument that will hold the value passed into the function.\n",
    "def personalized_greeting(name):\n",
    "    # This function prints a personalized greeting using the provided name.\n",
    "    print(f\"Hello, {name}! It's great to have you here.\")\n",
    "\n",
    "# Call the function and provide a value for the `name` argument.\n",
    "personalized_greeting(\"Alex\")   # Output: Hello, Alex! It's great to have you here.\n",
    "personalized_greeting(\"Sarah\")  # Output: Hello, Sarah! It's great to have you here.\n",
    "personalized_greeting(\"Jordan\") # Output: Hello, Jordan! It's great to have you here."
   ]
  },
  {
   "cell_type": "markdown",
   "metadata": {},
   "source": [
    "--- \n",
    "\n",
    "### **2.1 Multiple Positional Arguments**\n",
    "\n",
    "You can pass multiple arguments by separating them with a comma. The order of the arguments matters; they are matched by their position."
   ]
  },
  {
   "cell_type": "code",
   "execution_count": 3,
   "metadata": {},
   "outputs": [
    {
     "name": "stdout",
     "output_type": "stream",
     "text": [
      "A rectangle with length 5 and width 8 has an area of 40.\n"
     ]
    }
   ],
   "source": [
    "# This function calculates the area of a rectangle using two positional arguments.\n",
    "def calculate_area(length, width):\n",
    "    area = length * width\n",
    "    print(f\"A rectangle with length {length} and width {width} has an area of {area}.\")\n",
    "\n",
    "# The values are assigned based on their position: 5 goes to `length`, and 8 goes to `width`.\n",
    "calculate_area(5, 8)"
   ]
  },
  {
   "cell_type": "markdown",
   "metadata": {},
   "source": [
    "--- \n",
    "\n",
    "### **2.2 Default Argument Values**\n",
    "\n",
    "You can assign a default value to an argument. If the function is called without a value for that argument, the default value is used."
   ]
  },
  {
   "cell_type": "code",
   "execution_count": 4,
   "metadata": {},
   "outputs": [
    {
     "name": "stdout",
     "output_type": "stream",
     "text": [
      "Hello, Emily! Are you traveling to London?\n",
      "Hello, Lucas! Are you traveling to Paris?\n"
     ]
    }
   ],
   "source": [
    "# The `city` argument has a default value of \"Paris\".\n",
    "def check_destination(name, city=\"Paris\"):\n",
    "    print(f\"Hello, {name}! Are you traveling to {city}?\")\n",
    "\n",
    "# Call with a specific city\n",
    "check_destination(\"Emily\", \"London\")\n",
    "\n",
    "# Call without a city, so the default value is used\n",
    "check_destination(\"Lucas\")"
   ]
  },
  {
   "cell_type": "markdown",
   "metadata": {},
   "source": [
    "## 3. Working with Variable Number of Arguments\n",
    "\n",
    "Sometimes you don't know how many arguments a function will receive. Python provides special syntax for handling this."
   ]
  },
  {
   "cell_type": "markdown",
   "metadata": {},
   "source": [
    "--- \n",
    "\n",
    "### **3.1 Arbitrary Positional Arguments (`*args`)**\n",
    "\n",
    "If you prefix a parameter with `*`, it will collect all positional arguments passed to the function into a tuple. The name `args` is a convention, but you can use any name you like."
   ]
  },
  {
   "cell_type": "code",
   "execution_count": 5,
   "metadata": {},
   "outputs": [
    {
     "name": "stdout",
     "output_type": "stream",
     "text": [
      "The sum of the numbers (1, 2, 3) is: 6\n",
      "The sum of the numbers (10, 20, 30, 40, 50) is: 150\n"
     ]
    }
   ],
   "source": [
    "# The `*numbers` parameter will hold all the values in a tuple.\n",
    "def calculate_sum(*numbers):\n",
    "    total = sum(numbers)\n",
    "    print(f\"The sum of the numbers {numbers} is: {total}\")\n",
    "\n",
    "calculate_sum(1, 2, 3)\n",
    "calculate_sum(10, 20, 30, 40, 50)"
   ]
  },
  {
   "cell_type": "markdown",
   "metadata": {},
   "source": [
    "--- \n",
    "\n",
    "### **3.2 Arbitrary Keyword Arguments (`**kwargs`)**\n",
    "\n",
    "If you prefix a parameter with `**`, it will collect all keyword arguments into a dictionary. This is useful for functions that can handle a variable number of named parameters."
   ]
  },
  {
   "cell_type": "code",
   "execution_count": 6,
   "metadata": {},
   "outputs": [
    {
     "name": "stdout",
     "output_type": "stream",
     "text": [
      "--- User Profile ---\n",
      "Name: Jane\n",
      "Age: 30\n",
      "Profession: Developer\n",
      "--- User Profile ---\n",
      "Username: j_doe\n",
      "Location: New York\n"
     ]
    }
   ],
   "source": [
    "# The `**user_info` parameter collects named arguments into a dictionary.\n",
    "def show_profile(**user_info):\n",
    "    print(\"--- User Profile ---\")\n",
    "    for key, value in user_info.items():\n",
    "        print(f\"{key.capitalize()}: {value}\")\n",
    "\n",
    "show_profile(name=\"Jane\", age=30, profession=\"Developer\")\n",
    "\n",
    "# The dictionary can handle different keys for each function call.\n",
    "show_profile(username=\"j_doe\", location=\"New York\")"
   ]
  },
  {
   "cell_type": "markdown",
   "metadata": {},
   "source": [
    "## 4. The `return` Statement\n",
    "\n",
    "The `return` statement allows a function to send a value back to the code that called it. This is crucial for using the results of a function in other parts of your program."
   ]
  },
  {
   "cell_type": "code",
   "execution_count": 7,
   "metadata": {},
   "outputs": [
    {
     "name": "stdout",
     "output_type": "stream",
     "text": [
      "The circumference of a circle with a radius of 5 is 31.42\n"
     ]
    }
   ],
   "source": [
    "# This function calculates the circumference of a circle and returns the result.\n",
    "import math\n",
    "\n",
    "def get_circumference(radius):\n",
    "    circumference = 2 * math.pi * radius\n",
    "    return circumference\n",
    "\n",
    "# The returned value is stored in a variable.\n",
    "circle_radius = 5\n",
    "my_circle_circumference = get_circumference(circle_radius)\n",
    "print(f\"The circumference of a circle with a radius of {circle_radius} is {my_circle_circumference:.2f}\")"
   ]
  },
  {
   "cell_type": "markdown",
   "metadata": {},
   "source": [
    "## 5. Recursion\n",
    "\n",
    "Recursion is a technique where a function calls itself, often with a simpler version of the original problem. A classic example is calculating the factorial of a number."
   ]
  },
  {
   "cell_type": "code",
   "execution_count": 8,
   "metadata": {},
   "outputs": [
    {
     "name": "stdout",
     "output_type": "stream",
     "text": [
      "Calculating factorial of 5...\n",
      "The factorial of 5 is: 120\n",
      "\n",
      "Calculating factorial of 7...\n",
      "The factorial of 7 is: 5040\n"
     ]
    }
   ],
   "source": [
    "# The base case is when k equals 0 or 1, which stops the recursion.\n",
    "def factorial(k):\n",
    "    if k <= 1:\n",
    "        return 1\n",
    "    else:\n",
    "        # The function calls itself with a smaller value.\n",
    "        return k * factorial(k - 1)\n",
    "\n",
    "print(\"Calculating factorial of 5...\")\n",
    "result = factorial(5)\n",
    "print(f\"The factorial of 5 is: {result}\")\n",
    "\n",
    "print(\"\\nCalculating factorial of 7...\")\n",
    "result = factorial(7)\n",
    "print(f\"The factorial of 7 is: {result}\")"
   ]
  },
  {
   "cell_type": "markdown",
   "metadata": {},
   "source": [
    "## 6. Anonymous Functions (Lambda)\n",
    "\n",
    "Lambda functions are small, anonymous functions defined with the `lambda` keyword. They can take any number of arguments but can only have one expression."
   ]
  },
  {
   "cell_type": "code",
   "execution_count": 9,
   "metadata": {},
   "outputs": [
    {
     "name": "stdout",
     "output_type": "stream",
     "text": [
      "Result of 10 + 5 is: 15\n",
      "Result of 2 * 3 * 4 is: 24\n"
     ]
    }
   ],
   "source": [
    "# A lambda function to add 5 to a number.\n",
    "add_five = lambda x: x + 5\n",
    "print(f\"Result of 10 + 5 is: {add_five(10)}\")\n",
    "\n",
    "# A lambda function with multiple arguments.\n",
    "multiply_numbers = lambda a, b, c: a * b * c\n",
    "print(f\"Result of 2 * 3 * 4 is: {multiply_numbers(2, 3, 4)}\")"
   ]
  },
  {
   "cell_type": "markdown",
   "metadata": {},
   "source": [
    "## 7. Higher-Order Functions: `map()` and `filter()`\n",
    "\n",
    "Higher-order functions are functions that take one or more functions as arguments or return a function as a result."
   ]
  },
  {
   "cell_type": "markdown",
   "metadata": {},
   "source": [
    "--- \n",
    "\n",
    "### **7.1 The `map()` Function**\n",
    "\n",
    "The `map()` function applies a given function to every item of an iterable and returns a `map` object (which is an iterator). This is often a more efficient and readable way to perform operations on a list."
   ]
  },
  {
   "cell_type": "code",
   "execution_count": 10,
   "metadata": {},
   "outputs": [
    {
     "name": "stdout",
     "output_type": "stream",
     "text": [
      "Celsius temperatures: [0, 10, 20, 30, 40]\n",
      "Fahrenheit temperatures: [32.0, 50.0, 68.0, 86.0, 104.0]\n"
     ]
    }
   ],
   "source": [
    "# We'll use a lambda function with map to convert Celsius to Fahrenheit.\n",
    "celsius_temps = [0, 10, 20, 30, 40]\n",
    "\n",
    "# Formula: (9/5) * C + 32\n",
    "fahrenheit_temps = map(lambda c: (9/5) * c + 32, celsius_temps)\n",
    "\n",
    "print(f\"Celsius temperatures: {celsius_temps}\")\n",
    "print(f\"Fahrenheit temperatures: {list(fahrenheit_temps)}\")"
   ]
  },
  {
   "cell_type": "markdown",
   "metadata": {},
   "source": [
    "--- \n",
    "\n",
    "### **7.2 The `filter()` Function**\n",
    "\n",
    "The `filter()` function constructs an iterator from elements of an iterable for which a function returns `True`. It's a clean way to select a subset of items based on a condition."
   ]
  },
  {
   "cell_type": "code",
   "execution_count": 11,
   "metadata": {},
   "outputs": [
    {
     "name": "stdout",
     "output_type": "stream",
     "text": [
      "Original words: ['hello', 'world', 'python', 'programming', 'is', 'fun']\n",
      "Words with more than 5 characters: ['python', 'programming']\n"
     ]
    }
   ],
   "source": [
    "# This function checks if a word has a length greater than 5.\n",
    "def is_long_word(word):\n",
    "    return len(word) > 5\n",
    "\n",
    "sentence_words = [\"hello\", \"world\", \"python\", \"programming\", \"is\", \"fun\"]\n",
    "\n",
    "# Filter the list to find only the long words.\n",
    "long_words = filter(is_long_word, sentence_words)\n",
    "\n",
    "print(f\"Original words: {sentence_words}\")\n",
    "print(f\"Words with more than 5 characters: {list(long_words)}\")"
   ]
  }
 ],
 "metadata": {
  "kernelspec": {
   "display_name": "base",
   "language": "python",
   "name": "python3"
  },
  "language_info": {
   "codemirror_mode": {
    "name": "ipython",
    "version": 3
   },
   "file_extension": ".py",
   "mimetype": "text/x-python",
   "name": "python",
   "nbconvert_exporter": "python",
   "pygments_lexer": "ipython3",
   "version": "3.12.9"
  }
 },
 "nbformat": 4,
 "nbformat_minor": 2
}
