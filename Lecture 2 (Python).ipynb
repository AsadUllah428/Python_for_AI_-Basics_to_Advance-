{
 "cells": [
  {
   "cell_type": "markdown",
   "id": "486212c9",
   "metadata": {},
   "source": [
    "# Python Numbers and Strings\n",
    "A beginner-friendly, detailed lecture on Python numbers and strings."
   ]
  },
  {
   "cell_type": "markdown",
   "id": "96f6bd05",
   "metadata": {},
   "source": [
    "## Python Numbers\n",
    "Python supports several numeric types. We'll explore integers, floats, complex numbers, type conversion, and generating random numbers."
   ]
  },
  {
   "cell_type": "markdown",
   "id": "bec0ded1",
   "metadata": {},
   "source": [
    "### Integer (int)\n",
    "- **Definition:** Whole numbers without a fractional part.\n",
    "- **Usage:** Counting objects, indexing, loops."
   ]
  },
  {
   "cell_type": "code",
   "execution_count": 1,
   "id": "75ee332a",
   "metadata": {},
   "outputs": [
    {
     "name": "stdout",
     "output_type": "stream",
     "text": [
      "Count: 10\n",
      "10 + 5 = 15\n"
     ]
    }
   ],
   "source": [
    "# Example: Integer operations\n",
    "count = 10  # an integer\n",
    "print(\"Count:\", count)\n",
    "\n",
    "# Arithmetic with ints\n",
    "sum_result = count + 5\n",
    "print(\"10 + 5 =\", sum_result)"
   ]
  },
  {
   "cell_type": "markdown",
   "id": "d24cc442",
   "metadata": {},
   "source": [
    "### Float (float)\n",
    "- **Definition:** Numbers with a decimal point.\n",
    "- **Usage:** Measurements, precise calculations."
   ]
  },
  {
   "cell_type": "code",
   "execution_count": 2,
   "id": "52176a87",
   "metadata": {},
   "outputs": [
    {
     "name": "stdout",
     "output_type": "stream",
     "text": [
      "Price with tax: 21.3893\n"
     ]
    }
   ],
   "source": [
    "# Example: Float operations\n",
    "price = 19.99  # a float\n",
    "tax_rate = 0.07\n",
    "price_with_tax = price * (1 + tax_rate)\n",
    "print(f\"Price with tax: {price_with_tax}\")"
   ]
  },
  {
   "cell_type": "markdown",
   "id": "8e3e3736",
   "metadata": {},
   "source": [
    "### Complex (complex)\n",
    "- **Definition:** Numbers with a real and imaginary part (e.g., `3 + 4j`)."
   ]
  },
  {
   "cell_type": "code",
   "execution_count": 3,
   "id": "5e10ad9d",
   "metadata": {},
   "outputs": [
    {
     "name": "stdout",
     "output_type": "stream",
     "text": [
      "Real part: 3.0\n",
      "Imaginary part: 4.0\n",
      "Magnitude: 5.0\n"
     ]
    }
   ],
   "source": [
    "# Example: Complex number\n",
    "z = 3 + 4j\n",
    "print(\"Real part:\", z.real)\n",
    "print(\"Imaginary part:\", z.imag)\n",
    "print(\"Magnitude:\", abs(z))"
   ]
  },
  {
   "cell_type": "markdown",
   "id": "adb8f619",
   "metadata": {},
   "source": [
    "### Type Conversion\n",
    "Convert between number types using `int()`, `float()`, and `complex()`."
   ]
  },
  {
   "cell_type": "code",
   "execution_count": 4,
   "id": "594db7ea",
   "metadata": {},
   "outputs": [
    {
     "name": "stdout",
     "output_type": "stream",
     "text": [
      "int(7.9) -> 7\n",
      "float(5) -> 5.0\n"
     ]
    }
   ],
   "source": [
    "# Example: Converting types\n",
    "\n",
    "# Convert float to int (drops decimal)\n",
    "value = 7.9\n",
    "int_value = int(value)\n",
    "print(\"int(7.9) ->\", int_value)\n",
    "\n",
    "# Convert int to float\n",
    "float_value = float(5)\n",
    "print(\"float(5) ->\", float_value)"
   ]
  },
  {
   "cell_type": "markdown",
   "id": "c3e7d99e",
   "metadata": {},
   "source": [
    "### Random Numbers\n",
    "Use the `random` module to generate random ints or floats."
   ]
  },
  {
   "cell_type": "code",
   "execution_count": 5,
   "id": "df40956c",
   "metadata": {},
   "outputs": [
    {
     "name": "stdout",
     "output_type": "stream",
     "text": [
      "Dice roll: 5\n",
      "Random float: 0.947747114613714\n"
     ]
    }
   ],
   "source": [
    "import random\n",
    "\n",
    "# Random integer between 1 and 10\n",
    "dice_roll = random.randint(1, 6)\n",
    "print(\"Dice roll:\", dice_roll)\n",
    "\n",
    "# Random float between 0 and 1\n",
    "rand_float = random.random()\n",
    "print(\"Random float:\", rand_float)"
   ]
  },
  {
   "cell_type": "markdown",
   "id": "16e1f6f6",
   "metadata": {},
   "source": [
    "## Strings\n",
    "Strings are sequences of characters used to represent text. Let's learn how to assign, access, modify, and combine them."
   ]
  },
  {
   "cell_type": "markdown",
   "id": "bbdb8d95",
   "metadata": {},
   "source": [
    "### Assigning Strings\n",
    "Assign text to variables using quotes (`'` or `\"`)."
   ]
  },
  {
   "cell_type": "code",
   "execution_count": 6,
   "id": "131b0435",
   "metadata": {},
   "outputs": [
    {
     "name": "stdout",
     "output_type": "stream",
     "text": [
      "Hello, World!\n",
      "Alice\n"
     ]
    }
   ],
   "source": [
    "# Example: Assigning strings\n",
    "greeting = \"Hello, World!\"\n",
    "name = 'Alice'\n",
    "print(greeting)\n",
    "print(name)"
   ]
  },
  {
   "cell_type": "markdown",
   "id": "47e0b4a1",
   "metadata": {},
   "source": [
    "### Accessing Characters\n",
    "Use square brackets `[]` with an index to get a character (0-based index)."
   ]
  },
  {
   "cell_type": "code",
   "execution_count": 7,
   "id": "7157131f",
   "metadata": {},
   "outputs": [
    {
     "name": "stdout",
     "output_type": "stream",
     "text": [
      "First letter: P\n",
      "Last letter: n\n"
     ]
    }
   ],
   "source": [
    "word = \"Python\"\n",
    "first_letter = word[0]\n",
    "print(\"First letter:\", first_letter)\n",
    "last_letter = word[-1]\n",
    "print(\"Last letter:\", last_letter)"
   ]
  },
  {
   "cell_type": "markdown",
   "id": "d729df6f",
   "metadata": {},
   "source": [
    "### Looping Through a String\n",
    "You can iterate over each character."
   ]
  },
  {
   "cell_type": "code",
   "execution_count": 8,
   "id": "17e4d319",
   "metadata": {},
   "outputs": [
    {
     "name": "stdout",
     "output_type": "stream",
     "text": [
      "A\n",
      "p\n",
      "p\n",
      "l\n",
      "e\n"
     ]
    }
   ],
   "source": [
    "for char in \"Apple\":\n",
    "    print(char)"
   ]
  },
  {
   "cell_type": "markdown",
   "id": "c5a86611",
   "metadata": {},
   "source": [
    "### Checking for Substrings\n",
    "Use `in` to test if a substring exists in a string."
   ]
  },
  {
   "cell_type": "code",
   "execution_count": 9,
   "id": "3ae34e2e",
   "metadata": {},
   "outputs": [
    {
     "name": "stdout",
     "output_type": "stream",
     "text": [
      "Contains 'love'?: True\n"
     ]
    }
   ],
   "source": [
    "text = \"I love programming!\"\n",
    "contains_love = \"love\" in text\n",
    "print(\"Contains 'love'?:\", contains_love)"
   ]
  },
  {
   "cell_type": "markdown",
   "id": "082facee",
   "metadata": {},
   "source": [
    "### String Slicing\n",
    "Extract parts of a string using `start:stop:step` within `[]`."
   ]
  },
  {
   "cell_type": "markdown",
   "id": "7579f9fb",
   "metadata": {},
   "source": [
    "#### Slice from the Start\n",
    "Use `[:stop]` to get characters from the beginning up to (but not including) `stop`."
   ]
  },
  {
   "cell_type": "code",
   "execution_count": 10,
   "id": "fffc2166",
   "metadata": {},
   "outputs": [
    {
     "name": "stdout",
     "output_type": "stream",
     "text": [
      "Hello\n"
     ]
    }
   ],
   "source": [
    "text = \"Hello, Python!\"\n",
    "print(text[:5])  # 'Hello'"
   ]
  },
  {
   "cell_type": "markdown",
   "id": "e07ce93a",
   "metadata": {},
   "source": [
    "#### Slice to the End\n",
    "Use `[start:]` to get from `start` to the end."
   ]
  },
  {
   "cell_type": "code",
   "execution_count": 11,
   "id": "abca4422",
   "metadata": {},
   "outputs": [
    {
     "name": "stdout",
     "output_type": "stream",
     "text": [
      "Python!\n"
     ]
    }
   ],
   "source": [
    "print(text[7:])  # 'Python!'"
   ]
  },
  {
   "cell_type": "markdown",
   "id": "5c60c81d",
   "metadata": {},
   "source": [
    "#### Negative Indexing\n",
    "Use negative numbers to index from the end."
   ]
  },
  {
   "cell_type": "code",
   "execution_count": 12,
   "id": "ed29fcc9",
   "metadata": {},
   "outputs": [
    {
     "name": "stdout",
     "output_type": "stream",
     "text": [
      "Python\n"
     ]
    }
   ],
   "source": [
    "print(text[-7:-1])  # 'Python'"
   ]
  },
  {
   "cell_type": "markdown",
   "id": "c4ffb260",
   "metadata": {},
   "source": [
    "### Modifying Strings\n",
    "Strings are immutable; methods return new strings."
   ]
  },
  {
   "cell_type": "code",
   "execution_count": 13,
   "id": "d78a5dff",
   "metadata": {},
   "outputs": [
    {
     "name": "stdout",
     "output_type": "stream",
     "text": [
      "Original: '  Hello, World!  '\n",
      "Stripped: 'Hello, World!'\n",
      "Replaced: Hello, Python!\n"
     ]
    }
   ],
   "source": [
    "original = \"  Hello, World!  \"\n",
    "print(\"Original:\", repr(original))\n",
    "\n",
    "# strip whitespace\n",
    "stripped = original.strip()\n",
    "print(\"Stripped:\", repr(stripped))\n",
    "\n",
    "# replace text\n",
    "replaced = stripped.replace(\"World\", \"Python\")\n",
    "print(\"Replaced:\", replaced)"
   ]
  },
  {
   "cell_type": "markdown",
   "id": "6e9bab2c",
   "metadata": {},
   "source": [
    "### Splitting and Joining\n",
    "- **Split:** `split()` breaks a string into a list.\n",
    "- **Join:** `join()` combines a list into a string."
   ]
  },
  {
   "cell_type": "code",
   "execution_count": 14,
   "id": "eb1942d1",
   "metadata": {},
   "outputs": [
    {
     "name": "stdout",
     "output_type": "stream",
     "text": [
      "['one', 'two', 'three']\n",
      "one-two-three\n"
     ]
    }
   ],
   "source": [
    "sentence = \"one, two, three\"\n",
    "words = sentence.split(\", \")\n",
    "print(words)\n",
    "\n",
    "joined = \"-\".join(words)\n",
    "print(joined)"
   ]
  },
  {
   "cell_type": "markdown",
   "id": "9f089ec1",
   "metadata": {},
   "source": [
    "### Concatenation\n",
    "Combine strings with `+` or by placing them side by side in f-strings."
   ]
  },
  {
   "cell_type": "code",
   "execution_count": 15,
   "id": "e386b111",
   "metadata": {},
   "outputs": [
    {
     "name": "stdout",
     "output_type": "stream",
     "text": [
      "Good Morning\n",
      "Good, Bob!\n"
     ]
    }
   ],
   "source": [
    "first = \"Good\"\n",
    "second = \"Morning\"\n",
    "print(first + \" \" + second)\n",
    "\n",
    "# Using f-strings\n",
    "name = \"Bob\"\n",
    "message = f\"{first}, {name}!\"\n",
    "print(message)"
   ]
  },
  {
   "cell_type": "markdown",
   "id": "c65492a2",
   "metadata": {},
   "source": [
    "### Formatting Strings\n",
    "Insert variables into strings with f-strings."
   ]
  },
  {
   "cell_type": "code",
   "execution_count": 16,
   "id": "536b3080",
   "metadata": {},
   "outputs": [
    {
     "name": "stdout",
     "output_type": "stream",
     "text": [
      "I am 25 years old.\n"
     ]
    }
   ],
   "source": [
    "age = 25\n",
    "print(f\"I am {age} years old.\")"
   ]
  },
  {
   "cell_type": "markdown",
   "id": "68951abb",
   "metadata": {},
   "source": [
    "### Common String Methods\n",
    "- `len(str)`: length of string\n",
    "- `str.upper()`: uppercase\n",
    "- `str.lower()`: lowercase\n",
    "- `str.count(sub)`: count occurrences\n",
    "- `str.find(sub)`: index of first occurrence"
   ]
  },
  {
   "cell_type": "code",
   "execution_count": 17,
   "id": "88e54093",
   "metadata": {},
   "outputs": [
    {
     "name": "stdout",
     "output_type": "stream",
     "text": [
      "Length: 6\n",
      "Uppercase: BANANA\n",
      "Count of 'a': 3\n",
      "Index of 'n': 2\n"
     ]
    }
   ],
   "source": [
    "text = \"banana\"\n",
    "print(\"Length:\", len(text))\n",
    "print(\"Uppercase:\", text.upper())\n",
    "print(\"Count of 'a':\", text.count('a'))\n",
    "print(\"Index of 'n':\", text.find('n'))"
   ]
  },
  {
   "cell_type": "markdown",
   "id": "47721eac",
   "metadata": {},
   "source": [
    "## Exercises\n",
    "Try these to practice!\n",
    "1. Assign your name to a variable and print a greeting.\n",
    "2. Take a string and print its first and last characters.\n",
    "3. Check if the word 'Python' is in a given sentence.\n",
    "4. Slice and print the word 'Programming' to get 'Pro'.\n",
    "5. Replace 'apple' with 'orange' in the string 'apple, banana, cherry'."
   ]
  }
 ],
 "metadata": {
  "kernelspec": {
   "display_name": "base",
   "language": "python",
   "name": "python3"
  },
  "language_info": {
   "codemirror_mode": {
    "name": "ipython",
    "version": 3
   },
   "file_extension": ".py",
   "mimetype": "text/x-python",
   "name": "python",
   "nbconvert_exporter": "python",
   "pygments_lexer": "ipython3",
   "version": "3.12.9"
  }
 },
 "nbformat": 4,
 "nbformat_minor": 5
}
