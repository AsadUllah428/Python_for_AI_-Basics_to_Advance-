{
 "cells": [
  {
   "cell_type": "markdown",
   "metadata": {},
   "source": [
    "# Looping with `while`"
   ]
  },
  {
   "cell_type": "markdown",
   "metadata": {},
   "source": [
    "A `while` loop is a fundamental control flow statement that allows you to repeatedly execute a block of code as long as a specified condition remains true. It's perfect for situations where you don't know the exact number of iterations ahead of time."
   ]
  },
  {
   "cell_type": "code",
   "execution_count": 1,
   "metadata": {},
   "outputs": [
    {
     "name": "stdout",
     "output_type": "stream",
     "text": [
      "2\n",
      "4\n",
      "6\n",
      "8\n",
      "10\n"
     ]
    }
   ],
   "source": [
    "# Let's print the even numbers from 2 to 10\n",
    "number = 2\n",
    "while number <= 10:\n",
    "    print(number)\n",
    "    number += 2"
   ]
  },
  {
   "cell_type": "markdown",
   "metadata": {},
   "source": [
    "---\n",
    "## Exiting Loops with `break`\n",
    "The `break` statement gives you a way to exit a `while` loop prematurely, even if the loop's condition is still true. This is useful for stopping a loop when a specific event occurs."
   ]
  },
  {
   "cell_type": "code",
   "execution_count": 2,
   "metadata": {},
   "outputs": [
    {
     "name": "stdout",
     "output_type": "stream",
     "text": [
      "The current count is 1\n",
      "The current count is 2\n",
      "The current count is 3\n",
      "The current count is 4\n",
      "The current count is 5\n",
      "The current count is 6\n",
      "The current count is 7\n",
      "The current count is 8\n",
      "The current count is 9\n",
      "The current count is 10\n",
      "The current count is 11\n",
      "The current count is 12\n",
      "The current count is 13\n",
      "The current count is 14\n",
      "The current count is 15\n",
      "We've reached 15, so let's stop!\n"
     ]
    }
   ],
   "source": [
    "# We can use `break` to stop counting at a certain point\n",
    "count = 1\n",
    "while count <= 20:\n",
    "    print(f\"The current count is {count}\")\n",
    "    if count == 15:\n",
    "        print(\"We've reached 15, so let's stop!\")\n",
    "        break\n",
    "    count += 1"
   ]
  },
  {
   "cell_type": "markdown",
   "metadata": {},
   "source": [
    "---\n",
    "## Skipping Iterations with `continue`\n",
    "The `continue` statement lets you skip the rest of the current iteration and jump straight to the next one. This is helpful when you want to bypass certain cases within a loop without ending the loop entirely."
   ]
  },
  {
   "cell_type": "code",
   "execution_count": 3,
   "metadata": {},
   "outputs": [
    {
     "name": "stdout",
     "output_type": "stream",
     "text": [
      "1\n",
      "2\n",
      "4\n",
      "5\n"
     ]
    }
   ],
   "source": [
    "# Let's print numbers from 1 to 5, but skip the number 3\n",
    "num = 0\n",
    "while num < 5:\n",
    "    num += 1\n",
    "    if num == 3:\n",
    "        continue\n",
    "    print(num)"
   ]
  },
  {
   "cell_type": "markdown",
   "metadata": {},
   "source": [
    "---\n",
    "## The `else` Clause with `while`\n",
    "A `while` loop can have an optional `else` block. The code inside this block runs only after the loop finishes normally, without being terminated by a `break` statement."
   ]
  },
  {
   "cell_type": "code",
   "execution_count": 4,
   "metadata": {},
   "outputs": [
    {
     "name": "stdout",
     "output_type": "stream",
     "text": [
      "x is currently 0\n",
      "x is currently 1\n",
      "x is currently 2\n",
      "The loop has finished its work!\n",
      "\n",
      "---\n",
      "y is currently 0\n",
      "y is currently 1\n"
     ]
    }
   ],
   "source": [
    "# This loop will complete, so the else block will execute\n",
    "x = 0\n",
    "while x < 3:\n",
    "    print(f\"x is currently {x}\")\n",
    "    x += 1\n",
    "else:\n",
    "    print(\"The loop has finished its work!\")\n",
    "\n",
    "print(\"\\n---\")\n",
    "\n",
    "# This loop uses a break statement, so the else block is skipped\n",
    "y = 0\n",
    "while y < 3:\n",
    "    print(f\"y is currently {y}\")\n",
    "    y += 1\n",
    "    if y == 2:\n",
    "        break\n",
    "else:\n",
    "    print(\"You won't see this message.\")"
   ]
  },
  {
   "cell_type": "markdown",
   "metadata": {},
   "source": [
    "---\n",
    "## The Peril of Infinite Loops\n",
    "An **infinite loop** occurs when the loop's condition never becomes `False`, causing the program to run forever. It's a common mistake, so always make sure your condition will eventually change. However, some applications, like server programs that wait for incoming connections, are designed to run in an infinite loop."
   ]
  },
  {
   "cell_type": "code",
   "execution_count": 5,
   "metadata": {},
   "outputs": [
    {
     "name": "stdout",
     "output_type": "stream",
     "text": [
      "You typed: hi\n",
      "You typed: quit\n"
     ]
    }
   ],
   "source": [
    "# Be careful! This loop will run forever until you manually stop it.\n",
    "is_active = True\n",
    "while is_active:\n",
    "    user_input = input(\"Type something (or 'quit' to exit): \")\n",
    "    if user_input.lower() == 'quit':\n",
    "        is_active = False\n",
    "    print(f\"You typed: {user_input}\")"
   ]
  },
  {
   "cell_type": "markdown",
   "metadata": {},
   "source": [
    "---\n",
    "## Practical Applications of `while` Loops"
   ]
  },
  {
   "cell_type": "markdown",
   "metadata": {},
   "source": [
    "### Finding the GCD (Greatest Common Divisor) of Two Numbers\n",
    "The Euclidean algorithm for finding the GCD is a classic example of a task well-suited for a `while` loop. It repeatedly divides the larger number by the smaller number until the remainder is 0. The last non-zero remainder is the GCD."
   ]
  },
  {
   "cell_type": "code",
   "execution_count": 6,
   "metadata": {},
   "outputs": [
    {
     "name": "stdout",
     "output_type": "stream",
     "text": [
      "The greatest common divisor of 2 and 1 is 1.\n"
     ]
    }
   ],
   "source": [
    "# Let's find the GCD of two numbers using the Euclidean algorithm\n",
    "num1 = int(input(\"Enter the first number: \"))\n",
    "num2 = int(input(\"Enter the second number: \"))\n",
    "\n",
    "# Ensure num1 is the larger number for clarity\n",
    "if num2 > num1:\n",
    "    num1, num2 = num2, num1\n",
    "\n",
    "temp_num1 = num1\n",
    "temp_num2 = num2\n",
    "\n",
    "while temp_num2 != 0:\n",
    "    remainder = temp_num1 % temp_num2\n",
    "    temp_num1 = temp_num2\n",
    "    temp_num2 = remainder\n",
    "\n",
    "print(f\"The greatest common divisor of {num1} and {num2} is {temp_num1}.\")"
   ]
  },
  {
   "cell_type": "markdown",
   "metadata": {},
   "source": [
    "### Creating an Interactive User Menu\n",
    "A `while` loop is perfect for building a simple menu that keeps running until the user decides to quit. This pattern is common in command-line applications."
   ]
  },
  {
   "cell_type": "code",
   "execution_count": 7,
   "metadata": {},
   "outputs": [
    {
     "name": "stdout",
     "output_type": "stream",
     "text": [
      "Welcome to the Simple Menu!\n",
      "\n",
      "Choose an option:\n",
      "1. Say Hello\n",
      "2. Show current time\n",
      "q. Quit\n",
      "Hello there!\n",
      "\n",
      "Choose an option:\n",
      "1. Say Hello\n",
      "2. Show current time\n",
      "q. Quit\n",
      "The current time is 13:03:01\n",
      "\n",
      "Choose an option:\n",
      "1. Say Hello\n",
      "2. Show current time\n",
      "q. Quit\n",
      "Goodbye!\n"
     ]
    }
   ],
   "source": [
    "# This loop will keep asking for user input until they type 'q'\n",
    "print(\"Welcome to the Simple Menu!\\n\")\n",
    "is_running = True\n",
    "while is_running:\n",
    "    print(\"Choose an option:\")\n",
    "    print(\"1. Say Hello\")\n",
    "    print(\"2. Show current time\")\n",
    "    print(\"q. Quit\")\n",
    "    \n",
    "    choice = input(\"> \")\n",
    "    \n",
    "    if choice == '1':\n",
    "        print(\"Hello there!\\n\")\n",
    "    elif choice == '2':\n",
    "        import datetime\n",
    "        print(f\"The current time is {datetime.datetime.now().strftime('%H:%M:%S')}\\n\")\n",
    "    elif choice.lower() == 'q':\n",
    "        is_running = False\n",
    "        print(\"Goodbye!\")\n",
    "    else:\n",
    "        print(\"Invalid choice. Please try again.\\n\")"
   ]
  },
  {
   "cell_type": "markdown",
   "metadata": {},
   "source": [
    "### Calculating the Factorial of a Number\n",
    "The factorial of a non-negative integer 'n' is the product of all positive integers less than or equal to 'n'. We can compute this using a `while` loop."
   ]
  },
  {
   "cell_type": "code",
   "execution_count": 8,
   "metadata": {},
   "outputs": [
    {
     "name": "stdout",
     "output_type": "stream",
     "text": [
      "The factorial of 5 is 120.\n"
     ]
    }
   ],
   "source": [
    "# Calculate the factorial of a number provided by the user\n",
    "input_num = int(input(\"Enter a non-negative number: \"))\n",
    "factorial = 1\n",
    "current_num = input_num\n",
    "\n",
    "if input_num < 0:\n",
    "    print(\"Factorial is not defined for negative numbers.\")\n",
    "elif input_num == 0:\n",
    "    print(\"The factorial of 0 is 1.\")\n",
    "else:\n",
    "    while current_num > 0:\n",
    "        factorial *= current_num\n",
    "        current_num -= 1\n",
    "    print(f\"The factorial of {input_num} is {factorial}.\")"
   ]
  },
  {
   "cell_type": "markdown",
   "metadata": {},
   "source": [
    "### Counting the Digits in a Number\n",
    "You can use a `while` loop to count the number of digits in a given integer by repeatedly performing integer division by 10 until the number becomes 0."
   ]
  },
  {
   "cell_type": "code",
   "execution_count": 9,
   "metadata": {},
   "outputs": [
    {
     "name": "stdout",
     "output_type": "stream",
     "text": [
      "The number 5 has 1 digits.\n"
     ]
    }
   ],
   "source": [
    "# Let's count the number of digits in an integer\n",
    "user_num = int(input(\"Enter a number: \"))\n",
    "number_to_count = user_num\n",
    "digit_count = 0\n",
    "\n",
    "# Handle the special case of 0 separately\n",
    "if number_to_count == 0:\n",
    "    digit_count = 1\n",
    "else:\n",
    "    while number_to_count > 0:\n",
    "        number_to_count //= 10\n",
    "        digit_count += 1\n",
    "\n",
    "print(f\"The number {user_num} has {digit_count} digits.\")"
   ]
  }
 ],
 "metadata": {
  "kernelspec": {
   "display_name": "base",
   "language": "python",
   "name": "python3"
  },
  "language_info": {
   "codemirror_mode": {
    "name": "ipython",
    "version": 3
   },
   "file_extension": ".py",
   "mimetype": "text/x-python",
   "name": "python",
   "nbconvert_exporter": "python",
   "pygments_lexer": "ipython3",
   "version": "3.12.9"
  }
 },
 "nbformat": 4,
 "nbformat_minor": 2
}
