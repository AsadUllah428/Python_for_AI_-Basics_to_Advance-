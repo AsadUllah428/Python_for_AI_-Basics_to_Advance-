{
 "cells": [
  {
   "cell_type": "markdown",
   "metadata": {},
   "source": [
    "# Conditional Logic: The `if`, `elif`, and `else` Statements"
   ]
  },
  {
   "cell_type": "markdown",
   "metadata": {},
   "source": [
    "In programming, we often need to make decisions based on certain conditions. Python's `if`, `elif`, and `else` statements allow us to control the flow of our code by executing different blocks of code depending on whether a condition is `True` or `False`. Think of it like a fork in the road: based on a sign, you decide which path to take."
   ]
  },
  {
   "cell_type": "markdown",
   "metadata": {},
   "source": [
    "### Comparison Operators\n",
    "These operators are the building blocks of conditions. They compare two values and return a `Boolean` result (`True` or `False`).\n",
    "* `==` (Equal to)\n",
    "* `!=` (Not equal to)\n",
    "* `>` (Greater than)\n",
    "* `<` (Less than)\n",
    "* `>=` (Greater than or equal to)\n",
    "* `<=` (Less than or equal to)"
   ]
  },
  {
   "cell_type": "markdown",
   "metadata": {},
   "source": [
    "### The `if` Statement\n",
    "The most basic conditional statement. The code inside the `if` block only runs if the condition is `True`."
   ]
  },
  {
   "cell_type": "code",
   "execution_count": 1,
   "metadata": {},
   "outputs": [
    {
     "name": "stdout",
     "output_type": "stream",
     "text": [
      "It's a warm day! Time to go outside. ☀️\n"
     ]
    }
   ],
   "source": [
    "temperature = 25\n",
    "if temperature > 20:\n",
    "    print(\"It's a warm day! Time to go outside. ☀️\")"
   ]
  },
  {
   "cell_type": "markdown",
   "metadata": {},
   "source": [
    "### The `elif` Statement\n",
    "The `elif` (short for 'else if') statement is used to check for another condition if the previous `if` or `elif` conditions were `False`. You can have multiple `elif` statements."
   ]
  },
  {
   "cell_type": "code",
   "execution_count": 2,
   "metadata": {},
   "outputs": [
    {
     "name": "stdout",
     "output_type": "stream",
     "text": [
      "Great job! That's a B.\n"
     ]
    }
   ],
   "source": [
    "grade_percentage = 88\n",
    "if grade_percentage >= 90:\n",
    "    print(\"Excellent! You got an A.\")\n",
    "elif grade_percentage >= 80:\n",
    "    print(\"Great job! That's a B.\")"
   ]
  },
  {
   "cell_type": "markdown",
   "metadata": {},
   "source": [
    "### The `else` Statement\n",
    "The `else` statement is the final fallback. The code within the `else` block will execute only if all preceding `if` and `elif` conditions are `False`."
   ]
  },
  {
   "cell_type": "code",
   "execution_count": 3,
   "metadata": {},
   "outputs": [
    {
     "name": "stdout",
     "output_type": "stream",
     "text": [
      "You are speeding! Slow down! 🚨\n"
     ]
    }
   ],
   "source": [
    "car_speed = 75\n",
    "speed_limit = 60\n",
    "if car_speed <= speed_limit:\n",
    "    print(\"You are driving within the speed limit. ✅\")\n",
    "elif car_speed <= speed_limit + 10:\n",
    "    print(\"You're a little over the limit, be careful.\")\n",
    "else:\n",
    "    print(\"You are speeding! Slow down! 🚨\")"
   ]
  },
  {
   "cell_type": "markdown",
   "metadata": {},
   "source": [
    "### Short-Hand `if` and Ternary Operators\n",
    "For simple conditions, you can write `if` statements on a single line. This is often called a **ternary operator** or **conditional expression**. It provides a concise way to assign a value to a variable based on a condition."
   ]
  },
  {
   "cell_type": "code",
   "execution_count": 4,
   "metadata": {},
   "outputs": [
    {
     "name": "stdout",
     "output_type": "stream",
     "text": [
      "Enjoy your weekend!\n"
     ]
    }
   ],
   "source": [
    "# Short-hand if\n",
    "is_weekend = True\n",
    "if is_weekend: print(\"Enjoy your weekend!\")"
   ]
  },
  {
   "cell_type": "code",
   "execution_count": 5,
   "metadata": {},
   "outputs": [
    {
     "name": "stdout",
     "output_type": "stream",
     "text": [
      "Adult\n"
     ]
    }
   ],
   "source": [
    "# Short-hand if...else\n",
    "age = 20\n",
    "status = \"Adult\" if age >= 18 else \"Minor\"\n",
    "print(status)"
   ]
  },
  {
   "cell_type": "markdown",
   "metadata": {},
   "source": [
    "---\n",
    "### Combining Conditions with `and` and `or`\n",
    "You can combine multiple conditions using **logical operators** to create more complex checks."
   ]
  },
  {
   "cell_type": "markdown",
   "metadata": {},
   "source": [
    "**The `and` Operator**\n",
    "The `and` operator requires **all** conditions to be `True` for the entire expression to be `True`."
   ]
  },
  {
   "cell_type": "code",
   "execution_count": 6,
   "metadata": {},
   "outputs": [
    {
     "name": "stdout",
     "output_type": "stream",
     "text": [
      "It's lunchtime! Let's eat. 🥪\n"
     ]
    }
   ],
   "source": [
    "time = 14\n",
    "is_hungry = True\n",
    "if time >= 12 and is_hungry:\n",
    "    print(\"It's lunchtime! Let's eat. 🥪\")"
   ]
  },
  {
   "cell_type": "markdown",
   "metadata": {},
   "source": [
    "**The `or` Operator**\n",
    "The `or` operator requires at least **one** condition to be `True` for the entire expression to be `True`."
   ]
  },
  {
   "cell_type": "code",
   "execution_count": 7,
   "metadata": {},
   "outputs": [
    {
     "name": "stdout",
     "output_type": "stream",
     "text": [
      "You should bring a jacket today.\n"
     ]
    }
   ],
   "source": [
    "is_rainy = False\n",
    "is_cold = True\n",
    "if is_rainy or is_cold:\n",
    "    print(\"You should bring a jacket today.\")"
   ]
  },
  {
   "cell_type": "markdown",
   "metadata": {},
   "source": [
    "---\n",
    "### Nested `if` Statements\n",
    "You can place an `if` statement inside another `if` statement. This is known as nesting. It's useful for checking multiple layers of conditions."
   ]
  },
  {
   "cell_type": "code",
   "execution_count": 8,
   "metadata": {},
   "outputs": [
    {
     "name": "stdout",
     "output_type": "stream",
     "text": [
      "You can legally drive a car.\n"
     ]
    }
   ],
   "source": [
    "age = 22\n",
    "has_driver_license = True\n",
    "\n",
    "if age >= 18:\n",
    "    if has_driver_license:\n",
    "        print(\"You can legally drive a car.\")\n",
    "    else:\n",
    "        print(\"You are old enough, but you still need a driver's license.\")\n",
    "else:\n",
    "    print(\"You are not old enough to drive yet.\")"
   ]
  },
  {
   "cell_type": "markdown",
   "metadata": {},
   "source": [
    "---\n",
    "### Practical Examples\n",
    "Here are a few more detailed examples to show how `if`/`elif`/`else` statements are used in real-world scenarios."
   ]
  },
  {
   "cell_type": "markdown",
   "metadata": {},
   "source": [
    "#### Example 1: Calculating a Discount\n",
    "A store offers a 10% discount on a purchase if the total is over $100."
   ]
  },
  {
   "cell_type": "code",
   "execution_count": 9,
   "metadata": {},
   "outputs": [
    {
     "name": "stdout",
     "output_type": "stream",
     "text": [
      "Your final total is $20.00.\n"
     ]
    }
   ],
   "source": [
    "total_price = float(input(\"Enter your total purchase amount: \"))\n",
    "discount_rate = 0.10\n",
    "final_price = total_price\n",
    "\n",
    "if total_price > 100:\n",
    "    discount_amount = total_price * discount_rate\n",
    "    final_price = total_price - discount_amount\n",
    "    print(f\"You get a discount of ${discount_amount:.2f}!\")\n",
    "\n",
    "print(f\"Your final total is ${final_price:.2f}.\")"
   ]
  },
  {
   "cell_type": "markdown",
   "metadata": {},
   "source": [
    "#### Example 2: Checking if a Number is Positive, Negative, or Zero"
   ]
  },
  {
   "cell_type": "code",
   "execution_count": 10,
   "metadata": {},
   "outputs": [
    {
     "name": "stdout",
     "output_type": "stream",
     "text": [
      "The number is positive.\n"
     ]
    }
   ],
   "source": [
    "number = float(input(\"Enter a number: \"))\n",
    "\n",
    "if number > 0:\n",
    "    print(\"The number is positive.\")\n",
    "elif number < 0:\n",
    "    print(\"The number is negative.\")\n",
    "else:\n",
    "    print(\"The number is zero.\")"
   ]
  },
  {
   "cell_type": "markdown",
   "metadata": {},
   "source": [
    "#### Example 3: Simple Quiz Game\n",
    "Here's an example of how a simple quiz game could use `if` statements to check a user's answer."
   ]
  },
  {
   "cell_type": "code",
   "execution_count": 12,
   "metadata": {},
   "outputs": [
    {
     "name": "stdout",
     "output_type": "stream",
     "text": [
      "That's correct! 🎉\n"
     ]
    }
   ],
   "source": [
    "answer = input(\"What is the capital of France? \").strip().lower()\n",
    "if answer == \"paris\":\n",
    "    print(\"That's correct! 🎉\")\n",
    "else:\n",
    "    print(f\"Incorrect. The capital of France is Paris. You answered '{answer}'.\")"
   ]
  },
  {
   "cell_type": "markdown",
   "metadata": {},
   "source": [
    "### Summary\n",
    "To recap, `if`/`elif`/`else` statements are fundamental for creating programs that can make decisions. They are used to perform different actions based on whether conditions evaluate to `True` or `False`. By combining them with comparison operators and logical operators, you can build powerful and flexible code."
   ]
  }
 ],
 "metadata": {
  "kernelspec": {
   "display_name": "base",
   "language": "python",
   "name": "python3"
  },
  "language_info": {
   "codemirror_mode": {
    "name": "ipython",
    "version": 3
   },
   "file_extension": ".py",
   "mimetype": "text/x-python",
   "name": "python",
   "nbconvert_exporter": "python",
   "pygments_lexer": "ipython3",
   "version": "3.12.9"
  }
 },
 "nbformat": 4,
 "nbformat_minor": 2
}
