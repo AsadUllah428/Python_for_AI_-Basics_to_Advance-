{
 "cells": [
  {
   "cell_type": "markdown",
   "metadata": {},
   "source": [
    "# Python: Advanced Looping and Pattern Practice\n",
    "This notebook explores advanced uses of loops in Python, including nested loops, pattern generation, and practical string and list processing. Each section includes clear explanations and well-commented code to help you understand the logic step by step."
   ]
  },
  {
   "cell_type": "markdown",
   "metadata": {},
   "source": [
    "## Counting Letters and Numbers in a String\n",
    "In this section, we'll write a Python program that takes a string from the user and counts how many characters are letters (A-Z, a-z) and how many are digits (0-9). This is a common task in data validation and text analysis."
   ]
  },
  {
   "cell_type": "code",
   "execution_count": 23,
   "metadata": {},
   "outputs": [
    {
     "name": "stdout",
     "output_type": "stream",
     "text": [
      "Letters: 5\n",
      "Digits: 0\n"
     ]
    }
   ],
   "source": [
    "# Ask the user to enter a string\n",
    "user_input = input(\"Type any string: \")\n",
    "letter_count = 0  # This will count alphabetic characters\n",
    "digit_count = 0   # This will count numeric digits\n",
    "for char in user_input:\n",
    "    if char.isalpha():  # Checks if the character is a letter (A-Z or a-z)\n",
    "        letter_count += 1\n",
    "    elif char.isdigit():  # Checks if the character is a digit (0-9)\n",
    "        digit_count += 1\n",
    "    # Any other character (like spaces or punctuation) is ignored\n",
    "print(f\"Letters: {letter_count}\")  # Output the number of letters\n",
    "print(f\"Digits: {digit_count}\")    # Output the number of digits"
   ]
  },
  {
   "cell_type": "markdown",
   "metadata": {},
   "source": [
    "## Password Strength Validator\n",
    "Let's create a password checker that ensures the password is strong. We'll check for:\n",
    "- At least one lowercase letter (a-z)\n",
    "- At least one uppercase letter (A-Z)\n",
    "- At least one digit (0-9)\n",
    "- At least one special character from [!%&?@]\n",
    "- Length between 8 and 16 characters\n",
    "This is useful for enforcing good security practices."
   ]
  },
  {
   "cell_type": "code",
   "execution_count": 24,
   "metadata": {},
   "outputs": [
    {
     "name": "stdout",
     "output_type": "stream",
     "text": [
      "Password does not meet the requirements.\n"
     ]
    }
   ],
   "source": [
    "import re  # Import the regular expressions module for pattern matching\n",
    "# Ask the user to enter a password\n",
    "password = input(\"Enter a password to validate: \")\n",
    "# Check all password requirements using regular expressions and length checks\n",
    "if (8 <= len(password) <= 16 and  # Password length must be between 8 and 16\n",
    "    re.search(r\"[a-z]\", password) and  # At least one lowercase letter\n",
    "    re.search(r\"[A-Z]\", password) and  # At least one uppercase letter\n",
    "    re.search(r\"[0-9]\", password) and  # At least one digit\n",
    "    re.search(r\"[!%&?@]\", password)):  # At least one special character\n",
    "    print(\"Password is strong!\")\n",
    "else:\n",
    "    print(\"Password does not meet the requirements.\")"
   ]
  },
  {
   "cell_type": "markdown",
   "metadata": {},
   "source": [
    "# Nested Loops in Python\n",
    "Nested loops are loops inside other loops. They are useful for working with grids, tables, or any data that has multiple dimensions. Let's see how they work with some examples."
   ]
  },
  {
   "cell_type": "code",
   "execution_count": 25,
   "metadata": {},
   "outputs": [
    {
     "name": "stdout",
     "output_type": "stream",
     "text": [
      "(1,1) (1,2) (1,3) (1,4) (1,5) \n",
      "(2,1) (2,2) (2,3) (2,4) (2,5) \n",
      "(3,1) (3,2) (3,3) (3,4) (3,5) \n"
     ]
    }
   ],
   "source": [
    "# Print coordinates in a 3x5 grid using nested loops\n",
    "for row in range(1, 4):  # Outer loop for rows (1 to 3)\n",
    "    for col in range(1, 6):  # Inner loop for columns (1 to 5)\n",
    "        print(f\"({row},{col})\", end=\" \")  # Print each coordinate on the same line\n",
    "    print()  # Move to the next line after each row"
   ]
  },
  {
   "cell_type": "markdown",
   "metadata": {},
   "source": [
    "## Example: Multiplication Table (5x5)\n",
    "A multiplication table is a classic use of nested loops. The outer loop picks the row, and the inner loop calculates the product for each column."
   ]
  },
  {
   "cell_type": "code",
   "execution_count": 26,
   "metadata": {},
   "outputs": [
    {
     "name": "stdout",
     "output_type": "stream",
     "text": [
      " 1  2  3  4  5 \n",
      " 2  4  6  8 10 \n",
      " 3  6  9 12 15 \n",
      " 4  8 12 16 20 \n",
      " 5 10 15 20 25 \n"
     ]
    }
   ],
   "source": [
    "# Print a 5x5 multiplication table\n",
    "for i in range(1, 6):  # Rows from 1 to 5\n",
    "    for j in range(1, 6):  # Columns from 1 to 5\n",
    "        print(f\"{i*j:2}\", end=\" \")  # Print the product, formatted for alignment\n",
    "    print()  # Newline after each row"
   ]
  },
  {
   "cell_type": "markdown",
   "metadata": {},
   "source": [
    "## Example: Print a Right-Angled Triangle of Hashes\n",
    "This pattern uses a single loop to print a triangle shape. Each row contains one more hash symbol than the previous row."
   ]
  },
  {
   "cell_type": "code",
   "execution_count": 27,
   "metadata": {},
   "outputs": [
    {
     "name": "stdout",
     "output_type": "stream",
     "text": [
      "#\n",
      "##\n",
      "###\n",
      "####\n",
      "#####\n",
      "######\n"
     ]
    }
   ],
   "source": [
    "# Print a right-angled triangle using '#' symbols\n",
    "for i in range(1, 7):  # Loop from 1 to 6\n",
    "    print('#' * i)  # Print i hash symbols on each line"
   ]
  },
  {
   "cell_type": "markdown",
   "metadata": {},
   "source": [
    "## Example: Inverted Number Triangle\n",
    "This pattern prints rows of numbers, starting with the largest and decreasing the count each row. It's a good example of using a loop that counts down."
   ]
  },
  {
   "cell_type": "code",
   "execution_count": 28,
   "metadata": {},
   "outputs": [
    {
     "name": "stdout",
     "output_type": "stream",
     "text": [
      "5 5 5 5 5 \n",
      "4 4 4 4 \n",
      "3 3 3 \n",
      "2 2 \n",
      "1 \n"
     ]
    }
   ],
   "source": [
    "n = 5  # Number of rows\n",
    "for i in range(n, 0, -1):  # Start from n and count down to 1\n",
    "    for j in range(i):  # Print the current number i, i times\n",
    "        print(i, end=\" \")\n",
    "    print()  # Newline after each row"
   ]
  },
  {
   "cell_type": "markdown",
   "metadata": {},
   "source": [
    "## Example: Nested List - Count Integers and Floats\n",
    "Let's count how many integers and floats are in a nested list (a list of lists). This is useful for analyzing mixed data."
   ]
  },
  {
   "cell_type": "code",
   "execution_count": 29,
   "metadata": {},
   "outputs": [
    {
     "name": "stdout",
     "output_type": "stream",
     "text": [
      "Integers: 5, Floats: 4\n"
     ]
    }
   ],
   "source": [
    "nested = [[1, 2.5, 3], [4.1, 5, 6.6], [7, 8.8, 9]]  # Example nested list\n",
    "int_total = 0  # Counter for integers\n",
    "float_total = 0  # Counter for floats\n",
    "for sublist in nested:  # Loop through each sublist\n",
    "    for value in sublist:  # Loop through each value in the sublist\n",
    "        if isinstance(value, int):  # Check if value is integer\n",
    "            int_total += 1\n",
    "        elif isinstance(value, float):  # Check if value is float\n",
    "            float_total += 1\n",
    "print(f\"Integers: {int_total}, Floats: {float_total}\")"
   ]
  },
  {
   "cell_type": "markdown",
   "metadata": {},
   "source": [
    "## Example: Looping Through Multiple Lists\n",
    "You can use nested loops to combine items from two lists. This is useful for generating all possible pairs or combinations."
   ]
  },
  {
   "cell_type": "code",
   "execution_count": 30,
   "metadata": {},
   "outputs": [
    {
     "name": "stdout",
     "output_type": "stream",
     "text": [
      "blue cat\n",
      "blue dog\n",
      "blue parrot\n",
      "green cat\n",
      "green dog\n",
      "green parrot\n",
      "yellow cat\n",
      "yellow dog\n",
      "yellow parrot\n"
     ]
    }
   ],
   "source": [
    "colors = [\"blue\", \"green\", \"yellow\"]  # List of colors\n",
    "animals = [\"cat\", \"dog\", \"parrot\"]  # List of animals\n",
    "for color in colors:  # Outer loop for each color\n",
    "    for animal in animals:  # Inner loop for each animal\n",
    "        print(f\"{color} {animal}\")  # Print the combination"
   ]
  },
  {
   "cell_type": "markdown",
   "metadata": {},
   "source": [
    "## Example: Find a Value in a List and Stop\n",
    "Sometimes you want to search for a specific value in a list and stop searching as soon as you find it. The `break` statement is used for this purpose."
   ]
  },
  {
   "cell_type": "code",
   "execution_count": 31,
   "metadata": {},
   "outputs": [
    {
     "name": "stdout",
     "output_type": "stream",
     "text": [
      "Found Rust! Exiting loop.\n"
     ]
    }
   ],
   "source": [
    "languages = [\"Ruby\", \"Go\", \"Swift\", \"Rust\", \"Scala\"]  # List of languages\n",
    "for lang in languages:  # Loop through each language\n",
    "    if lang == \"Rust\":  # If the language is 'Rust'\n",
    "        print(f\"Found {lang}! Exiting loop.\")\n",
    "        break  # Stop the loop immediately"
   ]
  },
  {
   "cell_type": "markdown",
   "metadata": {},
   "source": [
    "## Example: Print a Pattern with Nested Loops\n",
    "This example prints a pattern where each row contains the same number repeated. The number of repetitions increases with each row."
   ]
  },
  {
   "cell_type": "code",
   "execution_count": 32,
   "metadata": {},
   "outputs": [
    {
     "name": "stdout",
     "output_type": "stream",
     "text": [
      "1 \n",
      "2 2 \n",
      "3 3 3 \n",
      "4 4 4 4 \n",
      "5 5 5 5 5 \n"
     ]
    }
   ],
   "source": [
    "# Print a pattern where each row contains the row number repeated\n",
    "for i in range(1, 6):  # Loop from 1 to 5\n",
    "    for j in range(i):  # Print the current row number i, i times\n",
    "        print(i, end=\" \")\n",
    "    print()  # Newline after each row"
   ]
  },
  {
   "cell_type": "markdown",
   "metadata": {},
   "source": [
    "## Example: Prime Numbers Between 10 and 30\n",
    "A prime number is only divisible by 1 and itself. We'll use nested loops to check each number in a range and print the primes."
   ]
  },
  {
   "cell_type": "code",
   "execution_count": 33,
   "metadata": {},
   "outputs": [
    {
     "name": "stdout",
     "output_type": "stream",
     "text": [
      "11 is prime\n",
      "13 is prime\n",
      "17 is prime\n",
      "19 is prime\n",
      "23 is prime\n",
      "29 is prime\n"
     ]
    }
   ],
   "source": [
    "# Print all prime numbers between 10 and 30\n",
    "for num in range(10, 31):  # Loop from 10 to 30\n",
    "    is_prime = True  # Assume the number is prime\n",
    "    for div in range(2, int(num ** 0.5) + 1):  # Check divisibility up to square root of num\n",
    "        if num % div == 0:  # If divisible, it's not prime\n",
    "            is_prime = False\n",
    "            break  # No need to check further\n",
    "    if is_prime:\n",
    "        print(f\"{num} is prime\")"
   ]
  },
  {
   "cell_type": "markdown",
   "metadata": {},
   "source": [
    "## Example: Floyd's Triangle\n",
    "Floyd's triangle is a right-angled triangle of consecutive numbers. Each row contains one more number than the previous row."
   ]
  },
  {
   "cell_type": "code",
   "execution_count": 34,
   "metadata": {},
   "outputs": [
    {
     "name": "stdout",
     "output_type": "stream",
     "text": [
      "1 \n",
      "2 3 \n",
      "4 5 6 \n",
      "7 8 9 10 \n",
      "11 12 13 14 15 \n"
     ]
    }
   ],
   "source": [
    "rows = 5  # Number of rows in the triangle\n",
    "num = 1  # Start with 1\n",
    "for i in range(1, rows + 1):  # Loop for each row\n",
    "    for j in range(i):  # Print i numbers in the current row\n",
    "        print(num, end=\" \")\n",
    "        num += 1  # Move to the next number\n",
    "    print()  # Newline after each row"
   ]
  },
  {
   "cell_type": "markdown",
   "metadata": {},
   "source": [
    "## Example: Inverted Half Pyramid with Numbers\n",
    "This pattern prints numbers in decreasing row lengths, starting from the largest row."
   ]
  },
  {
   "cell_type": "code",
   "execution_count": 35,
   "metadata": {},
   "outputs": [
    {
     "name": "stdout",
     "output_type": "stream",
     "text": [
      "0 1 2 3 4 5 \n",
      "0 1 2 3 4 \n",
      "0 1 2 3 \n",
      "0 1 2 \n",
      "0 1 \n",
      "0 \n"
     ]
    }
   ],
   "source": [
    "# Print an inverted half pyramid with numbers\n",
    "for i in range(6, 0, -1):  # Start from 6 and count down to 1\n",
    "    for j in range(i):  # Print numbers from 0 up to i-1\n",
    "        print(j, end=\" \")\n",
    "    print()  # Newline after each row"
   ]
  },
  {
   "cell_type": "markdown",
   "metadata": {},
   "source": [
    "## 11) All coordinate pairs (3×4)\n",
    "Print `(i, j)` pairs for `i in 0..2` and `j in 0..3`."
   ]
  },
  {
   "cell_type": "code",
   "execution_count": 36,
   "metadata": {},
   "outputs": [
    {
     "name": "stdout",
     "output_type": "stream",
     "text": [
      "(0, 0)\n",
      "(0, 1)\n",
      "(0, 2)\n",
      "(0, 3)\n",
      "(1, 0)\n",
      "(1, 1)\n",
      "(1, 2)\n",
      "(1, 3)\n",
      "(2, 0)\n",
      "(2, 1)\n",
      "(2, 2)\n",
      "(2, 3)\n"
     ]
    }
   ],
   "source": [
    "for i in range(3):\n",
    "    for j in range(4):\n",
    "        print(f\"({i}, {j})\")"
   ]
  },
  {
   "cell_type": "markdown",
   "metadata": {},
   "source": [
    "## 12) Floyd’s Triangle (numbers)\n",
    "Consecutive integers flowing row by row."
   ]
  },
  {
   "cell_type": "code",
   "execution_count": 37,
   "metadata": {},
   "outputs": [
    {
     "name": "stdout",
     "output_type": "stream",
     "text": [
      "1 \n",
      "2 3 \n",
      "4 5 6 \n",
      "7 8 9 10 \n",
      "11 12 13 14 15 \n"
     ]
    }
   ],
   "source": [
    "rows = 5\n",
    "n = 1\n",
    "for i in range(1, rows + 1):\n",
    "    for _ in range(i):\n",
    "        print(n, end=\" \")\n",
    "        n += 1\n",
    "    print()"
   ]
  },
  {
   "cell_type": "markdown",
   "metadata": {},
   "source": [
    "## 13) Multiplication table (1 to 10)\n",
    "Use tabs for simple console alignment."
   ]
  },
  {
   "cell_type": "code",
   "execution_count": 38,
   "metadata": {},
   "outputs": [
    {
     "name": "stdout",
     "output_type": "stream",
     "text": [
      "1\t2\t3\t4\t5\t6\t7\t8\t9\t10\n",
      "2\t4\t6\t8\t10\t12\t14\t16\t18\t20\n",
      "3\t6\t9\t12\t15\t18\t21\t24\t27\t30\n",
      "4\t8\t12\t16\t20\t24\t28\t32\t36\t40\n",
      "5\t10\t15\t20\t25\t30\t35\t40\t45\t50\n",
      "6\t12\t18\t24\t30\t36\t42\t48\t54\t60\n",
      "7\t14\t21\t28\t35\t42\t49\t56\t63\t70\n",
      "8\t16\t24\t32\t40\t48\t56\t64\t72\t80\n",
      "9\t18\t27\t36\t45\t54\t63\t72\t81\t90\n",
      "10\t20\t30\t40\t50\t60\t70\t80\t90\t100\n"
     ]
    }
   ],
   "source": [
    "for i in range(1, 11):\n",
    "    row = []\n",
    "    for j in range(1, 11):\n",
    "        row.append(str(i * j))\n",
    "    print(\"\\t\".join(row))"
   ]
  },
  {
   "cell_type": "markdown",
   "metadata": {},
   "source": [
    "## 14) Prime numbers in a range (with sqrt optimization)\n",
    "Mark each as prime/non-prime using trial division up to `sqrt(n)`."
   ]
  },
  {
   "cell_type": "code",
   "execution_count": 39,
   "metadata": {},
   "outputs": [
    {
     "name": "stdout",
     "output_type": "stream",
     "text": [
      "2 is prime\n",
      "3 is prime\n",
      "4 is not prime (divisible by 2 )\n",
      "5 is prime\n",
      "6 is not prime (divisible by 2 )\n",
      "7 is prime\n",
      "8 is not prime (divisible by 2 )\n",
      "9 is not prime (divisible by 3 )\n",
      "10 is not prime (divisible by 2 )\n",
      "11 is prime\n",
      "12 is not prime (divisible by 2 )\n",
      "13 is prime\n",
      "14 is not prime (divisible by 2 )\n",
      "15 is not prime (divisible by 3 )\n",
      "16 is not prime (divisible by 2 )\n",
      "17 is prime\n",
      "18 is not prime (divisible by 2 )\n",
      "19 is prime\n",
      "20 is not prime (divisible by 2 )\n",
      "21 is not prime (divisible by 3 )\n",
      "22 is not prime (divisible by 2 )\n",
      "23 is prime\n",
      "24 is not prime (divisible by 2 )\n",
      "25 is not prime (divisible by 5 )\n",
      "26 is not prime (divisible by 2 )\n",
      "27 is not prime (divisible by 3 )\n",
      "28 is not prime (divisible by 2 )\n",
      "29 is prime\n"
     ]
    }
   ],
   "source": [
    "import math\n",
    "\n",
    "for n in range(2, 30):\n",
    "    is_prime = True\n",
    "    for d in range(2, int(math.sqrt(n)) + 1):\n",
    "        if n % d == 0:\n",
    "            print(n, \"is not prime (divisible by\", d, \")\")\n",
    "            is_prime = False\n",
    "            break\n",
    "    if is_prime:\n",
    "        print(n, \"is prime\")"
   ]
  },
  {
   "cell_type": "markdown",
   "metadata": {},
   "source": [
    "## 15) Names × ages (cartesian printing with two lists)\n",
    "Print every combination of person and age."
   ]
  },
  {
   "cell_type": "code",
   "execution_count": 40,
   "metadata": {},
   "outputs": [
    {
     "name": "stdout",
     "output_type": "stream",
     "text": [
      "Ava has 34\n",
      "Ava has 54\n",
      "Ava has 23\n",
      "Ava has 43\n",
      "Liam has 34\n",
      "Liam has 54\n",
      "Liam has 23\n",
      "Liam has 43\n",
      "Noah has 34\n",
      "Noah has 54\n",
      "Noah has 23\n",
      "Noah has 43\n",
      "Mia has 34\n",
      "Mia has 54\n",
      "Mia has 23\n",
      "Mia has 43\n"
     ]
    }
   ],
   "source": [
    "people = [\"Ava\", \"Liam\", \"Noah\", \"Mia\"]\n",
    "ages = [34, 54, 23, 43]\n",
    "for person in people:\n",
    "    for age in ages:\n",
    "        print(f\"{person} has {age}\")"
   ]
  },
  {
   "cell_type": "markdown",
   "metadata": {},
   "source": [
    "## 16) Triple nested loops (names × counts × car models)\n",
    "Combine three dimensions of values to generate sentences."
   ]
  },
  {
   "cell_type": "code",
   "execution_count": 41,
   "metadata": {},
   "outputs": [
    {
     "name": "stdout",
     "output_type": "stream",
     "text": [
      "Zoey has 1 car(s) Benz\n",
      "Zoey has 1 car(s) Toyota\n",
      "Zoey has 1 car(s) BMW\n",
      "Zoey has 4 car(s) Benz\n",
      "Zoey has 4 car(s) Toyota\n",
      "Zoey has 4 car(s) BMW\n",
      "Zoey has 6 car(s) Benz\n",
      "Zoey has 6 car(s) Toyota\n",
      "Zoey has 6 car(s) BMW\n",
      "Kai has 1 car(s) Benz\n",
      "Kai has 1 car(s) Toyota\n",
      "Kai has 1 car(s) BMW\n",
      "Kai has 4 car(s) Benz\n",
      "Kai has 4 car(s) Toyota\n",
      "Kai has 4 car(s) BMW\n",
      "Kai has 6 car(s) Benz\n",
      "Kai has 6 car(s) Toyota\n",
      "Kai has 6 car(s) BMW\n",
      "Imran has 1 car(s) Benz\n",
      "Imran has 1 car(s) Toyota\n",
      "Imran has 1 car(s) BMW\n",
      "Imran has 4 car(s) Benz\n",
      "Imran has 4 car(s) Toyota\n",
      "Imran has 4 car(s) BMW\n",
      "Imran has 6 car(s) Benz\n",
      "Imran has 6 car(s) Toyota\n",
      "Imran has 6 car(s) BMW\n",
      "\n",
      "Zoey has 1 car(s) Toyota\n",
      "Zoey has 1 car(s) BMW\n",
      "Zoey has 4 car(s) Benz\n",
      "Zoey has 4 car(s) Toyota\n",
      "Zoey has 4 car(s) BMW\n",
      "Zoey has 6 car(s) Benz\n",
      "Zoey has 6 car(s) Toyota\n",
      "Zoey has 6 car(s) BMW\n",
      "Kai has 1 car(s) Benz\n",
      "Kai has 1 car(s) Toyota\n",
      "Kai has 1 car(s) BMW\n",
      "Kai has 4 car(s) Benz\n",
      "Kai has 4 car(s) Toyota\n",
      "Kai has 4 car(s) BMW\n",
      "Kai has 6 car(s) Benz\n",
      "Kai has 6 car(s) Toyota\n",
      "Kai has 6 car(s) BMW\n",
      "Imran has 1 car(s) Benz\n",
      "Imran has 1 car(s) Toyota\n",
      "Imran has 1 car(s) BMW\n",
      "Imran has 4 car(s) Benz\n",
      "Imran has 4 car(s) Toyota\n",
      "Imran has 4 car(s) BMW\n",
      "Imran has 6 car(s) Benz\n",
      "Imran has 6 car(s) Toyota\n",
      "Imran has 6 car(s) BMW\n"
     ]
    }
   ],
   "source": [
    "names = [\"Zoey\", \"Kai\", \"Imran\"]\n",
    "counts = [1, 4, 6]\n",
    "cars = [\"Benz\", \"Toyota\", \"BMW\"]\n",
    "for nm in names:\n",
    "    for c in counts:\n",
    "        for car in cars:\n",
    "            print(f\"{nm} has {c} car(s) {car}\")"
   ]
  },
  {
   "cell_type": "markdown",
   "metadata": {},
   "source": [
    "## 17) Inverted triangle patterns\n",
    "### A) Increasing label, decreasing width"
   ]
  },
  {
   "cell_type": "code",
   "execution_count": 42,
   "metadata": {},
   "outputs": [
    {
     "name": "stdout",
     "output_type": "stream",
     "text": [
      "1 1 1 1 1 \n",
      "2 2 2 2 \n",
      "3 3 3 \n",
      "4 4 \n",
      "5 \n"
     ]
    }
   ],
   "source": [
    "rows = 5\n",
    "label = 0\n",
    "for width in range(rows, 0, -1):\n",
    "    label += 1\n",
    "    for _ in range(width):\n",
    "        print(label, end=\" \")\n",
    "    print()"
   ]
  },
  {
   "cell_type": "markdown",
   "metadata": {},
   "source": [
    "### B) Same digit per row (decreasing width)"
   ]
  },
  {
   "cell_type": "code",
   "execution_count": 43,
   "metadata": {},
   "outputs": [
    {
     "name": "stdout",
     "output_type": "stream",
     "text": [
      "5 5 5 5 5 \n",
      "5 5 5 5 \n",
      "5 5 5 \n",
      "5 5 \n",
      "5 \n"
     ]
    }
   ],
   "source": [
    "rows = 5\n",
    "digit = 5\n",
    "for width in range(rows, 0, -1):\n",
    "    for _ in range(width):\n",
    "        print(digit, end=\" \")\n",
    "    print()"
   ]
  },
  {
   "cell_type": "markdown",
   "metadata": {},
   "source": [
    "### C) Inverted half-pyramid with `0..k` each line\n",
    "Each line starts at 0 and counts up; line width shrinks each step."
   ]
  },
  {
   "cell_type": "code",
   "execution_count": 44,
   "metadata": {},
   "outputs": [
    {
     "name": "stdout",
     "output_type": "stream",
     "text": [
      "0 1 2 3 4 5 \n",
      "0 1 2 3 4 \n",
      "0 1 2 3 \n",
      "0 1 2 \n",
      "0 1 \n",
      "0 \n"
     ]
    }
   ],
   "source": [
    "rows = 6\n",
    "for width in range(rows, 0, -1):\n",
    "    for n in range(width):\n",
    "        print(n, end=\" \")\n",
    "    print()"
   ]
  }
 ],
 "metadata": {
  "kernelspec": {
   "display_name": "base",
   "language": "python",
   "name": "python3"
  },
  "language_info": {
   "codemirror_mode": {
    "name": "ipython",
    "version": 3
   },
   "file_extension": ".py",
   "mimetype": "text/x-python",
   "name": "python",
   "nbconvert_exporter": "python",
   "pygments_lexer": "ipython3",
   "version": "3.12.9"
  }
 },
 "nbformat": 4,
 "nbformat_minor": 5
}
