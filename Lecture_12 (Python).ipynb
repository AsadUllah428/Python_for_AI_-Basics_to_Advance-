{
 "cells": [
  {
   "cell_type": "markdown",
   "metadata": {},
   "source": [
    "# Iterating with `for` Loops"
   ]
  },
  {
   "cell_type": "markdown",
   "metadata": {},
   "source": [
    "In Python, a `for` loop is used to iterate over a **sequence** of items. This can be a list, tuple, dictionary, set, or even a string. Unlike loops in languages like C++ or Java that rely on a counter, Python's `for` loop is a powerful iterator, processing each item in a collection one by one. This makes the code concise and easy to read. "
   ]
  },
  {
   "cell_type": "code",
   "execution_count": 1,
   "metadata": {},
   "outputs": [
    {
     "name": "stdout",
     "output_type": "stream",
     "text": [
      "I am traveling in a car.\n",
      "I am traveling in a bicycle.\n",
      "I am traveling in a plane.\n"
     ]
    }
   ],
   "source": [
    "# Example 1: Looping through a list of vehicles\n",
    "vehicles = [\"car\", \"bicycle\", \"plane\"]\n",
    "for transport in vehicles:\n",
    "    print(f\"I am traveling in a {transport}.\")"
   ]
  },
  {
   "cell_type": "markdown",
   "metadata": {},
   "source": [
    "---\n",
    "## Iterating Through a String\n",
    "A string is a sequence of characters, so you can loop through each character individually using a `for` loop."
   ]
  },
  {
   "cell_type": "code",
   "execution_count": 2,
   "metadata": {},
   "outputs": [
    {
     "name": "stdout",
     "output_type": "stream",
     "text": [
      "Current Character: G\n",
      "Current Character: a\n",
      "Current Character: l\n",
      "Current Character: a\n",
      "Current Character: x\n",
      "Current Character: y\n"
     ]
    }
   ],
   "source": [
    "# Example 2: Looping through a string\n",
    "word = \"Galaxy\"\n",
    "for char in word:\n",
    "    print(f\"Current Character: {char}\")"
   ]
  },
  {
   "cell_type": "markdown",
   "metadata": {},
   "source": [
    "---\n",
    "## The `break` Statement\n",
    "The `break` keyword lets you stop a loop completely, even if there are more items to iterate over. It's useful for exiting a loop as soon as a particular condition is met."
   ]
  },
  {
   "cell_type": "code",
   "execution_count": 3,
   "metadata": {},
   "outputs": [
    {
     "name": "stdout",
     "output_type": "stream",
     "text": [
      "Checking for a toy car...\n",
      "Checking for a teddy bear...\n",
      "Checking for a video game...\n",
      "Found the video game! Stopping the search.\n"
     ]
    }
   ],
   "source": [
    "# Example 3: Exiting a loop early\n",
    "prizes = [\"toy car\", \"teddy bear\", \"video game\", \"puzzle\"]\n",
    "for prize in prizes:\n",
    "    print(f\"Checking for a {prize}...\")\n",
    "    if prize == \"video game\":\n",
    "        print(\"Found the video game! Stopping the search.\")\n",
    "        break"
   ]
  },
  {
   "cell_type": "markdown",
   "metadata": {},
   "source": [
    "---\n",
    "## The `continue` Statement\n",
    "Use the `continue` keyword to skip the current iteration and move on to the next item in the sequence. The code block following `continue` is skipped for that specific iteration."
   ]
  },
  {
   "cell_type": "code",
   "execution_count": 4,
   "metadata": {},
   "outputs": [
    {
     "name": "stdout",
     "output_type": "stream",
     "text": [
      "Washing the cup.\n",
      "Skipping the plate...\n",
      "Washing the fork.\n",
      "Washing the spoon.\n"
     ]
    }
   ],
   "source": [
    "# Example 4: Skipping an item\n",
    "items = [\"cup\", \"plate\", \"fork\", \"spoon\"]\n",
    "for item in items:\n",
    "    if item == \"plate\":\n",
    "        print(\"Skipping the plate...\")\n",
    "        continue\n",
    "    print(f\"Washing the {item}.\")"
   ]
  },
  {
   "cell_type": "markdown",
   "metadata": {},
   "source": [
    "---\n",
    "## The `range()` Function\n",
    "The `range()` function is a handy tool for performing a loop a specific number of times. It generates a sequence of numbers on the fly. \n",
    "\n",
    "* `range(stop)`: Generates numbers from 0 up to (but not including) `stop`.\n",
    "* `range(start, stop)`: Generates numbers from `start` up to (but not including) `stop`.\n",
    "* `range(start, stop, step)`: Generates numbers from `start` up to (but not including) `stop`, incrementing by `step`."
   ]
  },
  {
   "cell_type": "code",
   "execution_count": 5,
   "metadata": {},
   "outputs": [
    {
     "name": "stdout",
     "output_type": "stream",
     "text": [
      "0\n",
      "1\n",
      "2\n",
      "3\n"
     ]
    }
   ],
   "source": [
    "# Example 5: Using range() with a single argument\n",
    "for number in range(4):\n",
    "    print(number)"
   ]
  },
  {
   "cell_type": "code",
   "execution_count": 6,
   "metadata": {},
   "outputs": [
    {
     "name": "stdout",
     "output_type": "stream",
     "text": [
      "10\n",
      "11\n",
      "12\n",
      "13\n"
     ]
    }
   ],
   "source": [
    "# Example 6: Using range() with a start and stop value\n",
    "for number in range(10, 14):\n",
    "    print(number)"
   ]
  },
  {
   "cell_type": "code",
   "execution_count": 7,
   "metadata": {},
   "outputs": [
    {
     "name": "stdout",
     "output_type": "stream",
     "text": [
      "0\n",
      "2\n",
      "4\n",
      "6\n",
      "8\n"
     ]
    }
   ],
   "source": [
    "# Example 7: Using range() with a step value\n",
    "for number in range(0, 10, 2):\n",
    "    print(number)"
   ]
  },
  {
   "cell_type": "markdown",
   "metadata": {},
   "source": [
    "---\n",
    "## The `else` Clause in `for` Loops\n",
    "Like `while` loops, a `for` loop can also have an `else` clause. The code in the `else` block runs only after the loop has completed all its iterations **without** being terminated by a `break` statement."
   ]
  },
  {
   "cell_type": "code",
   "execution_count": 8,
   "metadata": {},
   "outputs": [
    {
     "name": "stdout",
     "output_type": "stream",
     "text": [
      "Iteration 0\n",
      "Iteration 1\n",
      "Iteration 2\n",
      "Loop is complete.\n"
     ]
    }
   ],
   "source": [
    "# Example 8: Loop finishes naturally\n",
    "for i in range(3):\n",
    "    print(f\"Iteration {i}\")\n",
    "else:\n",
    "    print(\"Loop is complete.\")"
   ]
  },
  {
   "cell_type": "code",
   "execution_count": 9,
   "metadata": {},
   "outputs": [
    {
     "name": "stdout",
     "output_type": "stream",
     "text": [
      "Iteration 0\n",
      "Breaking the loop...\n"
     ]
    }
   ],
   "source": [
    "# Example 9: Loop is terminated with a break\n",
    "for i in range(3):\n",
    "    if i == 1:\n",
    "        print(\"Breaking the loop...\")\n",
    "        break\n",
    "    print(f\"Iteration {i}\")\n",
    "else:\n",
    "    print(\"You won't see this message.\")"
   ]
  },
  {
   "cell_type": "markdown",
   "metadata": {},
   "source": [
    "---\n",
    "## Problem Solving with `for` Loops\n",
    "### Calculating the Sum of `n` Numbers\n",
    "You can use a `for` loop to calculate the sum of all numbers from 1 up to a given number `n`."
   ]
  },
  {
   "cell_type": "code",
   "execution_count": 10,
   "metadata": {},
   "outputs": [
    {
     "name": "stdout",
     "output_type": "stream",
     "text": [
      "The sum of numbers from 1 to 5 is: 15\n"
     ]
    }
   ],
   "source": [
    "# Get input from the user\n",
    "limit = int(input(\"Enter a number: \"))\n",
    "\n",
    "# Initialize a variable to store the sum\n",
    "total = 0\n",
    "\n",
    "# Loop from 1 up to the number and add each to the sum\n",
    "for num in range(1, limit + 1):\n",
    "    total += num\n",
    "\n",
    "print(f\"The sum of numbers from 1 to {limit} is: {total}\")"
   ]
  },
  {
   "cell_type": "markdown",
   "metadata": {},
   "source": [
    "---\n",
    "### Generating a Multiplication Table\n",
    "The `for` loop is perfect for printing a multiplication table for any given number."
   ]
  },
  {
   "cell_type": "code",
   "execution_count": 11,
   "metadata": {},
   "outputs": [
    {
     "name": "stdout",
     "output_type": "stream",
     "text": [
      "5 x 1 = 5\n",
      "5 x 2 = 10\n",
      "5 x 3 = 15\n",
      "5 x 4 = 20\n",
      "5 x 5 = 25\n",
      "5 x 6 = 30\n",
      "5 x 7 = 35\n",
      "5 x 8 = 40\n",
      "5 x 9 = 45\n",
      "5 x 10 = 50\n"
     ]
    }
   ],
   "source": [
    "# Prompt the user for a number\n",
    "factor = int(input(\"Enter a number to see its multiplication table: \"))\n",
    "\n",
    "# Iterate from 1 to 10\n",
    "for multiplier in range(1, 11):\n",
    "    product = factor * multiplier\n",
    "    print(f\"{factor} x {multiplier} = {product}\")"
   ]
  },
  {
   "cell_type": "markdown",
   "metadata": {},
   "source": [
    "---\n",
    "### Filtering and Stopping a Loop\n",
    "You can combine `if` statements with `for` loops to process items conditionally and use `break` to stop when a certain condition is met."
   ]
  },
  {
   "cell_type": "code",
   "execution_count": 12,
   "metadata": {},
   "outputs": [
    {
     "name": "stdout",
     "output_type": "stream",
     "text": [
      "9 is divisible by 3.\n",
      "12 is divisible by 3.\n",
      "21 is divisible by 3.\n",
      "33 is divisible by 3.\n",
      "60 is divisible by 3.\n",
      "99 is divisible by 3.\n",
      "Number is too large, stopping.\n"
     ]
    }
   ],
   "source": [
    "# Filter for numbers divisible by 3 and stop if a number exceeds 100\n",
    "number_list = [9, 12, 21, 33, 60, 99, 105, 120]\n",
    "for number in number_list:\n",
    "    if number > 100:\n",
    "        print(\"Number is too large, stopping.\")\n",
    "        break\n",
    "    if number % 3 == 0:\n",
    "        print(f\"{number} is divisible by 3.\")"
   ]
  },
  {
   "cell_type": "markdown",
   "metadata": {},
   "source": [
    "---\n",
    "### Accessing Elements at Even Positions\n",
    "Using the `range()` function with a step value or list slicing is an effective way to access elements at specific positions within a sequence."
   ]
  },
  {
   "cell_type": "code",
   "execution_count": 13,
   "metadata": {},
   "outputs": [
    {
     "name": "stdout",
     "output_type": "stream",
     "text": [
      "100\n",
      "300\n",
      "500\n",
      "700\n"
     ]
    }
   ],
   "source": [
    "# Display elements at even positions (index 0, 2, 4, etc.) from a list\n",
    "data_points = [100, 200, 300, 400, 500, 600, 700]\n",
    "for index in range(0, len(data_points), 2):\n",
    "    print(data_points[index])"
   ]
  }
 ],
 "metadata": {
  "kernelspec": {
   "display_name": "base",
   "language": "python",
   "name": "python3"
  },
  "language_info": {
   "codemirror_mode": {
    "name": "ipython",
    "version": 3
   },
   "file_extension": ".py",
   "mimetype": "text/x-python",
   "name": "python",
   "nbconvert_exporter": "python",
   "pygments_lexer": "ipython3",
   "version": "3.12.9"
  }
 },
 "nbformat": 4,
 "nbformat_minor": 2
}
