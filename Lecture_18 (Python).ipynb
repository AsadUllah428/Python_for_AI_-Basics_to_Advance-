{
 "cells": [
  {
   "cell_type": "markdown",
   "id": "ac13f9bb",
   "metadata": {},
   "source": [
    "# Introduction to Python Decorators"
   ]
  },
  {
   "cell_type": "markdown",
   "id": "57e5e082",
   "metadata": {},
   "source": [
    "---\n",
    "\n",
    "# Table of Contents\n",
    "1. Introduction\n",
    "2. Core Topic Explanation\n",
    "3. Step-by-Step Code Examples\n",
    "4. Related Concepts\n",
    "5. Common Mistakes and Best Practices\n",
    "6. Real-World Applications\n",
    "7. Summary and References\n",
    "\n",
    "---\n",
    "\n",
    "## Introduction\n",
    "\n",
    "This notebook provides a detailed exploration of the main topic covered in Lecture 18. It includes step-by-step code examples, explanations, related concepts, and practical applications to help you understand and apply the concepts effectively."
   ]
  },
  {
   "cell_type": "markdown",
   "id": "1a6a1f67",
   "metadata": {},
   "source": [
    "In Python, **decorators** are a powerful and versatile tool that allows us to modify the behavior of functions or methods. They provide an elegant way to add extra functionality to existing functions without altering their core logic.\n",
    "\n",
    "The key idea behind decorators is that they wrap a function, meaning that a decorator will *enhance* or *modify* a function without directly modifying its code. This makes decorators particularly useful in various scenarios such as logging, access control, caching, and performance measurement.\n",
    "\n",
    "Decorators are implemented using functions that return other functions, allowing the wrapped function to be executed with added behavior before, during, or after the original function."
   ]
  },
  {
   "cell_type": "code",
   "execution_count": 1,
   "id": "9263198f",
   "metadata": {},
   "outputs": [
    {
     "name": "stdout",
     "output_type": "stream",
     "text": [
      "Something is happening before the function is called.\n",
      "Hello!\n",
      "Something is happening after the function is called.\n"
     ]
    }
   ],
   "source": [
    "# Example: Basic Decorator\n",
    "# Define a simple decorator function\n",
    "def my_decorator(func):\n",
    "    # This is the wrapper function that will replace the original function\n",
    "    def wrapper():\n",
    "        print(\"Something is happening before the function is called.\")\n",
    "        func()  # Call the original function\n",
    "        print(\"Something is happening after the function is called.\")\n",
    "    return wrapper\n",
    "\n",
    "# Use the decorator on a function\n",
    "@my_decorator  # This is equivalent to: say_hello = my_decorator(say_hello)\n",
    "def say_hello():\n",
    "    print(\"Hello!\")\n",
    "\n",
    "# Call the decorated function\n",
    "say_hello()  # The output will show the decorator's effect"
   ]
  },
  {
   "cell_type": "code",
   "execution_count": 2,
   "id": "f03a0ecf",
   "metadata": {},
   "outputs": [
    {
     "name": "stdout",
     "output_type": "stream",
     "text": [
      "Hello, Alice!\n",
      "Hello, Alice!\n",
      "Hello, Alice!\n"
     ]
    }
   ],
   "source": [
    "# Example: Decorator with Arguments\n",
    "# Decorators can also accept arguments by adding another level of function\n",
    "def repeat(num_times):\n",
    "    def decorator_repeat(func):\n",
    "        def wrapper(*args, **kwargs):\n",
    "            for _ in range(num_times):\n",
    "                func(*args, **kwargs)  # Call the function multiple times\n",
    "        return wrapper\n",
    "    return decorator_repeat\n",
    "\n",
    "@repeat(num_times=3)  # This will repeat the function 3 times\n",
    "def greet(name):\n",
    "    print(f\"Hello, {name}!\")\n",
    "\n",
    "greet(\"Alice\")  # The output will print the greeting three times"
   ]
  },
  {
   "cell_type": "code",
   "execution_count": 3,
   "id": "d0201ad2",
   "metadata": {},
   "outputs": [
    {
     "name": "stdout",
     "output_type": "stream",
     "text": [
      "Before function call\n",
      "After function call\n",
      "5\n",
      "add\n",
      "Adds two numbers.\n"
     ]
    }
   ],
   "source": [
    "# Example: Preserving Function Metadata with functools.wraps\n",
    "import functools\n",
    "\n",
    "def my_decorator(func):\n",
    "    @functools.wraps(func)  # This preserves the original function's metadata\n",
    "    def wrapper(*args, **kwargs):\n",
    "        print(\"Before function call\")\n",
    "        result = func(*args, **kwargs)\n",
    "        print(\"After function call\")\n",
    "        return result\n",
    "    return wrapper\n",
    "\n",
    "@my_decorator\n",
    "def add(a, b):\n",
    "    \"\"\"Adds two numbers.\"\"\"\n",
    "    return a + b\n",
    "\n",
    "print(add(2, 3))  # Output will include decorator messages and the sum\n",
    "print(add.__name__)  # Shows 'add', not 'wrapper'\n",
    "print(add.__doc__)   # Shows the docstring"
   ]
  },
  {
   "cell_type": "code",
   "execution_count": 4,
   "id": "ea8c56be",
   "metadata": {},
   "outputs": [
    {
     "name": "stdout",
     "output_type": "stream",
     "text": [
      "HELLO WORLD!\n"
     ]
    }
   ],
   "source": [
    "# Example: Stacking Multiple Decorators\n",
    "def uppercase_decorator(func):\n",
    "    def wrapper(*args, **kwargs):\n",
    "        original_result = func(*args, **kwargs)\n",
    "        return original_result.upper()\n",
    "    return wrapper\n",
    "\n",
    "def exclaim_decorator(func):\n",
    "    def wrapper(*args, **kwargs):\n",
    "        result = func(*args, **kwargs)\n",
    "        return result + \"!\"\n",
    "    return wrapper\n",
    "\n",
    "@exclaim_decorator\n",
    "@uppercase_decorator  # This decorator is applied first\n",
    "\n",
    "def say_message():\n",
    "    return \"hello world\"\n",
    "\n",
    "print(say_message())  # Output: HELLO WORLD!"
   ]
  },
  {
   "cell_type": "code",
   "execution_count": 5,
   "id": "ac2f220e",
   "metadata": {},
   "outputs": [
    {
     "name": "stdout",
     "output_type": "stream",
     "text": [
      "Call 1 of say_hello\n",
      "Hello!\n",
      "Call 2 of say_hello\n",
      "Hello!\n"
     ]
    }
   ],
   "source": [
    "# Example: Class-Based Decorator\n",
    "class CountCalls:\n",
    "    def __init__(self, func):\n",
    "        self.func = func\n",
    "        self.num_calls = 0\n",
    "    def __call__(self, *args, **kwargs):\n",
    "        self.num_calls += 1\n",
    "        print(f\"Call {self.num_calls} of {self.func.__name__}\")\n",
    "        return self.func(*args, **kwargs)\n",
    "\n",
    "@CountCalls\n",
    "\n",
    "def say_hello():\n",
    "    print(\"Hello!\")\n",
    "\n",
    "say_hello()\n",
    "say_hello()  # Each call will show the call count"
   ]
  },
  {
   "cell_type": "code",
   "execution_count": 6,
   "id": "531eaf8d",
   "metadata": {},
   "outputs": [
    {
     "name": "stdout",
     "output_type": "stream",
     "text": [
      "Function complete.\n",
      "Execution time: 1.0005 seconds\n"
     ]
    }
   ],
   "source": [
    "# Practical Use: Timing Function Execution\n",
    "import time\n",
    "\n",
    "def timer_decorator(func):\n",
    "    def wrapper(*args, **kwargs):\n",
    "        start_time = time.time()  # Record start time\n",
    "        result = func(*args, **kwargs)\n",
    "        end_time = time.time()    # Record end time\n",
    "        print(f\"Execution time: {end_time - start_time:.4f} seconds\")\n",
    "        return result\n",
    "    return wrapper\n",
    "\n",
    "@timer_decorator\n",
    "def slow_function():\n",
    "    time.sleep(1)  # Simulate a slow operation\n",
    "    print(\"Function complete.\")\n",
    "\n",
    "slow_function()"
   ]
  },
  {
   "cell_type": "code",
   "execution_count": 7,
   "id": "c88b8ed9",
   "metadata": {},
   "outputs": [
    {
     "name": "stdout",
     "output_type": "stream",
     "text": [
      "Before call\n",
      "Test function\n"
     ]
    }
   ],
   "source": [
    "# Common Mistake: Forgetting to Return the Wrapper\n",
    "\n",
    "def bad_decorator(func):\n",
    "    def wrapper(*args, **kwargs):\n",
    "        print(\"Before call\")\n",
    "        return func(*args, **kwargs)\n",
    "    # Missing 'return wrapper' will break the decorator\n",
    "    return wrapper  # Always return the wrapper function!\n",
    "\n",
    "@bad_decorator\n",
    "def test():\n",
    "    print(\"Test function\")\n",
    "\n",
    "test()  # This will work, but if you forget to return wrapper, it will not"
   ]
  },
  {
   "cell_type": "markdown",
   "id": "f08ef9b0",
   "metadata": {},
   "source": [
    "---\n",
    "\n",
    "## Related Concepts\n",
    "\n",
    "### Closures\n",
    "A closure is a function object that remembers values in enclosing scopes even if they are not present in memory. Decorators use closures to remember the function being decorated.\n",
    "\n",
    "### Higher-Order Functions\n",
    "A higher-order function is a function that takes another function as an argument or returns a function. Decorators are a type of higher-order function.\n",
    "\n",
    "### functools.wraps\n",
    "The `functools.wraps` decorator is used to preserve the metadata of the original function when writing decorators.\n",
    "\n",
    "---"
   ]
  },
  {
   "cell_type": "markdown",
   "id": "7281c668",
   "metadata": {},
   "source": [
    "---\n",
    "\n",
    "## Summary and References\n",
    "\n",
    "- Decorators are a powerful feature in Python for modifying or enhancing functions and methods.\n",
    "- They are built on closures and higher-order functions.\n",
    "- Use `functools.wraps` to preserve function metadata.\n",
    "- Decorators can be stacked, accept arguments, and be implemented as classes.\n",
    "- Practical uses include logging, timing, access control, and more.\n",
    "\n",
    "### References\n",
    "- [Python Official Documentation: Decorators](https://docs.python.org/3/glossary.html#term-decorator)\n",
    "- [Real Python: Primer on Python Decorators](https://realpython.com/primer-on-python-decorators/)\n",
    "- [PEP 318 – Decorators for Functions and Methods](https://peps.python.org/pep-0318/)\n",
    "\n",
    "---\n",
    "\n",
    "*End of notebook. Feel free to experiment with the code cells above!*"
   ]
  }
 ],
 "metadata": {
  "kernelspec": {
   "display_name": "base",
   "language": "python",
   "name": "python3"
  },
  "language_info": {
   "codemirror_mode": {
    "name": "ipython",
    "version": 3
   },
   "file_extension": ".py",
   "mimetype": "text/x-python",
   "name": "python",
   "nbconvert_exporter": "python",
   "pygments_lexer": "ipython3",
   "version": "3.13.5"
  }
 },
 "nbformat": 4,
 "nbformat_minor": 5
}
