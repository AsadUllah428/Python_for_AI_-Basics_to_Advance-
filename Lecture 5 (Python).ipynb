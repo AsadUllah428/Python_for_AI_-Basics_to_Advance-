{
 "cells": [
  {
   "cell_type": "markdown",
   "metadata": {},
   "source": [
    "# Python Tuples: An In-Depth Look"
   ]
  },
  {
   "cell_type": "markdown",
   "metadata": {},
   "source": [
    "---"
   ]
  },
  {
   "cell_type": "markdown",
   "metadata": {},
   "source": [
    "## What is a Tuple?"
   ]
  },
  {
   "cell_type": "markdown",
   "metadata": {},
   "source": [
    "In Python, **tuples** are fundamental data structures used to store multiple items within a single variable. They are a part of Python's built-in collection types, alongside lists, sets, and dictionaries, each serving distinct purposes based on their unique characteristics.\n",
    "\n",
    "The defining features of a tuple are:\n",
    "* **Ordered**: The items in a tuple have a defined sequence, and this order will not change.\n",
    "* **Immutable (Unchangeable)**: Once a tuple is created, you cannot alter its contents by changing, adding, or removing items.\n",
    "* **Parentheses Syntax**: Tuples are conventionally written using round brackets `()`.\n",
    "\n",
    "Let's start by creating a simple tuple and displaying it:"
   ]
  },
  {
   "cell_type": "code",
   "execution_count": null,
   "metadata": {},
   "outputs": [],
   "source": [
    "# Creating a tuple\n",
    "my_books = (\"The Great Gatsby\", \"1984\", \"To Kill a Mockingbird\")\n",
    "print(my_books)"
   ]
  },
  {
   "cell_type": "markdown",
   "metadata": {},
   "source": [
    "---"
   ]
  },
  {
   "cell_type": "markdown",
   "metadata": {},
   "source": [
    "## Tuple Properties"
   ]
  },
  {
   "cell_type": "markdown",
   "metadata": {},
   "source": [
    "Tuples possess specific properties that make them suitable for particular use cases: they are ordered, unchangeable, and can contain duplicate values.\n",
    "\n",
    "### Ordered Nature\n",
    "The order of items in a tuple is preserved. This means that when you access elements, iterate through the tuple, or perform any operations, the sequence of items will remain consistent as they were initially defined.\n",
    "\n",
    "### Immutability (Unchangeable)\n",
    "The unchangeable nature of tuples means that once you've declared a tuple, you cannot modify its elements. This is a key distinction from lists, which are mutable. If you need a collection of items that should not be altered after creation, tuples are an excellent choice. This immutability also makes them useful as dictionary keys, unlike lists.\n",
    "\n",
    "### Allowing Duplicates\n",
    "Since tuple items are indexed (starting from `[0]`), tuples can store multiple items with identical values. Their ordered nature allows for distinct positions for each occurrence, even if the values are the same.\n",
    "\n",
    "Consider this example demonstrating duplicate values:"
   ]
  },
  {
   "cell_type": "code",
   "execution_count": null,
   "metadata": {},
   "outputs": [],
   "source": [
    "# A tuple with duplicate values\n",
    "inventory_items = (\"laptop\", \"mouse\", \"keyboard\", \"laptop\", \"monitor\", \"mouse\")\n",
    "print(inventory_items)"
   ]
  },
  {
   "cell_type": "markdown",
   "metadata": {},
   "source": [
    "---"
   ]
  },
  {
   "cell_type": "markdown",
   "metadata": {},
   "source": [
    "## Basic Tuple Operations"
   ]
  },
  {
   "cell_type": "markdown",
   "metadata": {},
   "source": [
    "### Determining Tuple Length\n",
    "To find out how many items are in a tuple, you can use the built-in `len()` function."
   ]
  },
  {
   "cell_type": "code",
   "execution_count": null,
   "metadata": {},
   "outputs": [],
   "source": [
    "# Getting the length of a tuple\n",
    "student_grades = (85, 92, 78, 95)\n",
    "print(len(student_grades))"
   ]
  },
  {
   "cell_type": "markdown",
   "metadata": {},
   "source": [
    "### Creating a Single-Item Tuple\n",
    "A common point of confusion is creating a tuple with only one item. To distinguish it from a simple parenthesized expression, you *must* include a comma after the single item."
   ]
  },
  {
   "cell_type": "code",
   "execution_count": null,
   "metadata": {},
   "outputs": [],
   "source": [
    "# This is a tuple\n",
    "single_item_tuple = (\"Python\",)\n",
    "print(type(single_item_tuple))\n",
    "\n",
    "# This is NOT a tuple; it's just a string in parentheses\n",
    "not_a_tuple = (\"Python\")\n",
    "print(type(not_a_tuple))"
   ]
  },
  {
   "cell_type": "markdown",
   "metadata": {},
   "source": [
    "---"
   ]
  },
  {
   "cell_type": "markdown",
   "metadata": {},
   "source": [
    "## Tuple Items - Data Types"
   ]
  },
  {
   "cell_type": "markdown",
   "metadata": {},
   "source": [
    "Tuple items are highly flexible regarding the data types of their items. A single tuple can contain items of different data types, including strings, integers, booleans, and even other collection types (like lists or other tuples)."
   ]
  },
  {
   "cell_type": "code",
   "execution_count": null,
   "metadata": {},
   "outputs": [],
   "source": [
    "# Tuple with mixed data types\n",
    "tuple_strings = (\"red\", \"green\", \"blue\")\n",
    "tuple_integers = (10, 20, 30, 40, 50)\n",
    "tuple_booleans = (True, False, True)\n",
    "tuple_mixed = (\"Alice\", 25, True, 175.5, \"New York\")\n",
    "\n",
    "print(type(tuple_mixed))"
   ]
  },
  {
   "cell_type": "markdown",
   "metadata": {},
   "source": [
    "---"
   ]
  },
  {
   "cell_type": "markdown",
   "metadata": {},
   "source": [
    "# Accessing Tuple Items"
   ]
  },
  {
   "cell_type": "markdown",
   "metadata": {},
   "source": [
    "Accessing individual items or subsets of items in a tuple is done using **indexing** and **slicing**, similar to strings and lists."
   ]
  },
  {
   "cell_type": "markdown",
   "metadata": {},
   "source": [
    "### Positive Indexing\n",
    "Tuple items are indexed starting from `0` for the first item."
   ]
  },
  {
   "cell_type": "code",
   "execution_count": null,
   "metadata": {},
   "outputs": [],
   "source": [
    "# Accessing an item by positive index\n",
    "coordinates = (10, 25, 50)\n",
    "print(coordinates[2]) # This will print the item at index 2, which is 50"
   ]
  },
  {
   "cell_type": "markdown",
   "metadata": {},
   "source": [
    "### Negative Indexing\n",
    "Negative indexing allows you to access items from the end of the tuple.\n",
    "* `-1` refers to the last item.\n",
    "* `-2` refers to the second-to-last item, and so on."
   ]
  },
  {
   "cell_type": "code",
   "execution_count": null,
   "metadata": {},
   "outputs": [],
   "source": [
    "# Accessing items using negative indexing\n",
    "months = (\"Jan\", \"Feb\", \"Mar\", \"Apr\", \"May\", \"Jun\")\n",
    "print(months[-1]) # This will print 'Jun'\n",
    "print(months[-3]) # This will print 'Apr'"
   ]
  },
  {
   "cell_type": "markdown",
   "metadata": {},
   "source": [
    "### Range of Indexes (Slicing)\n",
    "You can access a specific range of items by specifying a start and end index separated by a colon (`:`). The slice will include the item at the start index but exclude the item at the end index."
   ]
  },
  {
   "cell_type": "code",
   "execution_count": null,
   "metadata": {},
   "outputs": [],
   "source": [
    "# Slicing a tuple\n",
    "alphabet_tuple = (\"a\", \"b\", \"c\", \"d\", \"e\", \"f\", \"g\")\n",
    "print(alphabet_tuple[2:5]) # Items from index 2 (inclusive) to 5 (exclusive) -> ('c', 'd', 'e')"
   ]
  },
  {
   "cell_type": "markdown",
   "metadata": {},
   "source": [
    "### Slicing from the Beginning\n",
    "If you omit the start index, the slice will begin from the first item (index 0)."
   ]
  },
  {
   "cell_type": "code",
   "execution_count": null,
   "metadata": {},
   "outputs": [],
   "source": [
    "# Slicing from the beginning\n",
    "numbers = (100, 200, 300, 400, 500, 600)\n",
    "print(numbers[:4]) # Items from the beginning up to index 4 (exclusive) -> (100, 200, 300, 400)"
   ]
  },
  {
   "cell_type": "markdown",
   "metadata": {},
   "source": [
    "### Slicing to the End\n",
    "If you omit the end index, the slice will go all the way to the last item of the tuple."
   ]
  },
  {
   "cell_type": "code",
   "execution_count": null,
   "metadata": {},
   "outputs": [],
   "source": [
    "# Slicing to the end\n",
    "days_of_week = (\"Mon\", \"Tue\", \"Wed\", \"Thu\", \"Fri\", \"Sat\", \"Sun\")\n",
    "print(days_of_week[3:]) # Items from index 3 (inclusive) to the end -> ('Thu', 'Fri', 'Sat', 'Sun')"
   ]
  },
  {
   "cell_type": "markdown",
   "metadata": {},
   "source": [
    "### Range of Negative Indexes\n",
    "You can also use negative indexes to define a range, starting the search from the end of the tuple."
   ]
  },
  {
   "cell_type": "code",
   "execution_count": null,
   "metadata": {},
   "outputs": [],
   "source": [
    "# Slicing with negative indexes\n",
    "cities = (\"London\", \"Paris\", \"Rome\", \"Berlin\", \"Madrid\", \"Tokyo\", \"Cairo\")\n",
    "# This example returns items from index -5 (inclusive) to index -2 (exclusive)\n",
    "print(cities[-5:-2]) # -> ('Rome', 'Berlin', 'Madrid')"
   ]
  },
  {
   "cell_type": "markdown",
   "metadata": {},
   "source": [
    "### Checking for Item Existence\n",
    "To check if a specific item exists within a tuple, you can use the `in` keyword. This returns a boolean value (`True` or `False`)."
   ]
  },
  {
   "cell_type": "code",
   "execution_count": null,
   "metadata": {},
   "outputs": [],
   "source": [
    "# Checking if an item exists in a tuple\n",
    "solar_system_planets = (\"Mercury\", \"Venus\", \"Earth\", \"Mars\", \"Jupiter\")\n",
    "if \"Earth\" in solar_system_planets:\n",
    "  print(\"Yes, 'Earth' is one of the planets!\")"
   ]
  },
  {
   "cell_type": "markdown",
   "metadata": {},
   "source": [
    "---"
   ]
  },
  {
   "cell_type": "markdown",
   "metadata": {},
   "source": [
    "# Modifying Tuples (Workarounds)"
   ]
  },
  {
   "cell_type": "markdown",
   "metadata": {},
   "source": [
    "As mentioned, tuples are **immutable**, meaning you cannot directly change, add, or remove items after creation. However, if you need to perform such operations, there's a common workaround: convert the tuple to a list, modify the list, and then convert it back to a tuple."
   ]
  },
  {
   "cell_type": "markdown",
   "metadata": {},
   "source": [
    "### Changing Tuple Values\n",
    "To modify a value within a tuple, you first convert it to a list. Lists are mutable, so you can change the desired element. Finally, convert the list back into a tuple."
   ]
  },
  {
   "cell_type": "code",
   "execution_count": null,
   "metadata": {},
   "outputs": [],
   "source": [
    "# Changing a value in a tuple using a list workaround\n",
    "original_tuple = (\"apple\", \"banana\", \"cherry\")\n",
    "temp_list = list(original_tuple) # Convert tuple to list\n",
    "temp_list[1] = \"grape\"         # Modify the list\n",
    "modified_tuple = tuple(temp_list) # Convert list back to tuple\n",
    "\n",
    "print(modified_tuple) # Output: ('apple', 'grape', 'cherry')"
   ]
  },
  {
   "cell_type": "markdown",
   "metadata": {},
   "source": [
    "---"
   ]
  },
  {
   "cell_type": "markdown",
   "metadata": {},
   "source": [
    "## Adding Items to a Tuple"
   ]
  },
  {
   "cell_type": "markdown",
   "metadata": {},
   "source": [
    "Directly adding items to a tuple using methods like `append()` (which lists have) is not possible. Attempting to do so will result in an `AttributeError`."
   ]
  },
  {
   "cell_type": "code",
   "execution_count": null,
   "metadata": {},
   "outputs": [],
   "source": [
    "# This will raise an AttributeError: 'tuple' object has no attribute 'append'\n",
    "# my_tuple = (1, 2, 3)\n",
    "# my_tuple.append(4)\n",
    "# print(my_tuple)"
   ]
  },
  {
   "cell_type": "markdown",
   "metadata": {},
   "source": [
    "The workaround involves converting the tuple to a list, using list's `append()` method, and then converting back to a tuple."
   ]
  },
  {
   "cell_type": "code",
   "execution_count": null,
   "metadata": {},
   "outputs": [],
   "source": [
    "# Adding an item to a tuple using a list workaround\n",
    "initial_tuple = (\"red\", \"green\")\n",
    "temp_list_add = list(initial_tuple)\n",
    "temp_list_add.append(\"blue\")\n",
    "updated_tuple = tuple(temp_list_add)\n",
    "\n",
    "print(updated_tuple) # Output: ('red', 'green', 'blue')"
   ]
  },
  {
   "cell_type": "markdown",
   "metadata": {},
   "source": [
    "---"
   ]
  },
  {
   "cell_type": "markdown",
   "metadata": {},
   "source": [
    "## Removing Items from a Tuple"
   ]
  },
  {
   "cell_type": "markdown",
   "metadata": {},
   "source": [
    "Similar to adding items, you cannot directly remove items from a tuple. You must use the list conversion workaround."
   ]
  },
  {
   "cell_type": "code",
   "execution_count": null,
   "metadata": {},
   "outputs": [],
   "source": [
    "# Removing an item from a tuple using a list workaround\n",
    "color_tuple = (\"red\", \"green\", \"blue\", \"yellow\")\n",
    "temp_list_remove = list(color_tuple)\n",
    "temp_list_remove.remove(\"green\") # Remove the item 'green'\n",
    "remaining_tuple = tuple(temp_list_remove)\n",
    "\n",
    "print(remaining_tuple) # Output: ('red', 'blue', 'yellow')"
   ]
  },
  {
   "cell_type": "markdown",
   "metadata": {},
   "source": [
    "### Deleting the Entire Tuple\n",
    "While you can't remove individual items, you can completely delete a tuple using the `del` keyword. After deletion, trying to access the tuple will result in a `NameError`."
   ]
  },
  {
   "cell_type": "code",
   "execution_count": null,
   "metadata": {},
   "outputs": [],
   "source": [
    "# Deleting an entire tuple\n",
    "my_old_tuple = (\"item1\", \"item2\")\n",
    "del my_old_tuple\n",
    "# print(my_old_tuple) # This line would cause a NameError because my_old_tuple no longer exists"
   ]
  },
  {
   "cell_type": "markdown",
   "metadata": {},
   "source": [
    "---"
   ]
  },
  {
   "cell_type": "markdown",
   "metadata": {},
   "source": [
    "# Unpacking Tuples"
   ]
  },
  {
   "cell_type": "markdown",
   "metadata": {},
   "source": [
    "When you create a tuple and assign values to it, this process is known as **packing** a tuple."
   ]
  },
  {
   "cell_type": "code",
   "execution_count": null,
   "metadata": {},
   "outputs": [],
   "source": [
    "# Packing a tuple\n",
    "programming_languages = (\"Python\", \"Java\", \"C++\")"
   ]
  },
  {
   "cell_type": "markdown",
   "metadata": {},
   "source": [
    "Python also allows you to extract the values from a tuple back into individual variables. This process is called **unpacking**. The number of variables on the left side of the assignment must match the number of items in the tuple."
   ]
  },
  {
   "cell_type": "code",
   "execution_count": null,
   "metadata": {},
   "outputs": [],
   "source": [
    "# Unpacking a tuple\n",
    "colors = (\"orange\", \"purple\", \"cyan\")\n",
    "\n",
    "# Assigning tuple items to individual variables\n",
    "(primary, secondary, tertiary) = colors\n",
    "\n",
    "print(primary)\n",
    "print(secondary)\n",
    "print(tertiary)"
   ]
  },
  {
   "cell_type": "markdown",
   "metadata": {},
   "source": [
    "---"
   ]
  },
  {
   "cell_type": "markdown",
   "metadata": {},
   "source": [
    "# Looping Through Tuples"
   ]
  },
  {
   "cell_type": "markdown",
   "metadata": {},
   "source": [
    "You can iterate over the items in a tuple using various looping constructs, most commonly the `for` loop and the `while` loop."
   ]
  },
  {
   "cell_type": "markdown",
   "metadata": {},
   "source": [
    "### Using a `for` Loop\n",
    "The `for` loop is ideal for iterating directly over each item in the tuple."
   ]
  },
  {
   "cell_type": "code",
   "execution_count": null,
   "metadata": {},
   "outputs": [],
   "source": [
    "# Looping through a tuple using a for loop\n",
    "animals = (\"dog\", \"cat\", \"bird\", \"fish\")\n",
    "for animal in animals:\n",
    "  print(animal)"
   ]
  },
  {
   "cell_type": "markdown",
   "metadata": {},
   "source": [
    "### Using a `while` Loop\n",
    "You can also loop through a tuple using its index with a `while` loop. This requires initializing an index, incrementing it in each iteration, and using `len()` to control the loop."
   ]
  },
  {
   "cell_type": "code",
   "execution_count": null,
   "metadata": {},
   "outputs": [],
   "source": [
    "# Looping through a tuple using a while loop\n",
    "fruits = (\"apple\", \"banana\", \"kiwi\")\n",
    "index = 0\n",
    "while index < len(fruits):\n",
    "  print(fruits[index])\n",
    "  index = index + 1"
   ]
  },
  {
   "cell_type": "markdown",
   "metadata": {},
   "source": [
    "---"
   ]
  },
  {
   "cell_type": "markdown",
   "metadata": {},
   "source": [
    "# Joining Tuples"
   ]
  },
  {
   "cell_type": "markdown",
   "metadata": {},
   "source": [
    "You can combine two or more tuples to create a new, larger tuple."
   ]
  },
  {
   "cell_type": "markdown",
   "metadata": {},
   "source": [
    "### Using the `+` Operator\n",
    "The simplest way to join tuples is by using the `+` operator. This concatenates the tuples in the order they appear."
   ]
  },
  {
   "cell_type": "code",
   "execution_count": null,
   "metadata": {},
   "outputs": [],
   "source": [
    "# Joining two tuples\n",
    "tuple_part1 = (1, 2, 3)\n",
    "tuple_part2 = ('a', 'b', 'c')\n",
    "\n",
    "combined_tuple = tuple_part1 + tuple_part2\n",
    "print(combined_tuple) # Output: (1, 2, 3, 'a', 'b', 'c')"
   ]
  },
  {
   "cell_type": "markdown",
   "metadata": {},
   "source": [
    "### Multiplying Tuples\n",
    "You can multiply a tuple by an integer using the `*` operator. This will create a new tuple where the original tuple's items are repeated that many times."
   ]
  },
  {
   "cell_type": "code",
   "execution_count": null,
   "metadata": {},
   "outputs": [],
   "source": [
    "# Multiplying a tuple\n",
    "original_tuple = (\"hello\", \"world\")\n",
    "repeated_tuple = original_tuple * 3\n",
    "\n",
    "print(repeated_tuple) # Output: ('hello', 'world', 'hello', 'world', 'hello', 'world')"
   ]
  },
  {
   "cell_type": "markdown",
   "metadata": {},
   "source": [
    "---"
   ]
  },
  {
   "cell_type": "markdown",
   "metadata": {},
   "source": [
    "# Tuple Methods"
   ]
  },
  {
   "cell_type": "markdown",
   "metadata": {},
   "source": [
    "Python tuples have two built-in methods: `count()` and `index()`. Unlike lists, tuples do not have methods for adding, removing, or changing elements due to their immutable nature."
   ]
  },
  {
   "cell_type": "markdown",
   "metadata": {},
   "source": [
    "### `count()` Method\n",
    "The `count()` method returns the number of times a specified value appears in the tuple."
   ]
  },
  {
   "cell_type": "code",
   "execution_count": null,
   "metadata": {},
   "outputs": [],
   "source": [
    "# Using the count() method\n",
    "random_numbers = (1, 5, 2, 8, 5, 9, 5, 3)\n",
    "count_of_five = random_numbers.count(5)\n",
    "\n",
    "print(count_of_five) # Output: 3"
   ]
  },
  {
   "cell_type": "markdown",
   "metadata": {},
   "source": [
    "### `index()` Method\n",
    "The `index()` method searches the tuple for a specified value and returns the index of its *first* occurrence. If the value is not found, it raises a `ValueError`."
   ]
  },
  {
   "cell_type": "code",
   "execution_count": null,
   "metadata": {},
   "outputs": [],
   "source": [
    "# Using the index() method\n",
    "my_items = (\"pen\", \"book\", \"pencil\", \"eraser\", \"book\")\n",
    "index_of_book = my_items.index(\"book\")\n",
    "\n",
    "print(index_of_book) # Output: 1 (the first 'book' is at index 1)\n",
    "\n",
    "# Example of ValueError if item not found:\n",
    "# try:\n",
    "#   index_of_marker = my_items.index(\"marker\")\n",
    "#   print(index_of_marker)\n",
    "# except ValueError as e:\n",
    "#   print(e) # Output: tuple.index(x): x not in tuple"
   ]
  },
  {
   "cell_type": "markdown",
   "metadata": {},
   "source": [
    "---"
   ]
  },
  {
   "cell_type": "markdown",
   "metadata": {},
   "source": [
    "# Tuple Exercises"
   ]
  },
  {
   "cell_type": "markdown",
   "metadata": {},
   "source": [
    "Let's put your knowledge of tuples to the test with some exercises!"
   ]
  },
  {
   "cell_type": "markdown",
   "metadata": {},
   "source": [
    "---"
   ]
  },
  {
   "cell_type": "markdown",
   "metadata": {},
   "source": [
    "### 1. Print the first item in the `planets` tuple."
   ]
  },
  {
   "cell_type": "code",
   "execution_count": null,
   "metadata": {},
   "outputs": [],
   "source": [
    "planets = (\"Mars\", \"Jupiter\", \"Saturn\", \"Uranus\", \"Neptune\")\n",
    "print(planets[0])"
   ]
  },
  {
   "cell_type": "markdown",
   "metadata": {},
   "source": [
    "---"
   ]
  },
  {
   "cell_type": "markdown",
   "metadata": {},
   "source": [
    "### 2. Print the total number of items in the `shapes` tuple."
   ]
  },
  {
   "cell_type": "code",
   "execution_count": null,
   "metadata": {},
   "outputs": [],
   "source": [
    "shapes = (\"square\", \"circle\", \"triangle\", \"rectangle\")\n",
    "print(len(shapes))"
   ]
  },
  {
   "cell_type": "markdown",
   "metadata": {},
   "source": [
    "---"
   ]
  },
  {
   "cell_type": "markdown",
   "metadata": {},
   "source": [
    "### 3. Use negative indexing to print the last item in the `weekdays` tuple."
   ]
  },
  {
   "cell_type": "code",
   "execution_count": null,
   "metadata": {},
   "outputs": [],
   "source": [
    "weekdays = (\"Monday\", \"Tuesday\", \"Wednesday\", \"Thursday\", \"Friday\")\n",
    "print(weekdays[-1])"
   ]
  },
  {
   "cell_type": "markdown",
   "metadata": {},
   "source": [
    "---"
   ]
  },
  {
   "cell_type": "markdown",
   "metadata": {},
   "source": [
    "### 4. Use a range of indexes to print the items from \"carrot\" to \"grape\" (inclusive) in the `vegetables_and_fruits` tuple."
   ]
  },
  {
   "cell_type": "code",
   "execution_count": null,
   "metadata": {},
   "outputs": [],
   "source": [
    "vegetables_and_fruits = (\"broccoli\", \"spinach\", \"carrot\", \"apple\", \"grape\", \"orange\", \"kiwi\")\n",
    "print(vegetables_and_fruits[2:5])"
   ]
  },
  {
   "cell_type": "markdown",
   "metadata": {},
   "source": [
    "---"
   ]
  },
  {
   "cell_type": "markdown",
   "metadata": {},
   "source": [
    "### 5. Using negative indexing, print the items from \"apple\" to \"orange\" (inclusive) from the `vegetables_and_fruits` tuple."
   ]
  },
  {
   "cell_type": "code",
   "execution_count": null,
   "metadata": {},
   "outputs": [],
   "source": [
    "vegetables_and_fruits = (\"broccoli\", \"spinach\", \"carrot\", \"apple\", \"grape\", \"orange\", \"kiwi\")\n",
    "print(vegetables_and_fruits[-4:-1])"
   ]
  },
  {
   "cell_type": "markdown",
   "metadata": {},
   "source": [
    "---"
   ]
  }
 ],
 "metadata": {
  "kernelspec": {
   "display_name": "Python 3",
   "language": "python",
   "name": "python3"
  },
  "language_info": {
   "codemirror_mode": {
    "name": "ipython",
    "version": 3
   },
   "file_extension": ".py",
   "mimetype": "text/x-python",
   "name": "python",
   "nbconvert_exporter": "python",
   "pygments_lexer": "ipython3",
   "version": "3.9.7"
  }
 },
 "nbformat": 4,
 "nbformat_minor": 2
}
