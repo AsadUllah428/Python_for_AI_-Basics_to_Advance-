{
 "cells": [
  {
   "cell_type": "markdown",
   "metadata": {},
   "source": [
    "# Mastering Python Functions\n",
    "Welcome to this lecture on Python functions! We'll explore how to create reusable blocks of code to perform specific tasks. Functions are a core concept in programming that help make your code clean, modular, and easy to maintain."
   ]
  },
  {
   "cell_type": "markdown",
   "metadata": {},
   "source": [
    "### Finding the Largest of Three Numbers"
   ]
  },
  {
   "cell_type": "code",
   "execution_count": 1,
   "metadata": {},
   "outputs": [],
   "source": [
    "def find_greatest(num1, num2, num3):\n",
    "    \"\"\"Returns the greatest of three numbers.\"\"\"\n",
    "    if num1 >= num2 and num1 >= num3:\n",
    "        return num1\n",
    "    elif num2 >= num1 and num2 >= num3:\n",
    "        return num2\n",
    "    else:\n",
    "        return num3\n",
    "\n",
    "# Let's test the function with a few different sets of numbers\n"
   ]
  },
  {
   "cell_type": "code",
   "execution_count": 2,
   "metadata": {},
   "outputs": [
    {
     "name": "stdout",
     "output_type": "stream",
     "text": [
      "The largest number is: 22\n",
      "The largest number is: 100\n"
     ]
    }
   ],
   "source": [
    "result = find_greatest(15, 8, 22)\n",
    "print(f\"The largest number is: {result}\")\n",
    "\n",
    "result2 = find_greatest(100, 20, 50)\n",
    "print(f\"The largest number is: {result2}\")"
   ]
  },
  {
   "cell_type": "markdown",
   "metadata": {},
   "source": [
    "### Adding Up All Items in a List"
   ]
  },
  {
   "cell_type": "code",
   "execution_count": 3,
   "metadata": {},
   "outputs": [],
   "source": [
    "def calculate_total(numbers):\n",
    "    \"\"\"Calculates the sum of all numbers in a list.\"\"\"\n",
    "    total = 0\n",
    "    for number in numbers:\n",
    "        total += number\n",
    "    return total\n",
    "\n",
    "# Example usage\n",
    "my_numbers = [1, 2, 3, 4, 5, 6]\n"
   ]
  },
  {
   "cell_type": "code",
   "execution_count": 4,
   "metadata": {},
   "outputs": [
    {
     "name": "stdout",
     "output_type": "stream",
     "text": [
      "The sum of the list is: 21\n"
     ]
    }
   ],
   "source": [
    "list_sum = calculate_total(my_numbers)\n",
    "print(f\"The sum of the list is: {list_sum}\")"
   ]
  },
  {
   "cell_type": "markdown",
   "metadata": {},
   "source": [
    "### Multiplying All Numbers Together"
   ]
  },
  {
   "cell_type": "code",
   "execution_count": 5,
   "metadata": {},
   "outputs": [
    {
     "name": "stdout",
     "output_type": "stream",
     "text": [
      "The product of the numbers is: 30\n"
     ]
    }
   ],
   "source": [
    "def calculate_product(numbers):\n",
    "    \"\"\"Multiplies all numbers in a list and returns the product.\"\"\"\n",
    "    product = 1\n",
    "    for number in numbers:\n",
    "        product *= number\n",
    "    return product\n",
    "\n",
    "# Example usage\n",
    "my_list = [2, 5, 3]\n",
    "product_result = calculate_product(my_list)\n",
    "print(f\"The product of the numbers is: {product_result}\")"
   ]
  },
  {
   "cell_type": "markdown",
   "metadata": {},
   "source": [
    "### Flipping a String Around"
   ]
  },
  {
   "cell_type": "code",
   "execution_count": 6,
   "metadata": {},
   "outputs": [
    {
     "name": "stdout",
     "output_type": "stream",
     "text": [
      "Original: 'Python is fun'\n",
      "Reversed: 'nuf si nohtyP'\n"
     ]
    }
   ],
   "source": [
    "def flip_string(text):\n",
    "    \"\"\"Reverses a string and returns the reversed version.\"\"\"\n",
    "    return text[::-1]\n",
    "\n",
    "# Example usage\n",
    "original_string = \"Python is fun\"\n",
    "reversed_string = flip_string(original_string)\n",
    "print(f\"Original: '{original_string}'\")\n",
    "print(f\"Reversed: '{reversed_string}'\")"
   ]
  },
  {
   "cell_type": "markdown",
   "metadata": {},
   "source": [
    "### Computing the Factorial of a Number"
   ]
  },
  {
   "cell_type": "code",
   "execution_count": 7,
   "metadata": {},
   "outputs": [],
   "source": [
    "def find_factorial(n):\n",
    "    \"\"\"Calculates the factorial of a number using recursion.\"\"\"\n",
    "    if n == 0 or n == 1:\n",
    "        return 1\n",
    "    else:\n",
    "        return n * find_factorial(n - 1)\n",
    "\n",
    "# Example usage\n",
    "number = 6\n"
   ]
  },
  {
   "cell_type": "code",
   "execution_count": 8,
   "metadata": {},
   "outputs": [
    {
     "name": "stdout",
     "output_type": "stream",
     "text": [
      "The factorial of 6 is: 720\n"
     ]
    }
   ],
   "source": [
    "factorial_result = find_factorial(number)\n",
    "print(f\"The factorial of {number} is: {factorial_result}\")"
   ]
  },
  {
   "cell_type": "markdown",
   "metadata": {},
   "source": [
    "### Checking if a Value is Within a Range"
   ]
  },
  {
   "cell_type": "code",
   "execution_count": 9,
   "metadata": {},
   "outputs": [],
   "source": [
    "def check_range(value, min_val, max_val):\n",
    "    \"\"\"Checks if a value is within a specified range (inclusive).\"\"\"\n",
    "    return min_val <= value <= max_val\n",
    "\n",
    "# Example usage\n"
   ]
  },
  {
   "cell_type": "code",
   "execution_count": 10,
   "metadata": {},
   "outputs": [
    {
     "name": "stdout",
     "output_type": "stream",
     "text": [
      "Is 15 in the range [10, 20]? True\n",
      "Is 30 in the range [10, 20]? False\n"
     ]
    }
   ],
   "source": [
    "is_in = check_range(15, 10, 20)\n",
    "print(f\"Is 15 in the range [10, 20]? {is_in}\")\n",
    "\n",
    "is_out = check_range(30, 10, 20)\n",
    "print(f\"Is 30 in the range [10, 20]? {is_out}\")"
   ]
  },
  {
   "cell_type": "markdown",
   "metadata": {},
   "source": [
    "### Analyzing Letter Casing in a String"
   ]
  },
  {
   "cell_type": "code",
   "execution_count": 11,
   "metadata": {},
   "outputs": [],
   "source": [
    "def count_letter_cases(sentence):\n",
    "    \"\"\"Counts the number of uppercase and lowercase letters in a string.\"\"\"\n",
    "    counts = {'uppercase': 0, 'lowercase': 0}\n",
    "    for char in sentence:\n",
    "        if char.isupper():\n",
    "            counts['uppercase'] += 1\n",
    "        elif char.islower():\n",
    "            counts['lowercase'] += 1\n",
    "    return counts\n",
    "\n",
    "# Example usage\n",
    "text = \"Hello World! I'm learning Python.\"\n",
    "case_counts = count_letter_cases(text)\n"
   ]
  },
  {
   "cell_type": "code",
   "execution_count": 12,
   "metadata": {},
   "outputs": [
    {
     "name": "stdout",
     "output_type": "stream",
     "text": [
      "Uppercase letters: 4\n",
      "Lowercase letters: 22\n"
     ]
    }
   ],
   "source": [
    "print(f\"Uppercase letters: {case_counts['uppercase']}\")\n",
    "print(f\"Lowercase letters: {case_counts['lowercase']}\")"
   ]
  },
  {
   "cell_type": "markdown",
   "metadata": {},
   "source": [
    "### Filtering a List for Unique Items"
   ]
  },
  {
   "cell_type": "code",
   "execution_count": 13,
   "metadata": {},
   "outputs": [
    {
     "name": "stdout",
     "output_type": "stream",
     "text": [
      "Original list: [10, 20, 30, 20, 40, 10, 50, 60, 50]\n",
      "List with unique elements: [40, 10, 50, 20, 60, 30]\n"
     ]
    }
   ],
   "source": [
    "def get_unique_list(items):\n",
    "    \"\"\"Returns a new list containing only the unique elements from an input list.\"\"\"\n",
    "    return list(set(items))\n",
    "\n",
    "# Example usage\n",
    "sample_list = [10, 20, 30, 20, 40, 10, 50, 60, 50]\n",
    "unique_items = get_unique_list(sample_list)\n",
    "print(f\"Original list: {sample_list}\")\n",
    "print(f\"List with unique elements: {unique_items}\")"
   ]
  },
  {
   "cell_type": "markdown",
   "metadata": {},
   "source": [
    "### Determining if a Number is Prime"
   ]
  },
  {
   "cell_type": "code",
   "execution_count": 14,
   "metadata": {},
   "outputs": [
    {
     "name": "stdout",
     "output_type": "stream",
     "text": [
      "Is 17 a prime number? True\n",
      "Is 12 a prime number? False\n"
     ]
    }
   ],
   "source": [
    "import math\n",
    "\n",
    "def is_prime(number):\n",
    "    \"\"\"Checks if a number is prime.\"\"\"\n",
    "    if number < 2:\n",
    "        return False\n",
    "    for i in range(2, int(math.sqrt(number)) + 1):\n",
    "        if number % i == 0:\n",
    "            return False\n",
    "    return True\n",
    "\n",
    "# Example usage\n",
    "print(f\"Is 17 a prime number? {is_prime(17)}\")\n",
    "print(f\"Is 12 a prime number? {is_prime(12)}\")"
   ]
  },
  {
   "cell_type": "markdown",
   "metadata": {},
   "source": [
    "### Extracting Even Numbers from a Sequence"
   ]
  },
  {
   "cell_type": "code",
   "execution_count": 15,
   "metadata": {},
   "outputs": [
    {
     "name": "stdout",
     "output_type": "stream",
     "text": [
      "The even numbers are: [2, 4, 6, 8, 10]\n"
     ]
    }
   ],
   "source": [
    "def extract_even_numbers(numbers):\n",
    "    \"\"\"Returns a new list containing only the even numbers from an input list.\"\"\"\n",
    "    return [num for num in numbers if num % 2 == 0]\n",
    "\n",
    "# Example usage\n",
    "mixed_numbers = [1, 2, 3, 4, 5, 6, 7, 8, 9, 10]\n",
    "even_list = extract_even_numbers(mixed_numbers)\n",
    "print(f\"The even numbers are: {even_list}\")"
   ]
  },
  {
   "cell_type": "markdown",
   "metadata": {},
   "source": [
    "### Creating a List of Squares"
   ]
  },
  {
   "cell_type": "code",
   "execution_count": 16,
   "metadata": {},
   "outputs": [
    {
     "name": "stdout",
     "output_type": "stream",
     "text": [
      "The list of squares is: [1, 4, 9, 16, 25, 36, 49, 64, 81, 100]\n"
     ]
    }
   ],
   "source": [
    "def generate_squares(start, end):\n",
    "    \"\"\"Generates a list of squares for numbers in a given range.\"\"\"\n",
    "    return [i**2 for i in range(start, end + 1)]\n",
    "\n",
    "# Example usage\n",
    "square_numbers = generate_squares(1, 10)\n",
    "print(f\"The list of squares is: {square_numbers}\")"
   ]
  }
 ],
 "metadata": {
  "kernelspec": {
   "display_name": "base",
   "language": "python",
   "name": "python3"
  },
  "language_info": {
   "codemirror_mode": {
    "name": "ipython",
    "version": 3
   },
   "file_extension": ".py",
   "mimetype": "text/x-python",
   "name": "python",
   "nbconvert_exporter": "python",
   "pygments_lexer": "ipython3",
   "version": "3.13.5"
  }
 },
 "nbformat": 4,
 "nbformat_minor": 2
}
