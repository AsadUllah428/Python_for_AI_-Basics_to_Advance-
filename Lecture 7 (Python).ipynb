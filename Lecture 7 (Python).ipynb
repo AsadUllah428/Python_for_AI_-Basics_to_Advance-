{
 "cells": [
  {
   "cell_type": "markdown",
   "metadata": {},
   "source": [
    "# Python Dictionaries: A Deeper Dive"
   ]
  },
  {
   "cell_type": "markdown",
   "metadata": {},
   "source": [
    "In Python, a **dictionary** is a powerful, flexible, and widely-used data structure. It's an unordered collection of data values used to store information in **key:value** pairs. Think of it like a real-world dictionary where you look up a word (the key) to find its definition (the value)."
   ]
  },
  {
   "cell_type": "markdown",
   "metadata": {},
   "source": [
    "### Creating a Dictionary\n",
    "Dictionaries are defined with curly braces `{}`. Each item consists of a key followed by a colon ` : ` and then a value. Key-value pairs are separated by commas."
   ]
  },
  {
   "cell_type": "code",
   "execution_count": 1,
   "metadata": {},
   "outputs": [],
   "source": [
    "my_profile = {\n",
    "    \"name\": \"Alex\",\n",
    "    \"age\": 30,\n",
    "    \"city\": \"New York\"\n",
    "}"
   ]
  },
  {
   "cell_type": "markdown",
   "metadata": {},
   "source": [
    "The keys in a dictionary must be unique and immutable (like strings, numbers, or tuples). The values, however, can be of any data type, including strings, numbers, lists, or even other dictionaries."
   ]
  },
  {
   "cell_type": "code",
   "execution_count": 2,
   "metadata": {},
   "outputs": [
    {
     "name": "stdout",
     "output_type": "stream",
     "text": [
      "{'name': 'Alex', 'age': 30, 'city': 'New York'}\n"
     ]
    }
   ],
   "source": [
    "print(my_profile)"
   ]
  },
  {
   "cell_type": "markdown",
   "metadata": {},
   "source": [
    "---"
   ]
  },
  {
   "cell_type": "markdown",
   "metadata": {},
   "source": [
    "## Key Characteristics of Dictionaries\n",
    "Let's explore some fundamental properties of dictionaries."
   ]
  },
  {
   "cell_type": "markdown",
   "metadata": {},
   "source": [
    "### 1. Unordered (in older Python versions)\n",
    "As of Python 3.7, dictionaries maintain insertion order. However, you can't access items using a numerical index like you would with a list."
   ]
  },
  {
   "cell_type": "markdown",
   "metadata": {},
   "source": [
    "### 2. Changeable (Mutable)\n",
    "You can modify, add, or remove key-value pairs after a dictionary is created."
   ]
  },
  {
   "cell_type": "code",
   "execution_count": 3,
   "metadata": {},
   "outputs": [
    {
     "name": "stdout",
     "output_type": "stream",
     "text": [
      "{'name': 'Alex', 'age': 31, 'city': 'New York'}\n"
     ]
    }
   ],
   "source": [
    "# Changing a value\n",
    "my_profile[\"age\"] = 31\n",
    "print(my_profile)"
   ]
  },
  {
   "cell_type": "markdown",
   "metadata": {},
   "source": [
    "### 3. No Duplicate Keys\n",
    "If you try to add a new key that already exists, the old value will be overwritten with the new one. The dictionary will not raise an error or add a new entry."
   ]
  },
  {
   "cell_type": "code",
   "execution_count": 4,
   "metadata": {},
   "outputs": [
    {
     "name": "stdout",
     "output_type": "stream",
     "text": [
      "{'fruit': 'apple', 'color': 'red', 'count': 3}\n"
     ]
    }
   ],
   "source": [
    "inventory = {\n",
    "    \"fruit\": \"apple\",\n",
    "    \"color\": \"green\",\n",
    "    \"color\": \"red\",\n",
    "    \"count\": 3\n",
    "}\n",
    "print(inventory)\n",
    "# Notice how \"green\" was replaced by \"red\""
   ]
  },
  {
   "cell_type": "markdown",
   "metadata": {},
   "source": [
    "---"
   ]
  },
  {
   "cell_type": "markdown",
   "metadata": {},
   "source": [
    "## Basic Dictionary Operations"
   ]
  },
  {
   "cell_type": "markdown",
   "metadata": {},
   "source": [
    "### Finding the Length\n",
    "You can find out how many key-value pairs are in a dictionary using the `len()` function."
   ]
  },
  {
   "cell_type": "code",
   "execution_count": 5,
   "metadata": {},
   "outputs": [
    {
     "name": "stdout",
     "output_type": "stream",
     "text": [
      "3\n"
     ]
    }
   ],
   "source": [
    "student = {\"name\": \"Jane\", \"grade\": 95, \"course\": \"Math\"}\n",
    "print(len(student))"
   ]
  },
  {
   "cell_type": "markdown",
   "metadata": {},
   "source": [
    "### Accessing Dictionary Items\n",
    "To access a value, you can use either square bracket notation or the `get()` method."
   ]
  },
  {
   "cell_type": "code",
   "execution_count": 6,
   "metadata": {},
   "outputs": [
    {
     "name": "stdout",
     "output_type": "stream",
     "text": [
      "Jane\n",
      "Math\n"
     ]
    }
   ],
   "source": [
    "print(student[\"name\"])\n",
    "print(student.get(\"course\"))"
   ]
  },
  {
   "cell_type": "markdown",
   "metadata": {},
   "source": [
    "The key advantage of `get()` is that it won't raise an error if the key doesn't exist. Instead, it returns `None`."
   ]
  },
  {
   "cell_type": "code",
   "execution_count": 7,
   "metadata": {},
   "outputs": [
    {
     "name": "stdout",
     "output_type": "stream",
     "text": [
      "None\n"
     ]
    }
   ],
   "source": [
    "print(student.get(\"year\"))"
   ]
  },
  {
   "cell_type": "markdown",
   "metadata": {},
   "source": [
    "### Getting Keys, Values, and Items"
   ]
  },
  {
   "cell_type": "code",
   "execution_count": 8,
   "metadata": {},
   "outputs": [
    {
     "name": "stdout",
     "output_type": "stream",
     "text": [
      "dict_keys(['name', 'grade', 'course'])\n"
     ]
    }
   ],
   "source": [
    "print(student.keys())"
   ]
  },
  {
   "cell_type": "code",
   "execution_count": 9,
   "metadata": {},
   "outputs": [
    {
     "name": "stdout",
     "output_type": "stream",
     "text": [
      "dict_values(['Jane', 95, 'Math'])\n"
     ]
    }
   ],
   "source": [
    "print(student.values())"
   ]
  },
  {
   "cell_type": "code",
   "execution_count": 10,
   "metadata": {},
   "outputs": [
    {
     "name": "stdout",
     "output_type": "stream",
     "text": [
      "dict_items([('name', 'Jane'), ('grade', 95), ('course', 'Math')])\n"
     ]
    }
   ],
   "source": [
    "print(student.items())\n",
    "# This returns a list of tuples, where each tuple is a key-value pair."
   ]
  },
  {
   "cell_type": "markdown",
   "metadata": {},
   "source": [
    "### Removing Items\n",
    "You can remove dictionary items using methods like `pop()` and `popitem()`, or with the `del` keyword."
   ]
  },
  {
   "cell_type": "code",
   "execution_count": 11,
   "metadata": {},
   "outputs": [
    {
     "name": "stdout",
     "output_type": "stream",
     "text": [
      "{'name': 'Jane', 'course': 'Math'}\n"
     ]
    }
   ],
   "source": [
    "student.pop(\"grade\")\n",
    "print(student)"
   ]
  },
  {
   "cell_type": "code",
   "execution_count": 12,
   "metadata": {},
   "outputs": [
    {
     "name": "stdout",
     "output_type": "stream",
     "text": [
      "{'name': 'Jane'}\n"
     ]
    }
   ],
   "source": [
    "student.popitem() # Removes the last inserted item\n",
    "print(student)"
   ]
  },
  {
   "cell_type": "code",
   "execution_count": 13,
   "metadata": {},
   "outputs": [
    {
     "name": "stdout",
     "output_type": "stream",
     "text": [
      "{'brand': 'Samsung', 'color': 'black'}\n"
     ]
    }
   ],
   "source": [
    "phone = {\"brand\": \"Samsung\", \"model\": \"S21\", \"color\": \"black\"}\n",
    "del phone[\"model\"]\n",
    "print(phone)"
   ]
  },
  {
   "cell_type": "markdown",
   "metadata": {},
   "source": [
    "To remove all items and make the dictionary empty, use the `clear()` method."
   ]
  },
  {
   "cell_type": "code",
   "execution_count": 14,
   "metadata": {},
   "outputs": [
    {
     "name": "stdout",
     "output_type": "stream",
     "text": [
      "{}\n"
     ]
    }
   ],
   "source": [
    "phone.clear()\n",
    "print(phone)"
   ]
  },
  {
   "cell_type": "markdown",
   "metadata": {},
   "source": [
    "---"
   ]
  },
  {
   "cell_type": "markdown",
   "metadata": {},
   "source": [
    "## Looping Through Dictionaries\n",
    "You can easily iterate through a dictionary to access its keys, values, or both."
   ]
  },
  {
   "cell_type": "code",
   "execution_count": 15,
   "metadata": {},
   "outputs": [
    {
     "name": "stdout",
     "output_type": "stream",
     "text": [
      "item\n",
      "price\n",
      "quantity\n"
     ]
    }
   ],
   "source": [
    "shopping_list = {\n",
    "    \"item\": \"milk\",\n",
    "    \"price\": 3.50,\n",
    "    \"quantity\": 2\n",
    "}\n",
    "\n",
    "# Looping through keys (default behavior)\n",
    "for key in shopping_list:\n",
    "    print(key)"
   ]
  },
  {
   "cell_type": "code",
   "execution_count": 16,
   "metadata": {},
   "outputs": [
    {
     "name": "stdout",
     "output_type": "stream",
     "text": [
      "milk\n",
      "3.5\n",
      "2\n"
     ]
    }
   ],
   "source": [
    "# Looping through values\n",
    "for value in shopping_list.values():\n",
    "    print(value)"
   ]
  },
  {
   "cell_type": "code",
   "execution_count": 17,
   "metadata": {},
   "outputs": [
    {
     "name": "stdout",
     "output_type": "stream",
     "text": [
      "item milk\n",
      "price 3.5\n",
      "quantity 2\n"
     ]
    }
   ],
   "source": [
    "# Looping through both keys and values\n",
    "for key, value in shopping_list.items():\n",
    "    print(key, value)"
   ]
  },
  {
   "cell_type": "markdown",
   "metadata": {},
   "source": [
    "---"
   ]
  },
  {
   "cell_type": "markdown",
   "metadata": {},
   "source": [
    "## Exercises"
   ]
  },
  {
   "cell_type": "markdown",
   "metadata": {},
   "source": [
    "### 1. Accessing a value using `get()`\n",
    "Use the `get()` method to retrieve and print the 'author' of the `book` dictionary. If the key doesn't exist, it should return 'Unknown'."
   ]
  },
  {
   "cell_type": "code",
   "execution_count": 18,
   "metadata": {},
   "outputs": [
    {
     "name": "stdout",
     "output_type": "stream",
     "text": [
      "J.K. Rowling\n"
     ]
    }
   ],
   "source": [
    "book = {\n",
    "    \"title\": \"Harry Potter\",\n",
    "    \"author\": \"J.K. Rowling\",\n",
    "    \"year\": 1997\n",
    "}\n",
    "print(book.get('author', 'Unknown'))"
   ]
  },
  {
   "cell_type": "markdown",
   "metadata": {},
   "source": [
    "### 2. Updating a Dictionary Item\n",
    "Change the 'status' value in the `task` dictionary from 'pending' to 'completed'."
   ]
  },
  {
   "cell_type": "code",
   "execution_count": 19,
   "metadata": {},
   "outputs": [
    {
     "name": "stdout",
     "output_type": "stream",
     "text": [
      "{'name': 'Write report', 'due_date': '2025-08-15', 'status': 'completed'}\n"
     ]
    }
   ],
   "source": [
    "task = {\n",
    "    \"name\": \"Write report\",\n",
    "    \"due_date\": \"2025-08-15\",\n",
    "    \"status\": \"pending\"\n",
    "}\n",
    "task['status'] = 'completed'\n",
    "print(task)"
   ]
  },
  {
   "cell_type": "markdown",
   "metadata": {},
   "source": [
    "### 3. Adding a New Item\n",
    "Add a new key-value pair, 'rating': 5, to the `restaurant` dictionary."
   ]
  },
  {
   "cell_type": "code",
   "execution_count": 20,
   "metadata": {},
   "outputs": [
    {
     "name": "stdout",
     "output_type": "stream",
     "text": [
      "{'name': 'The Gourmet Kitchen', 'cuisine': 'Italian', 'rating': 5}\n"
     ]
    }
   ],
   "source": [
    "restaurant = {\n",
    "    \"name\": \"The Gourmet Kitchen\",\n",
    "    \"cuisine\": \"Italian\"\n",
    "}\n",
    "restaurant['rating'] = 5\n",
    "print(restaurant)"
   ]
  },
  {
   "cell_type": "markdown",
   "metadata": {},
   "source": [
    "### 4. Removing an Item with `pop()`\n",
    "Remove the 'location' key from the `weather` dictionary using the `pop()` method."
   ]
  },
  {
   "cell_type": "code",
   "execution_count": 21,
   "metadata": {},
   "outputs": [
    {
     "name": "stdout",
     "output_type": "stream",
     "text": [
      "{'temperature': 75, 'conditions': 'Sunny'}\n"
     ]
    }
   ],
   "source": [
    "weather = {\n",
    "    \"location\": \"London\",\n",
    "    \"temperature\": 75,\n",
    "    \"conditions\": \"Sunny\"\n",
    "}\n",
    "weather.pop('location')\n",
    "print(weather)"
   ]
  },
  {
   "cell_type": "markdown",
   "metadata": {},
   "source": [
    "### 5. Clearing a Dictionary\n",
    "Use the `clear()` method to empty the `shopping_cart` dictionary."
   ]
  },
  {
   "cell_type": "code",
   "execution_count": 22,
   "metadata": {},
   "outputs": [
    {
     "name": "stdout",
     "output_type": "stream",
     "text": [
      "{}\n"
     ]
    }
   ],
   "source": [
    "shopping_cart = {\n",
    "    \"apples\": 3,\n",
    "    \"oranges\": 2,\n",
    "    \"bananas\": 5\n",
    "}\n",
    "shopping_cart.clear()\n",
    "print(shopping_cart)"
   ]
  }
 ],
 "metadata": {
  "kernelspec": {
   "display_name": "Python 3",
   "language": "python",
   "name": "python3"
  },
  "language_info": {
   "codemirror_mode": {
    "name": "ipython",
    "version": 3
   },
   "file_extension": ".py",
   "mimetype": "text/x-python",
   "name": "python",
   "nbconvert_exporter": "python",
   "pygments_lexer": "ipython3",
   "version": "3.7.3"
  }
 },
 "nbformat": 4,
 "nbformat_minor": 2
}
