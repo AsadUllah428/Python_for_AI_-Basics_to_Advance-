{
 "cells": [
  {
   "cell_type": "markdown",
   "metadata": {},
   "source": [
    "# Python's `enumerate()` Function\n",
    "\n",
    "In Python, the `enumerate()` function is a powerful and efficient tool that simplifies looping through an iterable while also keeping track of the index of each item. It's considered a highly **\"Pythonic\"** way to write cleaner and more readable loops, as it eliminates the need to manually manage an index counter."
   ]
  },
  {
   "cell_type": "markdown",
   "metadata": {},
   "source": [
    "---\n",
    "\n",
    "# Table of Contents\n",
    "1. Introduction\n",
    "2. Understanding the Basics\n",
    "3. Examples with Different Data Types\n",
    "4. Customizing the Start Index\n",
    "5. Combining `enumerate()` with Other Functions\n",
    "6. How `enumerate()` Works: A Generator Function\n",
    "7. `enumerate()` as an Iterator\n",
    "8. Using `enumerate()` with Dictionaries and Sets\n",
    "9. Common Mistakes and Best Practices\n",
    "10. Real-World Use Cases\n",
    "11. Summary and References\n",
    "\n",
    "---\n",
    "\n",
    "## Introduction\n",
    "\n",
    "This notebook provides a comprehensive guide to Python's `enumerate()` function. You'll learn its syntax, use cases, and best practices, with detailed code examples and explanations."
   ]
  },
  {
   "cell_type": "markdown",
   "metadata": {},
   "source": [
    "---\n",
    "\n",
    "## Understanding the Basics\n",
    "\n",
    "The `enumerate()` function wraps an iterable (like a list, tuple, or string) and returns an **iterator** that yields a sequence of pairs. Each pair is a tuple containing a **count** and the **value** from the iterable.\n",
    "\n",
    "### Syntax\n",
    "The basic syntax is simple:\n",
    "\n",
    "```python\n",
    "enumerate(iterable, start=0)\n",
    "```\n",
    "\n",
    "* **`iterable`**: Any object that can be looped over.\n",
    "* **`start`**: An optional integer argument to specify the starting index of the counter. By default, it's `0`."
   ]
  },
  {
   "cell_type": "markdown",
   "metadata": {},
   "source": [
    "---\n",
    "\n",
    "## Examples with Different Data Types"
   ]
  },
  {
   "cell_type": "code",
   "execution_count": 7,
   "metadata": {},
   "outputs": [
    {
     "name": "stdout",
     "output_type": "stream",
     "text": [
      "\n",
      "--- Iterating over a list ---\n",
      "Color at index 0 is red\n",
      "Color at index 1 is green\n",
      "Color at index 2 is blue\n",
      "Color at index 3 is yellow\n",
      "\n",
      "--- Converting to a list of tuples ---\n",
      "[(0, 'red'), (1, 'green'), (2, 'blue'), (3, 'yellow')]\n",
      "\n",
      "--- Iterating over a string ---\n",
      "Character at index 0 is 'H'\n",
      "Character at index 1 is 'e'\n",
      "Character at index 2 is 'l'\n",
      "Character at index 3 is 'l'\n",
      "Character at index 4 is 'o'\n",
      "Character at index 5 is ' '\n",
      "Character at index 6 is 'W'\n",
      "Character at index 7 is 'o'\n",
      "Character at index 8 is 'r'\n",
      "Character at index 9 is 'l'\n",
      "Character at index 10 is 'd'\n"
     ]
    }
   ],
   "source": [
    "# Example 1: Using enumerate() with a list\n",
    "colors = [\"red\", \"green\", \"blue\", \"yellow\"]\n",
    "phrase = \"Hello World\"\n",
    "\n",
    "print(\"\\n--- Iterating over a list ---\")\n",
    "# The enumerate() function returns both the index and the value for each item in the list\n",
    "for index, color in enumerate(colors):\n",
    "    print(f\"Color at index {index} is {color}\")  # index is the position, color is the value\n",
    "\n",
    "print(\"\\n--- Converting to a list of tuples ---\")\n",
    "# You can convert the enumerate object to a list of tuples (index, value)\n",
    "enumerate_list = list(enumerate(colors))\n",
    "print(enumerate_list)\n",
    "\n",
    "print(\"\\n--- Iterating over a string ---\")\n",
    "# enumerate() also works with strings, giving the index and character\n",
    "for index, char in enumerate(phrase):\n",
    "    print(f\"Character at index {index} is '{char}'\")"
   ]
  },
  {
   "cell_type": "markdown",
   "metadata": {},
   "source": [
    "---\n",
    "\n",
    "## Customizing the Start Index\n",
    "\n",
    "You can change the starting index for your counter using the `start` parameter. This is particularly useful for creating numbered lists that are easier for humans to read (e.g., starting at 1)."
   ]
  },
  {
   "cell_type": "code",
   "execution_count": 8,
   "metadata": {},
   "outputs": [
    {
     "name": "stdout",
     "output_type": "stream",
     "text": [
      "\n",
      "--- Starting counter from 1 ---\n",
      "Item 1: apple\n",
      "Item 2: banana\n",
      "Item 3: cherry\n",
      "Item 4: grape\n",
      "\n",
      "--- Starting counter from 100 ---\n",
      "ID 100: apple\n",
      "ID 101: banana\n",
      "ID 102: cherry\n",
      "ID 103: grape\n"
     ]
    }
   ],
   "source": [
    "# Example 2: Customizing the start index with enumerate()\n",
    "fruits = [\"apple\", \"banana\", \"cherry\", \"grape\"]\n",
    "\n",
    "print(\"\\n--- Starting counter from 1 ---\")\n",
    "# Here, the counter starts from 1 instead of the default 0\n",
    "for position, fruit in enumerate(fruits, start=1):\n",
    "    print(f\"Item {position}: {fruit}\")  # position starts at 1\n",
    "\n",
    "print(\"\\n--- Starting counter from 100 ---\")\n",
    "# You can start from any integer, such as 100\n",
    "for count, fruit in enumerate(fruits, start=100):\n",
    "    print(f\"ID {count}: {fruit}\")  # count starts at 100"
   ]
  },
  {
   "cell_type": "markdown",
   "metadata": {},
   "source": [
    "---\n",
    "\n",
    "## Combining `enumerate()` with Other Functions\n",
    "\n",
    "The power of `enumerate()` is its ability to be seamlessly combined with other Python functions, like `zip()`, to handle more complex data structures and tasks."
   ]
  },
  {
   "cell_type": "code",
   "execution_count": 9,
   "metadata": {},
   "outputs": [
    {
     "name": "stdout",
     "output_type": "stream",
     "text": [
      "\n",
      "--- Using `zip()` and `enumerate()` together ---\n",
      "Rank 1: Alice scored 85 points.\n",
      "Rank 2: Bob scored 92 points.\n",
      "Rank 3: Charlie scored 78 points.\n"
     ]
    }
   ],
   "source": [
    "# Example 3: Combining enumerate() with zip()\n",
    "students = [\"Alice\", \"Bob\", \"Charlie\"]\n",
    "scores = [85, 92, 78]\n",
    "\n",
    "print(\"\\n--- Using `zip()` and `enumerate()` together ---\")\n",
    "# zip() pairs each student with their score\n",
    "# enumerate() adds a rank starting from 1\n",
    "for rank, (student, score) in enumerate(zip(students, scores), start=1):\n",
    "    print(f\"Rank {rank}: {student} scored {score} points.\")"
   ]
  },
  {
   "cell_type": "markdown",
   "metadata": {},
   "source": [
    "---\n",
    "\n",
    "## How `enumerate()` Works: A Generator Function\n",
    "\n",
    "`enumerate()` is implemented as a **generator function**, which means it's memory-efficient. It doesn't create the entire list of tuples at once but instead generates one `(index, item)` pair at a time as the loop requests it.\n",
    "\n",
    "You can recreate this functionality using the `yield` keyword to understand its inner workings."
   ]
  },
  {
   "cell_type": "code",
   "execution_count": 10,
   "metadata": {},
   "outputs": [
    {
     "name": "stdout",
     "output_type": "stream",
     "text": [
      "Planet 0: Mercury\n",
      "Planet 1: Venus\n",
      "Planet 2: Earth\n",
      "Planet 3: Mars\n",
      "\n",
      "Converting to a list to see the output:\n",
      "[(1, 'Mercury'), (2, 'Venus'), (3, 'Earth'), (4, 'Mars')]\n"
     ]
    }
   ],
   "source": [
    "def custom_enumerate(sequence, start=0):\n",
    "    \"\"\"A simple implementation of enumerate using a generator.\"\"\"\n",
    "    n = start\n",
    "    for element in sequence:\n",
    "        yield (n, element)  # Yield a tuple of (index, element)\n",
    "        n += 1\n",
    "\n",
    "# Example using our custom function\n",
    "planets = [\"Mercury\", \"Venus\", \"Earth\", \"Mars\"]\n",
    "# Loop through planets with custom_enumerate, default start=0\n",
    "for count, planet in custom_enumerate(planets):\n",
    "    print(f\"Planet {count}: {planet}\")\n",
    "\n",
    "print(\"\\nConverting to a list to see the output:\")\n",
    "# Show how to start from 1 and convert to a list of tuples\n",
    "print(list(custom_enumerate(planets, start=1)))"
   ]
  },
  {
   "cell_type": "markdown",
   "metadata": {},
   "source": [
    "---\n",
    "\n",
    "## `enumerate()` as an Iterator\n",
    "\n",
    "Because `enumerate()` returns an iterator, it can be consumed using the `next()` function. Once an iterator is exhausted, it cannot be reused without re-creating it."
   ]
  },
  {
   "cell_type": "code",
   "execution_count": 11,
   "metadata": {},
   "outputs": [
    {
     "name": "stdout",
     "output_type": "stream",
     "text": [
      "(0, 'bread')\n",
      "(1, 'milk')\n",
      "[(2, 'sugar')]\n"
     ]
    }
   ],
   "source": [
    "groceries = ['bread', 'milk', 'sugar']\n",
    "enum_object = enumerate(groceries)\n",
    "\n",
    "# Get the first item using next()\n",
    "print(next(enum_object))  # Output: (0, 'bread')\n",
    "\n",
    "# Get the second item\n",
    "print(next(enum_object))  # Output: (1, 'milk')\n",
    "\n",
    "# Get the entire list of remaining items\n",
    "print(list(enum_object))  # Output: [(2, 'sugar')]\n",
    "# After this, the iterator is exhausted."
   ]
  },
  {
   "cell_type": "code",
   "execution_count": 12,
   "metadata": {},
   "outputs": [
    {
     "name": "stdout",
     "output_type": "stream",
     "text": [
      "\n",
      "--- Demonstrating exhaustion ---\n",
      "[]\n"
     ]
    }
   ],
   "source": [
    "print(\"\\n--- Demonstrating exhaustion ---\")\n",
    "# The enum_object iterator has already been fully consumed above\n",
    "print(list(enum_object))  # This will print an empty list because the iterator is exhausted."
   ]
  },
  {
   "cell_type": "markdown",
   "metadata": {},
   "source": [
    "---\n",
    "\n",
    "## Using `enumerate()` with Dictionaries and Sets\n",
    "\n",
    "While `enumerate()` is most commonly used with lists and strings, it can also be used with dictionaries and sets. However, since dictionaries and sets are unordered collections, the order of items may not be guaranteed (unless using Python 3.7+ where dicts preserve insertion order).\n",
    "\n",
    "### Example: Enumerate with Dictionary Keys and Values\n",
    "\n",
    "```python\n",
    "sample_dict = {'a': 10, 'b': 20, 'c': 30}\n",
    "for idx, key in enumerate(sample_dict):\n",
    "    print(f\"Index {idx}: Key = {key}, Value = {sample_dict[key]}\")\n",
    "```\n",
    "\n",
    "### Example: Enumerate with Set\n",
    "\n",
    "```python\n",
    "sample_set = {'apple', 'banana', 'cherry'}\n",
    "for idx, item in enumerate(sample_set):\n",
    "    print(f\"Index {idx}: {item}\")\n",
    "```\n",
    "\n",
    "> **Note:** The order of items in a set is arbitrary and may change each time you run the code."
   ]
  },
  {
   "cell_type": "markdown",
   "metadata": {},
   "source": [
    "---\n",
    "\n",
    "## Common Mistakes and Best Practices\n",
    "\n",
    "### Common Mistakes\n",
    "- **Forgetting to unpack the tuple:**\n",
    "  ```python\n",
    "  # Incorrect\n",
    "  for item in enumerate(['a', 'b']):\n",
    "      print(item)  # Prints (0, 'a'), (1, 'b')\n",
    "  # Correct\n",
    "  for idx, val in enumerate(['a', 'b']):\n",
    "      print(idx, val)\n",
    "  ```\n",
    "- **Using enumerate when index is not needed:**\n",
    "  If you don't need the index, use a simple for loop for clarity.\n",
    "- **Assuming order in sets:**\n",
    "  Sets are unordered; don't rely on the order of indices.\n",
    "\n",
    "### Best Practices\n",
    "- Use `enumerate()` when you need both the index and the value.\n",
    "- Use the `start` parameter for human-friendly numbering.\n",
    "- Combine with `zip()` for parallel iteration with indices.\n",
    "- Prefer `enumerate()` over manual index counters for readability."
   ]
  },
  {
   "cell_type": "markdown",
   "metadata": {},
   "source": [
    "---\n",
    "\n",
    "## Real-World Use Cases\n",
    "\n",
    "### 1. Tracking Line Numbers in File Processing\n",
    "```python\n",
    "with open('example.txt') as file:\n",
    "    for line_number, line in enumerate(file, start=1):\n",
    "        print(f\"Line {line_number}: {line.strip()}\")\n",
    "```\n",
    "\n",
    "### 2. Updating Items in a List by Index\n",
    "```python\n",
    "values = [10, 20, 30]\n",
    "for idx, val in enumerate(values):\n",
    "    values[idx] = val * 2  # Double each value in place\n",
    "print(values)\n",
    "```\n",
    "\n",
    "### 3. Parallel Iteration with Indices\n",
    "```python\n",
    "questions = [\"Name?\", \"Age?\", \"Country?\"]\n",
    "answers = [\"Alice\", \"30\", \"USA\"]\n",
    "for i, (q, a) in enumerate(zip(questions, answers), start=1):\n",
    "    print(f\"Q{i}: {q} A: {a}\")\n",
    "```\n",
    "\n",
    "These examples show how `enumerate()` is useful in practical programming tasks."
   ]
  },
  {
   "cell_type": "markdown",
   "metadata": {},
   "source": [
    "---\n",
    "\n",
    "## Summary and References\n",
    "\n",
    "- The `enumerate()` function is a Pythonic way to loop with both index and value.\n",
    "- It improves code readability and reduces errors compared to manual counters.\n",
    "- Use the `start` parameter for custom numbering.\n",
    "- Works with any iterable, but be mindful of unordered collections like sets.\n",
    "- Combine with other functions like `zip()` for advanced use cases.\n",
    "\n",
    "### References\n",
    "- [Python Official Documentation: enumerate()](https://docs.python.org/3/library/functions.html#enumerate)\n",
    "- [Real Python: Python's enumerate()](https://realpython.com/python-enumerate/)\n",
    "- [PEP 279 – The enumerate() built-in function](https://peps.python.org/pep-0279/)\n",
    "\n",
    "---\n",
    "\n",
    "*End of notebook. Feel free to experiment with the code cells above!*"
   ]
  }
 ],
 "metadata": {
  "kernelspec": {
   "display_name": "base",
   "language": "python",
   "name": "python3"
  },
  "language_info": {
   "codemirror_mode": {
    "name": "ipython",
    "version": 3
   },
   "file_extension": ".py",
   "mimetype": "text/x-python",
   "name": "python",
   "nbconvert_exporter": "python",
   "pygments_lexer": "ipython3",
   "version": "3.13.5"
  }
 },
 "nbformat": 4,
 "nbformat_minor": 2
}
