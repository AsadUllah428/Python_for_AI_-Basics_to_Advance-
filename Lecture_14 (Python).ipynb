{
 "cells": [
  {
   "cell_type": "markdown",
   "metadata": {},
   "source": [
    "# A Deep Dive into Nested Loops in Python 🐍\n",
    "\n",
    "Welcome to this comprehensive guide on **nested loops**! Nested loops are a powerful programming construct where one loop is placed inside another. Understanding their flow is key to solving a variety of problems, from generating simple patterns to processing complex data structures.\n",
    "\n",
    "**What are nested loops?**\n",
    "- A nested loop is simply a loop inside another loop. The outer loop runs first, and for each iteration of the outer loop, the inner loop runs completely.\n",
    "- This is especially useful for working with tables, grids, or any situation where you need to repeat actions in two dimensions (like rows and columns).\n",
    "\n",
    "**Why learn nested loops?**\n",
    "- They are essential for pattern printing, matrix operations, and many algorithmic problems.\n",
    "- Mastering nested loops will help you break down complex problems into manageable steps.\n",
    "\n",
    "Let's get started with some visual and practical examples!"
   ]
  },
  {
   "cell_type": "markdown",
   "metadata": {},
   "source": [
    "## Visualizing the Execution Flow\n",
    "\n",
    "Let's start by walking through a simple example to see exactly how a nested loop works. We'll use `while` loops for this demonstration to make the iterative process crystal clear.\n",
    "\n",
    "**How does it work?**\n",
    "- The outer loop starts and runs once.\n",
    "- For each iteration of the outer loop, the inner loop runs from start to finish.\n",
    "- After the inner loop finishes, the outer loop moves to its next iteration.\n",
    "- This continues until the outer loop is done.\n",
    "\n",
    "Pay close attention to the printed output, as it shows the dance between the outer and inner loops. This will help you visualize how many times each part of your code is executed."
   ]
  },
  {
   "cell_type": "code",
   "execution_count": 1,
   "metadata": {},
   "outputs": [
    {
     "name": "stdout",
     "output_type": "stream",
     "text": [
      "\n",
      "---> Starting Outer Loop Iteration #1 <--- \n",
      "    Inner Loop Iteration #1 running inside Outer Loop #1\n",
      "    Inner Loop Iteration #2 running inside Outer Loop #1\n",
      "    Inner Loop Iteration #3 running inside Outer Loop #1\n",
      "    Inner Loop Iteration #4 running inside Outer Loop #1\n",
      "---> Outer Loop Iteration #1 Finished! <--- \n",
      "\n",
      "---> Starting Outer Loop Iteration #2 <--- \n",
      "    Inner Loop Iteration #1 running inside Outer Loop #2\n",
      "    Inner Loop Iteration #2 running inside Outer Loop #2\n",
      "    Inner Loop Iteration #3 running inside Outer Loop #2\n",
      "    Inner Loop Iteration #4 running inside Outer Loop #2\n",
      "---> Outer Loop Iteration #2 Finished! <--- \n",
      "\n",
      "---> Starting Outer Loop Iteration #3 <--- \n",
      "    Inner Loop Iteration #1 running inside Outer Loop #3\n",
      "    Inner Loop Iteration #2 running inside Outer Loop #3\n",
      "    Inner Loop Iteration #3 running inside Outer Loop #3\n",
      "    Inner Loop Iteration #4 running inside Outer Loop #3\n",
      "---> Outer Loop Iteration #3 Finished! <--- \n"
     ]
    }
   ],
   "source": [
    "# This example demonstrates the step-by-step execution of a nested while loop.\n",
    "# The outer loop will run 3 times. For each outer loop iteration, the inner loop runs 4 times.\n",
    "# This means the inner print statement will execute 3 x 4 = 12 times in total.\n",
    "\n",
    "outer_loop_counter = 1\n",
    "while outer_loop_counter <= 3:\n",
    "    # This message is printed once per outer loop iteration\n",
    "    print(f\"\\n---> Starting Outer Loop Iteration #{outer_loop_counter} <--- \")\n",
    "\n",
    "    inner_loop_counter = 1\n",
    "    while inner_loop_counter <= 4:\n",
    "        # This message is printed for every inner loop iteration\n",
    "        print(f\"    Inner Loop Iteration #{inner_loop_counter} running inside Outer Loop #{outer_loop_counter}\")\n",
    "        inner_loop_counter += 1\n",
    "\n",
    "    # This message shows the inner loop has finished for this outer iteration\n",
    "    print(f\"---> Outer Loop Iteration #{outer_loop_counter} Finished! <--- \")\n",
    "    outer_loop_counter += 1"
   ]
  },
  {
   "cell_type": "markdown",
   "metadata": {},
   "source": [
    "## Generating a Complete Multiplication Grid\n",
    "\n",
    "A common and practical application for nested loops is creating tables. Let's use `for` loops to create a multiplication grid. The outer loop will handle the rows (the number you are multiplying), and the inner loop will handle the columns (the number you are multiplying by).\n",
    "\n",
    "**How does this work?**\n",
    "- The outer loop picks the first number (row).\n",
    "- The inner loop multiplies this number by every number in the column range.\n",
    "- After the inner loop finishes, we move to the next row.\n",
    "- This is a great way to practice both multiplication and nested loops!"
   ]
  },
  {
   "cell_type": "code",
   "execution_count": 2,
   "metadata": {},
   "outputs": [
    {
     "name": "stdout",
     "output_type": "stream",
     "text": [
      "--- A Complete 1-10 Multiplication Table ---\n",
      "\n",
      "   1   2   3   4   5   6   7   8   9  10\n",
      "   2   4   6   8  10  12  14  16  18  20\n",
      "   3   6   9  12  15  18  21  24  27  30\n",
      "   4   8  12  16  20  24  28  32  36  40\n",
      "   5  10  15  20  25  30  35  40  45  50\n",
      "   6  12  18  24  30  36  42  48  54  60\n",
      "   7  14  21  28  35  42  49  56  63  70\n",
      "   8  16  24  32  40  48  56  64  72  80\n",
      "   9  18  27  36  45  54  63  72  81  90\n",
      "  10  20  30  40  50  60  70  80  90 100\n"
     ]
    }
   ],
   "source": [
    "# This code generates a clean 1-10 multiplication grid.\n",
    "# It uses a formatted print statement to align the output neatly.\n",
    "# The outer loop controls the rows (the first number in multiplication).\n",
    "# The inner loop controls the columns (the second number in multiplication).\n",
    "\n",
    "print(\"--- A Complete 1-10 Multiplication Table ---\\n\")\n",
    "\n",
    "for i in range(1, 11): # Outer loop for the rows (numbers 1 to 10)\n",
    "    for j in range(1, 11): # Inner loop for the columns (multipliers 1 to 10)\n",
    "        result = i * j\n",
    "        # The `end` parameter prevents a newline and keeps the results on one line.\n",
    "        # We use string formatting to ensure consistent spacing.\n",
    "        print(f'{result:>4}', end='')\n",
    "    # Print a newline after each inner loop to start a new row.\n",
    "    print()"
   ]
  },
  {
   "cell_type": "markdown",
   "metadata": {},
   "source": [
    "## Creating Geometric Patterns\n",
    "\n",
    "Nested loops are fantastic for generating visual patterns made of characters. This is a great exercise for solidifying your understanding of how loop counters affect the output.\n",
    "\n",
    "**Why use patterns?**\n",
    "- They help you practice controlling both rows and columns.\n",
    "- You learn how to use spaces and characters to create shapes.\n",
    "- Patterns are a fun way to get comfortable with nested loops!\n",
    "\n",
    "Let's try to create a few different geometric shapes."
   ]
  },
  {
   "cell_type": "code",
   "execution_count": 3,
   "metadata": {},
   "outputs": [
    {
     "name": "stdout",
     "output_type": "stream",
     "text": [
      "    *\n",
      "   ***\n",
      "  *****\n",
      " *******\n",
      "*********\n"
     ]
    }
   ],
   "source": [
    "# Pattern 1: A right-angled triangle pyramid of stars.\n",
    "# The outer loop controls the number of rows.\n",
    "# The inner loop determines how many stars are printed on each row.\n",
    "# We also print spaces to align the stars in a triangle shape.\n",
    "\n",
    "pyramid_height = 5\n",
    "for row in range(1, pyramid_height + 1):\n",
    "    # Print leading spaces to create the triangle shape.\n",
    "    # The number of spaces decreases with each row.\n",
    "    print(\" \" * (pyramid_height - row), end=\"\")\n",
    "\n",
    "    # Print the stars for the current row.\n",
    "    # The number of stars increases by two for each row (odd numbers).\n",
    "    for star in range(2 * row - 1):\n",
    "        print(\"*\", end=\"\")\n",
    "    # Move to the next line after the row is complete.\n",
    "    print()"
   ]
  },
  {
   "cell_type": "code",
   "execution_count": 4,
   "metadata": {},
   "outputs": [
    {
     "name": "stdout",
     "output_type": "stream",
     "text": [
      "1 \n",
      "2 2 \n",
      "3 3 3 \n",
      "4 4 4 4 \n",
      "5 5 5 5 5 \n"
     ]
    }
   ],
   "source": [
    "# Pattern 2: A simple number triangle where each row repeats its row number.\n",
    "# The outer loop controls the number of rows.\n",
    "# The inner loop prints the row number multiple times on each row.\n",
    "\n",
    "rows = 5\n",
    "for row_num in range(1, rows + 1):\n",
    "    # The inner loop iterates `row_num` times.\n",
    "    for _ in range(row_num):\n",
    "        print(f\"{row_num} \", end='')\n",
    "    print()"
   ]
  },
  {
   "cell_type": "markdown",
   "metadata": {},
   "source": [
    "## Tackling More Advanced Patterns\n",
    "\n",
    "Let's combine spaces and characters to create even more intricate designs. These patterns often require careful calculation of the number of spaces and characters to print on each line.\n",
    "\n",
    "**Tips for advanced patterns:**\n",
    "- Use the outer loop for rows and the inner loop for columns.\n",
    "- Use `if` statements inside loops to control what gets printed (e.g., borders vs. inside).\n",
    "- Try drawing your pattern on paper first to see how many spaces and characters are needed per row."
   ]
  },
  {
   "cell_type": "code",
   "execution_count": 5,
   "metadata": {},
   "outputs": [
    {
     "name": "stdout",
     "output_type": "stream",
     "text": [
      "1 1 1 1 1 \n",
      "2       2 \n",
      "3       3 \n",
      "4       4 \n",
      "5 5 5 5 5 \n"
     ]
    }
   ],
   "source": [
    "# Pattern 3: A hollow square made of numbers.\n",
    "# We'll use conditional logic inside the inner loop to print numbers on the border and spaces inside.\n",
    "\n",
    "grid_size = 5\n",
    "for row in range(1, grid_size + 1):\n",
    "    for col in range(1, grid_size + 1):\n",
    "        # The condition checks if we are on a border or the inside.\n",
    "        if row == 1 or row == grid_size or col == 1 or col == grid_size:\n",
    "            # Print the row number on the borders.\n",
    "            print(row, end=\" \")\n",
    "        else:\n",
    "            # Print a space for the empty middle.\n",
    "            print(\" \", end=\" \")\n",
    "    print()"
   ]
  },
  {
   "cell_type": "code",
   "execution_count": 6,
   "metadata": {},
   "outputs": [
    {
     "name": "stdout",
     "output_type": "stream",
     "text": [
      "    * \n",
      "   * * \n",
      "  * * * \n",
      " * * * * \n",
      "* * * * * \n",
      " * * * * \n",
      "  * * * \n",
      "   * * \n",
      "    * \n"
     ]
    }
   ],
   "source": [
    "# Pattern 4: A diamond shape using '*' and spaces.\n",
    "# This is a more complex pattern that is essentially two triangles merged together.\n",
    "# First, we create the top half of the diamond (an upward-pointing pyramid).\n",
    "\n",
    "diamond_height = 5\n",
    "for i in range(1, diamond_height + 1):\n",
    "    # Print spaces to center the stars\n",
    "    print(\" \" * (diamond_height - i) + \"* \" * i)\n",
    "\n",
    "# Then, we create the bottom half of the diamond (an inverted pyramid).\n",
    "for i in range(diamond_height - 1, 0, -1):\n",
    "    # Print spaces to center the stars\n",
    "    print(\" \" * (diamond_height - i) + \"* \" * i)"
   ]
  },
  {
   "cell_type": "markdown",
   "metadata": {},
   "source": [
    "By working through these examples, you should now have a solid grasp of nested loops. The key is to break down any pattern or task into a series of rows (the outer loop) and columns (the inner loop).\n",
    "\n",
    "**Next steps:**\n",
    "- Try changing the numbers and characters in the code to create your own patterns.\n",
    "- Challenge yourself to draw more complex shapes, like hearts or letters, using nested loops.\n",
    "- Remember: Practice is the best way to master nested loops!"
   ]
  }
 ],
 "metadata": {
  "kernelspec": {
   "display_name": "base",
   "language": "python",
   "name": "python3"
  },
  "language_info": {
   "codemirror_mode": {
    "name": "ipython",
    "version": 3
   },
   "file_extension": ".py",
   "mimetype": "text/x-python",
   "name": "python",
   "nbconvert_exporter": "python",
   "pygments_lexer": "ipython3",
   "version": "3.12.9"
  }
 },
 "nbformat": 4,
 "nbformat_minor": 2
}
