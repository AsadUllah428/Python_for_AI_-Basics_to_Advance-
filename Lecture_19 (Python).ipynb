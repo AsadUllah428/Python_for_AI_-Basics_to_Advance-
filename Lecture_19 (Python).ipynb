{
 "cells": [
  {
   "cell_type": "markdown",
   "id": "6b72023a",
   "metadata": {},
   "source": [
    "# Python Generators"
   ]
  },
  {
   "cell_type": "markdown",
   "id": "57b4db26",
   "metadata": {},
   "source": [
    "---\n",
    "\n",
    "# Table of Contents\n",
    "1. Introduction\n",
    "2. What are Generators?\n",
    "3. Creating Generators with yield\n",
    "4. Generator Expressions\n",
    "5. Chaining Generators\n",
    "6. Infinite Generators\n",
    "7. Real-World Use Cases\n",
    "8. Common Mistakes and Best Practices\n",
    "9. Summary and References\n",
    "\n",
    "---\n",
    "\n",
    "## Introduction\n",
    "\n",
    "This notebook provides a comprehensive guide to Python generators. You'll learn their syntax, use cases, and best practices, with detailed code examples and explanations."
   ]
  },
  {
   "cell_type": "markdown",
   "id": "db282b1c",
   "metadata": {},
   "source": [
    "Generators in Python are a unique kind of iterator, designed to produce values on-the-fly as they are needed. Instead of storing a full sequence in memory, generators generate each value dynamically during iteration, making them memory-efficient. This is especially useful when dealing with large datasets or infinite sequences.\n",
    "\n",
    "A generator is defined by a function that contains a `yield` statement. When called, the generator function doesn't execute immediately but returns a generator object. This object can then be iterated over, with each call to the generator resuming execution at the last `yield` statement, allowing it to produce the next value in the sequence. The generator retains its internal state between iterations.\n",
    "\n",
    "### Key Benefits of Generators:\n",
    "1. **Lazy Evaluation**: Values are produced one at a time as they are requested, rather than all at once.\n",
    "2. **Memory Efficiency**: Since only one value is in memory at a time, generators are ideal for working with large datasets.\n",
    "3. **Infinite Sequences**: Generators can represent sequences that are conceptually infinite, generating values as needed.\n",
    "4. **State Retention**: Generators remember their state between iterations, so they can continue from where they left off.\n",
    "5. **Simplicity**: Generators are simple to write using the `yield` statement in function syntax.\n",
    "6. **Iterable**: A generator is an iterable, so it can be used with any function or structure that expects an iterable (like loops or comprehensions).\n",
    "7. **Performance**: By avoiding unnecessary computation and storing only the current value, generators can significantly improve performance."
   ]
  },
  {
   "cell_type": "code",
   "execution_count": 1,
   "id": "3c9861da",
   "metadata": {},
   "outputs": [
    {
     "name": "stdout",
     "output_type": "stream",
     "text": [
      "10\n",
      "9\n",
      "8\n",
      "7\n",
      "6\n",
      "5\n",
      "4\n",
      "3\n",
      "2\n",
      "1\n"
     ]
    }
   ],
   "source": [
    "# Example 1: Countdown Generator\n",
    "# This function is a generator because it uses 'yield' to produce values one at a time.\n",
    "def countdown(n):\n",
    "    while n > 0:\n",
    "        yield n  # Yield the current value of n\n",
    "        n -= 1   # Decrement n by 1\n",
    "\n",
    "# Create the countdown generator (does not run the function yet)\n",
    "countdown_generator = countdown(10)\n",
    "\n",
    "# Iterate through the countdown generator\n",
    "# Each iteration resumes the function at the last yield\n",
    "for number in countdown_generator:\n",
    "    print(number)  # Prints numbers from 10 down to 1"
   ]
  },
  {
   "cell_type": "code",
   "execution_count": 2,
   "id": "7555fcbe",
   "metadata": {},
   "outputs": [
    {
     "name": "stdout",
     "output_type": "stream",
     "text": [
      "0\n",
      "1\n",
      "1\n",
      "2\n",
      "3\n",
      "5\n",
      "8\n",
      "13\n",
      "21\n",
      "34\n"
     ]
    }
   ],
   "source": [
    "# Example 2: Fibonacci Sequence Generator\n",
    "def fibonacci_sequence(n):\n",
    "    a, b = 0, 1  # Initialize the first two numbers\n",
    "    for _ in range(n):\n",
    "        yield a  # Yield the current value of a\n",
    "        a, b = b, a + b  # Update a and b to the next two numbers\n",
    "\n",
    "# Create the Fibonacci generator for the first 10 numbers\n",
    "fibonacci_gen = fibonacci_sequence(10)\n",
    "\n",
    "# Iterate through the generator\n",
    "for value in fibonacci_gen:\n",
    "    print(value)  # Prints the Fibonacci sequence up to 10 numbers"
   ]
  },
  {
   "cell_type": "code",
   "execution_count": 3,
   "id": "8a0100b1",
   "metadata": {},
   "outputs": [
    {
     "name": "stdout",
     "output_type": "stream",
     "text": [
      "0\n",
      "1\n",
      "4\n",
      "9\n",
      "16\n"
     ]
    }
   ],
   "source": [
    "# Example 3: Generator for Square Numbers\n",
    "def generate_squares(n):\n",
    "    for i in range(n):\n",
    "        yield i ** 2  # Yield the square of i\n",
    "\n",
    "# Create the square number generator for the first 5 squares\n",
    "square_gen = generate_squares(5)\n",
    "\n",
    "# Iterate through the generator\n",
    "for square in square_gen:\n",
    "    print(square)  # Prints 0, 1, 4, 9, 16"
   ]
  },
  {
   "cell_type": "code",
   "execution_count": 4,
   "id": "0889ff84",
   "metadata": {},
   "outputs": [
    {
     "name": "stdout",
     "output_type": "stream",
     "text": [
      "0\n",
      "4\n",
      "16\n",
      "36\n",
      "64\n"
     ]
    }
   ],
   "source": [
    "# Example 4: Chaining Generators (Filtering Even Squares)\n",
    "def generate_squares(n):\n",
    "    for i in range(n):\n",
    "        yield i ** 2\n",
    "\n",
    "def filter_even_numbers(generator):\n",
    "    for number in generator:\n",
    "        if number % 2 == 0:\n",
    "            yield number  # Yield only even numbers\n",
    "\n",
    "# Create the generator for square numbers up to 10\n",
    "square_gen = generate_squares(10)\n",
    "\n",
    "# Filter the even squares using another generator\n",
    "even_square_gen = filter_even_numbers(square_gen)\n",
    "\n",
    "# Iterate through the even square generator\n",
    "for square in even_square_gen:\n",
    "    print(square)  # Prints even squares: 0, 4, 16, 36, 64"
   ]
  },
  {
   "cell_type": "code",
   "execution_count": 5,
   "id": "98a324ec",
   "metadata": {},
   "outputs": [
    {
     "name": "stdout",
     "output_type": "stream",
     "text": [
      "2\n",
      "3\n",
      "5\n",
      "7\n",
      "11\n",
      "13\n",
      "17\n",
      "19\n",
      "23\n",
      "29\n"
     ]
    }
   ],
   "source": [
    "# Example 5: Infinite Generator for Prime Numbers\n",
    "def is_prime(num):\n",
    "    if num <= 1:\n",
    "        return False\n",
    "    if num <= 3:\n",
    "        return True\n",
    "    if num % 2 == 0 or num % 3 == 0:\n",
    "        return False\n",
    "    i = 5\n",
    "    while i * i <= num:\n",
    "        if num % i == 0 or num % (i + 2) == 0:\n",
    "            return False\n",
    "        i += 6\n",
    "    return True\n",
    "\n",
    "def prime_generator():\n",
    "    num = 2\n",
    "    while True:  # Infinite loop\n",
    "        if is_prime(num):\n",
    "            yield num  # Yield the next prime number\n",
    "        num += 1\n",
    "\n",
    "# Create the prime number generator (infinite)\n",
    "prime_gen = prime_generator()\n",
    "\n",
    "# Print the first 10 prime numbers using next()\n",
    "for _ in range(10):\n",
    "    print(next(prime_gen))"
   ]
  },
  {
   "cell_type": "code",
   "execution_count": 6,
   "id": "21a74ef9",
   "metadata": {},
   "outputs": [
    {
     "name": "stdout",
     "output_type": "stream",
     "text": [
      "0\n",
      "1\n",
      "4\n",
      "9\n",
      "16\n"
     ]
    }
   ],
   "source": [
    "\n",
    "# Generator expression for squares of numbers 0-4\n",
    "gen_exp = (x ** 2 for x in range(5))\n",
    "for val in gen_exp:\n",
    "    print(val)\n"
   ]
  },
  {
   "cell_type": "markdown",
   "id": "9add5932",
   "metadata": {},
   "source": [
    "---\n",
    "\n",
    "## Generator Expressions\n",
    "\n",
    "Generator expressions are a concise way to create generators using a syntax similar to list comprehensions, but with parentheses:\n",
    "\n",
    "```python\n",
    "# Generator expression for squares of numbers 0-4\n",
    "gen_exp = (x ** 2 for x in range(5))\n",
    "for val in gen_exp:\n",
    "    print(val)\n",
    "```\n",
    "\n",
    "---\n",
    "\n",
    "## Real-World Use Cases\n",
    "- Reading large files line by line\n",
    "- Processing data streams\n",
    "- Generating infinite sequences (e.g., prime numbers, Fibonacci)\n",
    "- Chaining data processing steps efficiently\n",
    "\n",
    "---\n",
    "\n",
    "## Common Mistakes and Best Practices\n",
    "- **Mistake:** Forgetting that generators can only be iterated once.\n",
    "- **Mistake:** Trying to access elements by index (generators do not support indexing).\n",
    "- **Best Practice:** Use generators for large or infinite data, or when you want lazy evaluation.\n",
    "- **Best Practice:** Combine generators for efficient data pipelines.\n",
    "\n",
    "---\n",
    "\n",
    "## Summary and References\n",
    "- Generators provide memory-efficient, lazy evaluation for iterables.\n",
    "- Use `yield` in functions or generator expressions for concise code.\n",
    "- Ideal for large datasets, infinite sequences, and data pipelines.\n",
    "\n",
    "### References\n",
    "- [Python Official Documentation: Generators](https://docs.python.org/3/howto/functional.html#generators)\n",
    "- [Real Python: Generators and Yield](https://realpython.com/introduction-to-python-generators/)\n",
    "\n",
    "---\n",
    "\n",
    "*End of notebook. Feel free to experiment with the code cells above!*"
   ]
  }
 ],
 "metadata": {
  "kernelspec": {
   "display_name": "base",
   "language": "python",
   "name": "python3"
  },
  "language_info": {
   "codemirror_mode": {
    "name": "ipython",
    "version": 3
   },
   "file_extension": ".py",
   "mimetype": "text/x-python",
   "name": "python",
   "nbconvert_exporter": "python",
   "pygments_lexer": "ipython3",
   "version": "3.13.5"
  }
 },
 "nbformat": 4,
 "nbformat_minor": 5
}
