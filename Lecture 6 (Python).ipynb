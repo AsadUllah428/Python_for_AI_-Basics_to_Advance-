{
 "cells": [
  {
   "cell_type": "markdown",
   "metadata": {},
   "source": [
    "# Exploring Python Sets: A Comprehensive Guide"
   ]
  },
  {
   "cell_type": "code",
   "execution_count": null,
   "metadata": {},
   "outputs": [],
   "source": [
    "my_unique_items = {\"keyboard\", \"mouse\", \"monitor\"}"
   ]
  },
  {
   "cell_type": "markdown",
   "metadata": {},
   "source": [
    "## What are Sets in Python?\n",
    "\n",
    "In Python, a **Set** is a built-in collection data type used to store multiple distinct items within a single variable. It's one of Python's four fundamental collection types, alongside Lists, Tuples, and Dictionaries, each offering unique characteristics and use cases.\n",
    "\n",
    "Key properties of a Python set:\n",
    "* **Unordered**: Items within a set do not have a defined order. Their arrangement can change with each access.\n",
    "* **Unindexed**: Unlike lists or tuples, set elements cannot be accessed using an index or a key.\n",
    "* **No Duplicate Values**: Sets inherently store only unique elements, automatically eliminating any duplicates.\n",
    "\n",
    "Sets are defined using **curly brackets** `{}`."
   ]
  },
  {
   "cell_type": "code",
   "execution_count": null,
   "metadata": {},
   "outputs": [
    {
     "name": "stdout",
     "output_type": "stream",
     "text": [
      "{'grape', 'orange', 'kiwi'}\n"
     ]
    }
   ],
   "source": [
    "fruit_basket = {\"orange\", \"grape\", \"kiwi\"}\n",
    "print(fruit_basket)"
   ]
  },
  {
   "cell_type": "markdown",
   "metadata": {},
   "source": [
    "### Characteristics of Set Elements\n",
    "Set elements are characterized by being unordered, immutable (once added to the set), and strictly unique.\n",
    "\n",
    "#### Unordered Nature\n",
    "The elements in a set do not maintain any specific sequence. This means that the order in which items appear when you print or iterate through a set can vary. Consequently, direct access via indexing (like `my_set[0]`) is not supported.\n",
    "\n",
    "#### Immutability of Elements (within the set)\n",
    "While you can add or remove elements from a set, the individual elements themselves cannot be altered after they've been placed into the set. If you need to modify an element, you would typically remove the old one and add the new one.\n",
    "\n",
    "#### Uniqueness: No Duplicates Allowed\n",
    "A fundamental property of sets is that they cannot contain duplicate values. If you attempt to add an item that already exists in the set, the set will simply ignore the addition, maintaining its uniqueness."
   ]
  },
  {
   "cell_type": "code",
   "execution_count": null,
   "metadata": {},
   "outputs": [
    {
     "name": "stdout",
     "output_type": "stream",
     "text": [
      "{'red', 'blue', 'green'}\n"
     ]
    }
   ],
   "source": [
    "color_palette = {\"red\", \"blue\", \"green\", \"red\", \"blue\"}\n",
    "print(color_palette) # Notice 'red' and 'blue' appear only once"
   ]
  },
  {
   "cell_type": "markdown",
   "metadata": {},
   "source": [
    "## Determining the Size of a Set\n",
    "To find out how many items are currently in a set, use the built-in `len()` function."
   ]
  },
  {
   "cell_type": "code",
   "execution_count": null,
   "metadata": {},
   "outputs": [
    {
     "name": "stdout",
     "output_type": "stream",
     "text": [
      "4\n"
     ]
    }
   ],
   "source": [
    "shopping_list = {\"milk\", \"eggs\", \"bread\", \"milk\"}\n",
    "print(len(shopping_list)) # 'milk' is a duplicate and is ignored"
   ]
  },
  {
   "cell_type": "markdown",
   "metadata": {},
   "source": [
    "### Diverse Data Types within Sets\n",
    "Set items are highly versatile and can hold elements of various data types."
   ]
  },
  {
   "cell_type": "code",
   "execution_count": null,
   "metadata": {},
   "outputs": [],
   "source": [
    "set_of_strings = {\"alpha\", \"beta\", \"gamma\"}\n",
    "set_of_integers = {10, 20, 30, 40}\n",
    "set_of_booleans = {True, False}\n"
   ]
  },
  {
   "cell_type": "markdown",
   "metadata": {},
   "source": [
    "It's also possible for a single set to contain a mix of different data types:"
   ]
  },
  {
   "cell_type": "code",
   "execution_count": null,
   "metadata": {},
   "outputs": [
    {
     "data": {
      "text/plain": [
       "{False, 5, 'hello', 3.14}"
      ]
     },
     "execution_count": null,
     "metadata": {},
     "output_type": "execute_result"
    }
   ],
   "source": [
    "mixed_set = {\"hello\", 5, True, 3.14, False}\n",
    "mixed_set"
   ]
  },
  {
   "cell_type": "code",
   "execution_count": null,
   "metadata": {},
   "outputs": [
    {
     "name": "stdout",
     "output_type": "stream",
     "text": [
      "<class 'set'>\n"
     ]
    }
   ],
   "source": [
    "test_set = {\"item1\", \"item2\"}\n",
    "print(type(test_set))"
   ]
  },
  {
   "cell_type": "markdown",
   "metadata": {},
   "source": [
    "# Interacting with Set Elements"
   ]
  },
  {
   "cell_type": "markdown",
   "metadata": {},
   "source": [
    "Due to their unordered and unindexed nature, you cannot retrieve individual items from a set by their position or a key. However, you can effectively interact with set elements in a couple of ways:\n",
    "\n",
    "* **Iterating with a `for` loop**: Process each item in the set one by one.\n",
    "* **Checking for existence with the `in` keyword**: Verify if a particular value is present in the set."
   ]
  },
  {
   "cell_type": "code",
   "execution_count": null,
   "metadata": {},
   "outputs": [
    {
     "name": "stdout",
     "output_type": "stream",
     "text": [
      "apple\n",
      "cherry\n",
      "banana\n"
     ]
    }
   ],
   "source": [
    "my_fruits = {\"apple\", \"banana\", \"cherry\"}\n",
    "\n",
    "for fruit in my_fruits:\n",
    "    print(fruit)"
   ]
  },
  {
   "cell_type": "markdown",
   "metadata": {},
   "source": [
    "Let's see if \"grape\" is in our `fruit_basket` set:"
   ]
  },
  {
   "cell_type": "code",
   "execution_count": null,
   "metadata": {},
   "outputs": [
    {
     "name": "stdout",
     "output_type": "stream",
     "text": [
      "True\n"
     ]
    }
   ],
   "source": [
    "fruit_basket = {\"orange\", \"grape\", \"kiwi\"}\n",
    "\n",
    "print(\"grape\" in fruit_basket)"
   ]
  },
  {
   "cell_type": "markdown",
   "metadata": {},
   "source": [
    "# Modifying Sets: Adding and Removing Items"
   ]
  },
  {
   "cell_type": "markdown",
   "metadata": {},
   "source": [
    "While the *elements themselves* within a set are unchangeable (immutable) after creation, you can dynamically modify the set by adding new items or removing existing ones."
   ]
  },
  {
   "cell_type": "markdown",
   "metadata": {},
   "source": [
    "## Adding Single Items\n",
    "To introduce a single new item into a set, use the `add()` method."
   ]
  },
  {
   "cell_type": "code",
   "execution_count": null,
   "metadata": {},
   "outputs": [
    {
     "name": "stdout",
     "output_type": "stream",
     "text": [
      "{'apple', 'pear', 'banana', 'cherry'}\n"
     ]
    }
   ],
   "source": [
    "garden_fruits = {\"apple\", \"banana\", \"cherry\"}\n",
    "\n",
    "garden_fruits.add(\"pear\")\n",
    "\n",
    "print(garden_fruits)"
   ]
  },
  {
   "cell_type": "markdown",
   "metadata": {},
   "source": [
    "### Incorporating Multiple Items or Other Iterables\n",
    "To merge items from another set (or any iterable like a list, tuple, or string) into the current set, the `update()` method is your go-to."
   ]
  },
  {
   "cell_type": "code",
   "execution_count": null,
   "metadata": {},
   "outputs": [
    {
     "name": "stdout",
     "output_type": "stream",
     "text": [
      "{'cherry', 'kiwi', 'grape', 'apple', 'banana', 'melon'}\n"
     ]
    }
   ],
   "source": [
    "farm_produce = {\"apple\", \"banana\", \"cherry\"}\n",
    "exotic_fruits = {\"kiwi\", \"mango\", \"melon\", \"mango\"}\n",
    "\n",
    "farm_produce.update(exotic_fruits) # 'mango' will only be added once\n",
    "\n",
    "print(farm_produce)"
   ]
  },
  {
   "cell_type": "code",
   "execution_count": null,
   "metadata": {},
   "outputs": [
    {
     "name": "stdout",
     "output_type": "stream",
     "text": [
      "{'d', 'e', 'f', 'a', 'b', 'c'}\n"
     ]
    }
   ],
   "source": [
    "letters1 = {\"a\", \"b\", \"c\"}\n",
    "letters2 = [\"d\", \"e\", \"f\"]\n",
    "\n",
    "letters1.update(letters2)\n",
    "print(letters1)"
   ]
  },
  {
   "cell_type": "markdown",
   "metadata": {},
   "source": [
    "# Eliminating Set Items"
   ]
  },
  {
   "cell_type": "markdown",
   "metadata": {},
   "source": [
    "To remove specific items from a set, you have a few options: the `remove()` method, the `discard()` method, and the `pop()` method."
   ]
  },
  {
   "cell_type": "code",
   "execution_count": null,
   "metadata": {},
   "outputs": [
    {
     "name": "stdout",
     "output_type": "stream",
     "text": [
      "{'apple', 'cherry'}\n"
     ]
    }
   ],
   "source": [
    "my_vegetables = {\"carrot\", \"broccoli\", \"spinach\"}\n",
    "\n",
    "my_vegetables.remove(\"broccoli\")\n",
    "\n",
    "print(my_vegetables)"
   ]
  },
  {
   "cell_type": "markdown",
   "metadata": {},
   "source": [
    "**Note on `remove()`**: If the item to be removed is not found in the set, the `remove()` method will raise a `KeyError`."
   ]
  },
  {
   "cell_type": "code",
   "execution_count": null,
   "metadata": {},
   "outputs": [
    {
     "name": "stdout",
     "output_type": "stream",
     "text": [
      "{'kiwi', 'mango'}\n"
     ]
    }
   ],
   "source": [
    "tropical_fruits = {\"pineapple\", \"mango\", \"kiwi\"}\n",
    "\n",
    "tropical_fruits.discard(\"pineapple\")\n",
    "\n",
    "print(tropical_fruits)"
   ]
  },
  {
   "cell_type": "markdown",
   "metadata": {},
   "source": [
    "**Note on `discard()`**: Unlike `remove()`, the `discard()` method will **not** raise an error if the specified item is not found in the set. This makes it a safer choice when you're unsure if an item exists."
   ]
  },
  {
   "cell_type": "code",
   "execution_count": null,
   "metadata": {},
   "outputs": [
    {
     "name": "stdout",
     "output_type": "stream",
     "text": [
      "monitor\n",
      "{'keyboard', 'mouse'}\n"
     ]
    }
   ],
   "source": [
    "tech_gadgets = {\"keyboard\", \"mouse\", \"monitor\"}\n",
    "\n",
    "removed_item = tech_gadgets.pop() # Removes an arbitrary item\n",
    "\n",
    "print(removed_item)\n",
    "print(tech_gadgets)\n"
   ]
  },
  {
   "cell_type": "markdown",
   "metadata": {},
   "source": [
    "**Note on `pop()`**: Since sets are unordered, `pop()` removes an arbitrary item. You won't know which item is removed beforehand. The removed item is returned by the method."
   ]
  },
  {
   "cell_type": "code",
   "execution_count": null,
   "metadata": {},
   "outputs": [
    {
     "name": "stdout",
     "output_type": "stream",
     "text": [
      "set()\n"
     ]
    }
   ],
   "source": [
    "empty_set_example = {\"itemA\", \"itemB\", \"itemC\"}\n",
    "\n",
    "empty_set_example.clear()\n",
    "\n",
    "print(empty_set_example)"
   ]
  },
  {
   "cell_type": "markdown",
   "metadata": {},
   "source": [
    "The `clear()` method effectively removes all elements from a set, leaving it empty."
   ]
  },
  {
   "cell_type": "code",
   "execution_count": null,
   "metadata": {},
   "outputs": [
    {
     "ename": "NameError",
     "evalue": "name 'my_set' is not defined",
     "output_type": "error",
     "traceback": [
      "Traceback (most recent call last):\n",
      "  File \"<stdin>\", line 5, in <module>\n",
      "NameError: name 'my_set' is not defined"
     ]
    }
   ],
   "source": [
    "my_set = {\"first\", \"second\", \"third\"}\n",
    "\n",
    "del my_set # Deletes the entire set object\n",
    "\n",
    "print(my_set) # This will cause a NameError"
   ]
  },
  {
   "cell_type": "markdown",
   "metadata": {},
   "source": [
    "The `del` keyword completely deletes the set variable from memory, making it undefined."
   ]
  },
  {
   "cell_type": "markdown",
   "metadata": {},
   "source": [
    "# Iterating Through Sets"
   ]
  },
  {
   "cell_type": "code",
   "execution_count": null,
   "metadata": {},
   "outputs": [
    {
     "name": "stdout",
     "output_type": "stream",
     "text": [
      "dinosaur\n",
      "elephant\n",
      "giraffe\n"
     ]
    }
   ],
   "source": [
    "zoo_animals = {\"giraffe\", \"elephant\", \"dinosaur\"}\n",
    "\n",
    "for animal in zoo_animals:\n",
    "    print(animal)"
   ]
  },
  {
   "cell_type": "markdown",
   "metadata": {},
   "source": [
    "You can easily loop through all the items in a set using a `for` loop. Remember that the order of iteration is not guaranteed."
   ]
  },
  {
   "cell_type": "markdown",
   "metadata": {},
   "source": [
    "# Combining Sets"
   ]
  },
  {
   "cell_type": "markdown",
   "metadata": {},
   "source": [
    "Python provides powerful methods to combine sets, allowing for various set operations. The primary methods for joining sets are `union()` and `update()`."
   ]
  },
  {
   "cell_type": "code",
   "execution_count": null,
   "metadata": {},
   "outputs": [
    {
     "name": "stdout",
     "output_type": "stream",
     "text": [
      "{10, 20, 30, 'x', 'y', 'z'}\n"
     ]
    }
   ],
   "source": [
    "set_chars = {\"x\", \"y\", \"z\", \"x\"} # 'x' duplicate ignored\n",
    "set_nums = {10, 20, 30}\n",
    "\n",
    "combined_set = set_chars.union(set_nums)\n",
    "print(combined_set)"
   ]
  },
  {
   "cell_type": "markdown",
   "metadata": {},
   "source": [
    "The `union()` method creates a **new set** containing all distinct items from both sets."
   ]
  },
  {
   "cell_type": "code",
   "execution_count": null,
   "metadata": {},
   "outputs": [
    {
     "name": "stdout",
     "output_type": "stream",
     "text": [
      "{'z', 10, 'y', 20, 'x', 30}\n"
     ]
    }
   ],
   "source": [
    "set_A = {\"x\", \"y\", \"z\"}\n",
    "set_B = {10, 20, 30}\n",
    "\n",
    "set_A.update(set_B)\n",
    "print(set_A)"
   ]
  },
  {
   "cell_type": "markdown",
   "metadata": {},
   "source": [
    "The `update()` method directly modifies the **calling set** (in this case, `set_A`) by adding all distinct items from the other set (`set_B`) into it."
   ]
  },
  {
   "cell_type": "markdown",
   "metadata": {},
   "source": [
    "### Finding Common Elements (Intersection)\n",
    "The `intersection_update()` method retains only the items that are present in both sets within the calling set."
   ]
  },
  {
   "cell_type": "code",
   "execution_count": null,
   "metadata": {},
   "outputs": [
    {
     "name": "stdout",
     "output_type": "stream",
     "text": [
      "{'pen'}\n"
     ]
    }
   ],
   "source": [
    "stationery = {\"pencil\", \"pen\", \"eraser\"}\n",
    "school_supplies = {\"notebook\", \"pen\", \"ruler\"}\n",
    "\n",
    "stationery.intersection_update(school_supplies)\n",
    "\n",
    "print(stationery)"
   ]
  },
  {
   "cell_type": "markdown",
   "metadata": {},
   "source": [
    "The `intersection()` method returns a **new set** containing only the common items found in both sets."
   ]
  },
  {
   "cell_type": "code",
   "execution_count": null,
   "metadata": {},
   "outputs": [
    {
     "name": "stdout",
     "output_type": "stream",
     "text": [
      "{'python'}\n"
     ]
    }
   ],
   "source": [
    "programming_languages = {\"java\", \"python\", \"c++\"}\n",
    "scripting_languages = {\"javascript\", \"python\", \"ruby\"}\n",
    "\n",
    "common_languages = programming_languages.intersection(scripting_languages)\n",
    "\n",
    "print(common_languages)"
   ]
  },
  {
   "cell_type": "markdown",
   "metadata": {},
   "source": [
    "#### Elements Unique to Either Set (Symmetric Difference)"
   ]
  },
  {
   "cell_type": "markdown",
   "metadata": {},
   "source": [
    "The `symmetric_difference_update()` method modifies the calling set to include only those elements that are unique to *either* set, excluding any common elements."
   ]
  },
  {
   "cell_type": "code",
   "execution_count": null,
   "metadata": {},
   "outputs": [
    {
     "name": "stdout",
     "output_type": "stream",
     "text": [
      "{'banana', 'grape', 'mango', 'orange'}\n"
     ]
    }
   ],
   "source": [
    "set_fruits_a = {\"apple\", \"banana\", \"orange\"}\n",
    "set_fruits_b = {\"orange\", \"mango\", \"grape\"}\n",
    "\n",
    "set_fruits_a.symmetric_difference_update(set_fruits_b)\n",
    "\n",
    "print(set_fruits_a)"
   ]
  },
  {
   "cell_type": "markdown",
   "metadata": {},
   "source": [
    "The `symmetric_difference()` method returns a **new set** containing all items that are present in one set or the other, but not in both."
   ]
  },
  {
   "cell_type": "markdown",
   "metadata": {},
   "source": [
    "Obtain a new set with elements from both sets, excluding any shared elements:"
   ]
  },
  {
   "cell_type": "code",
   "execution_count": null,
   "metadata": {},
   "outputs": [
    {
     "name": "stdout",
     "output_type": "stream",
     "text": [
      "{'dog', 'cat', 'rabbit', 'hamster'}\n"
     ]
    }
   ],
   "source": [
    "pet_owners_1 = {\"cat\", \"dog\", \"bird\"}\n",
    "pet_owners_2 = {\"dog\", \"rabbit\", \"hamster\"}\n",
    "\n",
    "unique_pets = pet_owners_1.symmetric_difference(pet_owners_2)\n",
    "\n",
    "print(unique_pets)"
   ]
  },
  {
   "cell_type": "markdown",
   "metadata": {},
   "source": [
    "# Set Practice Exercises"
   ]
  },
  {
   "cell_type": "markdown",
   "metadata": {},
   "source": [
    "#### Exercise 1: Verify if \"carrot\" exists in the `vegetables` set."
   ]
  },
  {
   "cell_type": "code",
   "execution_count": null,
   "metadata": {},
   "outputs": [
    {
     "name": "stdout",
     "output_type": "stream",
     "text": [
      "Yes, carrot is among the vegetables!\n"
     ]
    }
   ],
   "source": [
    "vegetables = {\"cucumber\", \"tomato\", \"carrot\", \"potato\"}\n",
    "if \"carrot\" in vegetables:\n",
    "    print(\"Yes, carrot is among the vegetables!\")"
   ]
  },
  {
   "cell_type": "markdown",
   "metadata": {},
   "source": [
    "#### Exercise 2: Utilize the `add()` method to include \"broccoli\" in the `green_veg` set."
   ]
  },
  {
   "cell_type": "code",
   "execution_count": null,
   "metadata": {},
   "outputs": [
    {
     "name": "stdout",
     "output_type": "stream",
     "text": [
      "{'spinach', 'kale', 'broccoli'}\n",
      "{'spinach', 'kale', 'broccoli'}\n"
     ]
    }
   ],
   "source": [
    "green_veg = {\"spinach\", \"kale\"}\n",
    "green_veg.add(\"broccoli\")\n",
    "print(green_veg)\n",
    "green_veg.add(\"broccoli\") # Adding an existing item has no effect\n",
    "print(green_veg)"
   ]
  },
  {
   "cell_type": "markdown",
   "metadata": {},
   "source": [
    "#### Exercise 3: Employ the appropriate method to add all items from `new_spices` to the `spice_rack` set."
   ]
  },
  {
   "cell_type": "code",
   "execution_count": null,
   "metadata": {},
   "outputs": [
    {
     "name": "stdout",
     "output_type": "stream",
     "text": [
      "{'cumin', 'turmeric', 'paprika', 'ginger', 'cinnamon'}\n"
     ]
    }
   ],
   "source": [
    "spice_rack = {\"cumin\", \"turmeric\"}\n",
    "new_spices = {\"ginger\", \"paprika\", \"cinnamon\"}\n",
    "spice_rack.update(new_spices)\n",
    "print(spice_rack)"
   ]
  },
  {
   "cell_type": "markdown",
   "metadata": {},
   "source": [
    "#### Exercise 4: Use the `remove()` method to take \"milk\" out of the `dairy_products` set."
   ]
  },
  {
   "cell_type": "code",
   "execution_count": null,
   "metadata": {},
   "outputs": [
    {
     "name": "stdout",
     "output_type": "stream",
     "text": [
      "{'cheese', 'yogurt'}\n"
     ]
    }
   ],
   "source": [
    "dairy_products = {\"milk\", \"cheese\", \"yogurt\"}\n",
    "dairy_products.remove(\"milk\")\n",
    "print(dairy_products)"
   ]
  },
  {
   "cell_type": "markdown",
   "metadata": {},
   "source": [
    "#### Exercise 5: Apply the `discard()` method to remove \"sugar\" from the `baking_ingredients` set."
   ]
  },
  {
   "cell_type": "code",
   "execution_count": null,
   "metadata": {},
   "outputs": [
    {
     "name": "stdout",
     "output_type": "stream",
     "text": [
      "{'flour', 'eggs'}\n"
     ]
    }
   ],
   "source": [
    "baking_ingredients = {\"flour\", \"sugar\", \"eggs\"}\n",
    "baking_ingredients.discard(\"sugar\")\n",
    "print(baking_ingredients)"
   ]
  }
 ],
 "metadata": {
  "kernelspec": {
   "display_name": "Python 3",
   "language": "python",
   "name": "python3"
  },
  "language_info": {
   "codemirror_mode": {
    "name": "ipython",
    "version": 3
   },
   "file_extension": ".py",
   "mimetype": "text/x-python",
   "name": "python",
   "nbconvert_exporter": "python",
   "pygments_lexer": "ipython3",
   "version": "3.7.3"
  }
 },
 "nbformat": 4,
 "nbformat_minor": 2
}