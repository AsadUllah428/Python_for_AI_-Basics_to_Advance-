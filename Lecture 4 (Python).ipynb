{
 "cells": [
  {
   "cell_type": "markdown",
   "id": "60ed04cb",
   "metadata": {},
   "source": [
    "# Understanding and Modifying Python Lists"
   ]
  },
  {
   "cell_type": "markdown",
   "id": "082e8f5a",
   "metadata": {},
   "source": [
    "Welcome to this lecture on Python lists! Lists are like flexible containers that can hold a collection of items. Think of them as a shopping list, a playlist, or a list of your favorite movies. We'll learn how to add, remove, organize, and combine items in these powerful containers."
   ]
  },
  {
   "cell_type": "markdown",
   "id": "f6633a4b",
   "metadata": {},
   "source": [
    "## Removing Items from a List"
   ]
  },
  {
   "cell_type": "markdown",
   "id": "56ac0195",
   "metadata": {},
   "source": [
    "Sometimes you need to take things out of your list. Python gives you a few ways to do this, depending on whether you know the item's value or its position."
   ]
  },
  {
   "cell_type": "markdown",
   "id": "367a3f2e",
   "metadata": {},
   "source": [
    "### 1. Removing a Specific Item by Its Value (`.remove()`)"
   ]
  },
  {
   "cell_type": "markdown",
   "id": "9754dd45",
   "metadata": {},
   "source": [
    "If you know *what* you want to remove (e.g., 'milk' from a grocery list), you can use the `.remove()` method. It looks for the first occurrence of that item and takes it out."
   ]
  },
  {
   "cell_type": "code",
   "execution_count": 1,
   "id": "ca4581eb",
   "metadata": {},
   "outputs": [
    {
     "name": "stdout",
     "output_type": "stream",
     "text": [
      "Original ingredients: ['flour', 'sugar', 'eggs', 'milk', 'baking powder', 'sugar']\n",
      "After removing one sugar: ['flour', 'eggs', 'milk', 'baking powder', 'sugar']\n",
      "\n",
      "Oops! 'chocolate' was not found in the list.\n"
     ]
    }
   ],
   "source": [
    "# Example: Removing a specific ingredient from a recipe list\n",
    "recipe_ingredients = [\"flour\", \"sugar\", \"eggs\", \"milk\", \"baking powder\", \"sugar\"]\n",
    "print(\"Original ingredients:\", recipe_ingredients)\n",
    "\n",
    "# Oh, we have too much sugar! Let's remove one.\n",
    "recipe_ingredients.remove(\"sugar\")\n",
    "print(\"After removing one sugar:\", recipe_ingredients)\n",
    "\n",
    "# What if the item isn't there?\n",
    "try:\n",
    "    recipe_ingredients.remove(\"chocolate\")\n",
    "except ValueError:\n",
    "    print(\"\\nOops! 'chocolate' was not found in the list.\")"
   ]
  },
  {
   "cell_type": "markdown",
   "id": "05f611d7",
   "metadata": {},
   "source": [
    "### 2. Removing an Item by Its Position (`.pop()`)"
   ]
  },
  {
   "cell_type": "markdown",
   "id": "782632ee",
   "metadata": {},
   "source": [
    "If you know *where* the item is in the list (its index), you can use the `.pop()` method. Remember, Python lists start counting from 0 (the first item is at index 0, the second at index 1, and so on).\n",
    "\n",
    "A cool thing about `.pop()` is that it also *returns* the item it removed, so you can use it later if you need to!"
   ]
  },
  {
   "cell_type": "code",
   "execution_count": 2,
   "id": "2e33f5ef",
   "metadata": {},
   "outputs": [
    {
     "name": "stdout",
     "output_type": "stream",
     "text": [
      "Original playlist: ['Song A', 'Song B', 'Song C', 'Song D', 'Song E']\n",
      "Removed song: 'Song C'\n",
      "Playlist after removing song at index 2: ['Song A', 'Song B', 'Song D', 'Song E']\n",
      "Removed last song: 'Song E'\n",
      "Playlist after removing the last song: ['Song A', 'Song B', 'Song D']\n"
     ]
    }
   ],
   "source": [
    "# Example: Managing a playlist\n",
    "my_playlist = [\"Song A\", \"Song B\", \"Song C\", \"Song D\", \"Song E\"]\n",
    "print(\"Original playlist:\", my_playlist)\n",
    "\n",
    "# Let's remove the third song (at index 2)\n",
    "removed_song = my_playlist.pop(2)\n",
    "print(f\"Removed song: '{removed_song}'\")\n",
    "print(\"Playlist after removing song at index 2:\", my_playlist)\n",
    "\n",
    "# If you use .pop() without an index, it removes and returns the LAST item\n",
    "last_song = my_playlist.pop()\n",
    "print(f\"Removed last song: '{last_song}'\")\n",
    "print(\"Playlist after removing the last song:\", my_playlist)"
   ]
  },
  {
   "cell_type": "markdown",
   "id": "48617b58",
   "metadata": {},
   "source": [
    "### 3. Deleting Items or Entire Lists (`del` keyword)"
   ]
  },
  {
   "cell_type": "markdown",
   "id": "e0691f53",
   "metadata": {},
   "source": [
    "The `del` keyword is a general way to delete things in Python. You can use it to remove an item at a specific index, or even to completely delete the list variable itself from your program's memory."
   ]
  },
  {
   "cell_type": "code",
   "execution_count": 3,
   "id": "8f2713aa",
   "metadata": {},
   "outputs": [
    {
     "name": "stdout",
     "output_type": "stream",
     "text": [
      "Original high scores: [1000, 850, 1200, 700, 950]\n",
      "High scores after deleting index 1: [1000, 1200, 700, 950]\n",
      "High scores after deleting a slice: [1000, 950]\n",
      "\n",
      "'high_scores' list has been completely deleted!\n"
     ]
    }
   ],
   "source": [
    "# Example: Managing a list of high scores\n",
    "high_scores = [1000, 850, 1200, 700, 950]\n",
    "print(\"Original high scores:\", high_scores)\n",
    "\n",
    "# Let's delete the score at index 1 (850)\n",
    "del high_scores[1]\n",
    "print(\"High scores after deleting index 1:\", high_scores)\n",
    "\n",
    "# You can also delete a range of items (slicing)\n",
    "del high_scores[1:3] # Deletes items from index 1 up to (but not including) index 3\n",
    "print(\"High scores after deleting a slice:\", high_scores)\n",
    "\n",
    "# Now, let's completely delete the 'high_scores' list variable\n",
    "del high_scores\n",
    "\n",
    "try:\n",
    "    print(high_scores) # This will cause an error because the list no longer exists\n",
    "except NameError:\n",
    "    print(\"\\n'high_scores' list has been completely deleted!\")"
   ]
  },
  {
   "cell_type": "markdown",
   "id": "57a8dd70",
   "metadata": {},
   "source": [
    "### 4. Emptying a List (`.clear()`)"
   ]
  },
  {
   "cell_type": "markdown",
   "id": "6efc71a4",
   "metadata": {},
   "source": [
    "If you want to remove *all* items from a list, but keep the list variable itself (so you can add new items to it later), use the `.clear()` method. The list becomes empty, but it's still there."
   ]
  },
  {
   "cell_type": "code",
   "execution_count": 4,
   "id": "21c826a4",
   "metadata": {},
   "outputs": [
    {
     "name": "stdout",
     "output_type": "stream",
     "text": [
      "My to-do list before clearing: ['Buy groceries', 'Finish report', 'Call mom', 'Exercise']\n",
      "My to-do list after clearing: []\n",
      "My to-do list after adding a new item: ['Plan next week']\n"
     ]
    }
   ],
   "source": [
    "# Example: Clearing a to-do list\n",
    "my_todo_list = [\"Buy groceries\", \"Finish report\", \"Call mom\", \"Exercise\"]\n",
    "print(\"My to-do list before clearing:\", my_todo_list)\n",
    "\n",
    "# Done for the day! Clear the list.\n",
    "my_todo_list.clear()\n",
    "print(\"My to-do list after clearing:\", my_todo_list)\n",
    "\n",
    "# The list still exists, it's just empty\n",
    "my_todo_list.append(\"Plan next week\")\n",
    "print(\"My to-do list after adding a new item:\", my_todo_list)"
   ]
  },
  {
   "cell_type": "markdown",
   "id": "edcbb010",
   "metadata": {},
   "source": [
    "## Working with Lists Inside Lists (Nested Lists)"
   ]
  },
  {
   "cell_type": "markdown",
   "id": "c7c90655",
   "metadata": {},
   "source": [
    "Lists can hold any type of item, including other lists! This is called a 'nested list'. It's like having folders inside other folders."
   ]
  },
  {
   "cell_type": "markdown",
   "id": "20a94ef6",
   "metadata": {},
   "source": [
    "### Removing Items from Nested Lists"
   ]
  },
  {
   "cell_type": "markdown",
   "id": "c725a732",
   "metadata": {},
   "source": [
    "To remove an item from a list that's *inside* another list, you just need to access the inner list first using its index, and then apply the removal method to that inner list."
   ]
  },
  {
   "cell_type": "code",
   "execution_count": 5,
   "id": "652912a6",
   "metadata": {},
   "outputs": [
    {
     "name": "stdout",
     "output_type": "stream",
     "text": [
      "Original team roster: ['Team Alpha', ['Alice', 'Bob', 'Charlie'], 'Team Beta', ['David', 'Eve', 'Frank'], 'Team Gamma', ['Grace', 'Heidi']]\n",
      "\n",
      "After Bob leaves Team Alpha: ['Team Alpha', ['Alice', 'Charlie'], 'Team Beta', ['David', 'Eve', 'Frank'], 'Team Gamma', ['Grace', 'Heidi']]\n",
      "\n",
      "Player 'Eve' moved from Team Beta.\n",
      "After Eve leaves Team Beta: ['Team Alpha', ['Alice', 'Charlie'], 'Team Beta', ['David', 'Frank'], 'Team Gamma', ['Grace', 'Heidi']]\n",
      "\n",
      "After Grace's injury: ['Team Alpha', ['Alice', 'Charlie'], 'Team Beta', ['David', 'Frank'], 'Team Gamma', ['Heidi']]\n"
     ]
    }
   ],
   "source": [
    "# Example: A list of teams, with players in each team\n",
    "all_teams = [\n",
    "    \"Team Alpha\", \n",
    "    [\"Alice\", \"Bob\", \"Charlie\"], # Team 1 (index 1)\n",
    "    \"Team Beta\", \n",
    "    [\"David\", \"Eve\", \"Frank\"],  # Team 2 (index 3)\n",
    "    \"Team Gamma\",\n",
    "    [\"Grace\", \"Heidi\"]\n",
    "]\n",
    "print(\"Original team roster:\", all_teams)\n",
    "\n",
    "# Let's say Bob leaves Team Alpha (which is at index 1)\n",
    "# We access Team Alpha (all_teams[1]) and then use .remove() on it\n",
    "all_teams[1].remove(\"Bob\")\n",
    "print(\"\\nAfter Bob leaves Team Alpha:\", all_teams)\n",
    "\n",
    "# Eve from Team Beta (at index 3) is moving to another team. Let's pop her out.\n",
    "moved_player = all_teams[3].pop(1) # Access Team Beta (index 3), then pop player at index 1\n",
    "print(f\"\\nPlayer '{moved_player}' moved from Team Beta.\")\n",
    "print(\"After Eve leaves Team Beta:\", all_teams)\n",
    "\n",
    "# Oh no, Grace from Team Gamma (at index 5) is injured. Let's delete her by index.\n",
    "del all_teams[5][0] # Access Team Gamma (index 5), then delete player at index 0\n",
    "print(\"\\nAfter Grace's injury:\", all_teams)"
   ]
  },
  {
   "cell_type": "markdown",
   "id": "a66cd635",
   "metadata": {},
   "source": [
    "### Finding the Size of Nested Lists (`len()`)"
   ]
  },
  {
   "cell_type": "markdown",
   "id": "3231832f",
   "metadata": {},
   "source": [
    "The `len()` function tells you how many items are in a list. For nested lists, it counts the top-level items. To find the length of an inner list, you first need to access that inner list."
   ]
  },
  {
   "cell_type": "code",
   "execution_count": 6,
   "id": "495f16ec",
   "metadata": {},
   "outputs": [
    {
     "name": "stdout",
     "output_type": "stream",
     "text": [
      "Total items in 'world_regions' list (including region names and city lists): 6\n",
      "Number of cities in North America: 3\n",
      "Number of cities in Europe: 4\n"
     ]
    }
   ],
   "source": [
    "# Example: A list of regions, each with a list of cities\n",
    "world_regions = [\n",
    "    \"North America\", [\"New York\", \"Toronto\", \"Mexico City\"],\n",
    "    \"Europe\", [\"Paris\", \"Berlin\", \"Rome\", \"London\"],\n",
    "    \"Asia\", [\"Tokyo\", \"Beijing\"]\n",
    "]\n",
    "\n",
    "print(\"Total items in 'world_regions' list (including region names and city lists):\", len(world_regions))\n",
    "\n",
    "# How many cities are in North America (which is at index 1)?\n",
    "print(\"Number of cities in North America:\", len(world_regions[1]))\n",
    "\n",
    "# How many cities are in Europe (which is at index 3)?\n",
    "print(\"Number of cities in Europe:\", len(world_regions[3]))"
   ]
  },
  {
   "cell_type": "markdown",
   "id": "8459f267",
   "metadata": {},
   "source": [
    "## Going Through Lists (Looping)"
   ]
  },
  {
   "cell_type": "markdown",
   "id": "2848c6b3",
   "metadata": {},
   "source": [
    "Looping means performing an action for each item in a list. It's super useful for processing collections of data."
   ]
  },
  {
   "cell_type": "markdown",
   "id": "ee249110",
   "metadata": {},
   "source": [
    "### 1. Simple `for` Loop (Iterating Directly)"
   ]
  },
  {
   "cell_type": "markdown",
   "id": "0cad2d36",
   "metadata": {},
   "source": [
    "This is the most common and Pythonic way to loop. You simply tell Python to take each item from the list, one by one, and assign it to a temporary variable (like `item` or `fruit` in the examples below)."
   ]
  },
  {
   "cell_type": "code",
   "execution_count": 7,
   "id": "be74e907",
   "metadata": {},
   "outputs": [
    {
     "name": "stdout",
     "output_type": "stream",
     "text": [
      "My daily affirmations:\n",
      "I am capable\n",
      "I am strong\n",
      "I am worthy\n",
      "I am grateful\n"
     ]
    }
   ],
   "source": [
    "# Example: Printing each item in a list of daily affirmations\n",
    "affirmations = [\"I am capable\", \"I am strong\", \"I am worthy\", \"I am grateful\"]\n",
    "\n",
    "print(\"My daily affirmations:\")\n",
    "for phrase in affirmations:\n",
    "  print(phrase)"
   ]
  },
  {
   "cell_type": "markdown",
   "id": "9ec8fd08",
   "metadata": {},
   "source": [
    "### 2. Looping with Index Numbers (`for` with `range()` and `len()`)"
   ]
  },
  {
   "cell_type": "markdown",
   "id": "b8d5b831",
   "metadata": {},
   "source": [
    "Sometimes you need to know not just the item, but also its position (index) in the list. You can do this by looping through a sequence of numbers from 0 up to the list's length."
   ]
  },
  {
   "cell_type": "code",
   "execution_count": 8,
   "id": "5963ce91",
   "metadata": {},
   "outputs": [
    {
     "name": "stdout",
     "output_type": "stream",
     "text": [
      "Shopping List Items:\n",
      "Item 1: Apples\n",
      "Item 2: Bread\n",
      "Item 3: Cheese\n",
      "Item 4: Milk\n"
     ]
    }
   ],
   "source": [
    "# Example: Listing items with their order numbers\n",
    "shopping_list = [\"Apples\", \"Bread\", \"Cheese\", \"Milk\"]\n",
    "\n",
    "print(\"Shopping List Items:\")\n",
    "for i in range(len(shopping_list)): # i will be 0, 1, 2, 3\n",
    "  # We add 1 to 'i' to make it more human-readable (start from 1 instead of 0)\n",
    "  print(f\"Item {i + 1}: {shopping_list[i]}\")"
   ]
  },
  {
   "cell_type": "markdown",
   "id": "bb2e0104",
   "metadata": {},
   "source": [
    "### 3. Looping with a `while` Loop"
   ]
  },
  {
   "cell_type": "markdown",
   "id": "bc0aaa1a",
   "metadata": {},
   "source": [
    "A `while` loop keeps running as long as a certain condition is true. For lists, you can use a counter variable and stop when the counter reaches the list's length."
   ]
  },
  {
   "cell_type": "code",
   "execution_count": 9,
   "id": "f04a85e6",
   "metadata": {},
   "outputs": [
    {
     "name": "stdout",
     "output_type": "stream",
     "text": [
      "Countdown sequence:\n",
      "5\n",
      "4\n",
      "3\n",
      "2\n",
      "1\n",
      "Blast Off!\n"
     ]
    }
   ],
   "source": [
    "# Example: A simple countdown\n",
    "countdown_numbers = [5, 4, 3, 2, 1, \"Blast Off!\"]\n",
    "index = 0\n",
    "\n",
    "print(\"Countdown sequence:\")\n",
    "while index < len(countdown_numbers):\n",
    "  print(countdown_numbers[index])\n",
    "  index = index + 1 # Don't forget to increase the index, or you'll loop forever!"
   ]
  },
  {
   "cell_type": "markdown",
   "id": "4b18da0a",
   "metadata": {},
   "source": [
    "### 4. Quick Looping with List Comprehension (for side effects)"
   ]
  },
  {
   "cell_type": "markdown",
   "id": "86ff7b88",
   "metadata": {},
   "source": [
    "While list comprehension is primarily for *creating new lists* (we'll see this next), you can use its concise syntax to perform an action for each item, like printing. It's a very compact way to write loops."
   ]
  },
  {
   "cell_type": "code",
   "execution_count": 10,
   "id": "9829c7b2",
   "metadata": {},
   "outputs": [
    {
     "name": "stdout",
     "output_type": "stream",
     "text": [
      "Animal sounds:\n",
      "Woof\n",
      "Meow\n",
      "Moo\n",
      "Roar\n"
     ]
    }
   ],
   "source": [
    "# Example: Printing animal sounds\n",
    "animal_sounds = [\"Woof\", \"Meow\", \"Moo\", \"Roar\"]\n",
    "\n",
    "print(\"Animal sounds:\")\n",
    "for sound in animal_sounds:\n",
    "    print(sound)"
   ]
  }
 ],
 "metadata": {
  "kernelspec": {
   "display_name": "base",
   "language": "python",
   "name": "python3"
  },
  "language_info": {
   "codemirror_mode": {
    "name": "ipython",
    "version": 3
   },
   "file_extension": ".py",
   "mimetype": "text/x-python",
   "name": "python",
   "nbconvert_exporter": "python",
   "pygments_lexer": "ipython3",
   "version": "3.12.9"
  }
 },
 "nbformat": 4,
 "nbformat_minor": 5
}
