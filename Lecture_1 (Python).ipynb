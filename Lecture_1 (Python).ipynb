{
 "cells": [
  {
   "cell_type": "markdown",
   "id": "1b2195f5",
   "metadata": {},
   "source": [
    "# Python Introduction\n",
    "Welcome to this detailed Python lecture for beginners! We'll cover the basics of Python syntax, variables, and data types with clear explanations and easy examples."
   ]
  },
  {
   "cell_type": "markdown",
   "id": "792d205d",
   "metadata": {},
   "source": [
    "\n",
    "\n",
    "### **Comprehensive Python Use Cases Across Modern Tech Domains**\n",
    "\n",
    "1. **Artificial Intelligence (AI)**\n",
    "\n",
    "   * Intelligent systems development\n",
    "   * AI-powered chatbots and virtual assistants\n",
    "   * Natural Language Processing (NLP)\n",
    "   * Computer vision (e.g., object detection, face recognition)\n",
    "\n",
    "2. **Machine Learning (ML) & Deep Learning**\n",
    "\n",
    "   * Predictive modeling and recommendation systems\n",
    "   * Neural networks for image and speech recognition\n",
    "   * Time series forecasting (e.g., stock prices, demand forecasting)\n",
    "   * Reinforcement learning for robotics and simulations\n",
    "\n",
    "3. **Data Science & Analytics**\n",
    "\n",
    "   * Exploratory data analysis and visualization (with Pandas, Matplotlib, Seaborn)\n",
    "   * Statistical analysis and hypothesis testing\n",
    "   * Business intelligence and reporting automation\n",
    "   * Customer segmentation and behavioral analytics\n",
    "\n",
    "4. **Data Engineering**\n",
    "\n",
    "   * Data pipelines and ETL processes (e.g., with Apache Airflow, Luigi)\n",
    "   * Data warehousing and integration (e.g., with SQLAlchemy, PySpark)\n",
    "   * Real-time data processing and stream analytics\n",
    "\n",
    "5. **Web Scraping & Automation**\n",
    "\n",
    "   * Scraping dynamic websites using Selenium or BeautifulSoup\n",
    "   * Automated data collection and aggregation\n",
    "   * Web monitoring and alert systems\n",
    "   * Browser automation and testing\n",
    "\n",
    "6. **Web Development**\n",
    "\n",
    "   * Backend development with Flask, Django, or FastAPI\n",
    "   * RESTful API design and microservices\n",
    "   * Server-side rendering and asynchronous web applications\n",
    "   * Authentication and user management systems\n",
    "\n",
    "7. **Desktop Applications**\n",
    "\n",
    "   * GUI development using Tkinter, PyQt, or Kivy\n",
    "   * Standalone productivity tools and utilities\n",
    "   * Cross-platform desktop deployment\n",
    "\n",
    "8. **Internet of Things (IoT)**\n",
    "\n",
    "   * Sensor data acquisition and processing\n",
    "   * Device control and automation\n",
    "   * Edge computing and remote monitoring systems\n",
    "\n",
    "9. **Blockchain & Smart Contracts**\n",
    "\n",
    "   * Blockchain interaction using Web3.py or Brownie\n",
    "   * Cryptocurrency wallet and transaction automation\n",
    "   * Smart contract testing and deployment (Ethereum-based)\n",
    "\n",
    "10. **Software Development & DevOps**\n",
    "\n",
    "* Automated testing and CI/CD pipelines (e.g., PyTest, Jenkins)\n",
    "* Package development and distribution (PyPI)\n",
    "* Version control integration (e.g., Git automation scripts)\n",
    "\n",
    "11. **Scientific Computing & Mathematics**\n",
    "\n",
    "* Numerical computation with NumPy and SciPy\n",
    "* Symbolic mathematics with SymPy\n",
    "* Mathematical modeling and simulation\n",
    "* Optimization and linear algebra\n",
    "\n",
    "12. **Cybersecurity & Ethical Hacking**\n",
    "\n",
    "* Network scanning and packet analysis\n",
    "* Vulnerability testing and exploitation tools\n",
    "* Log analysis and anomaly detection\n",
    "\n",
    "13. **Game Development**\n",
    "\n",
    "* 2D/3D games using Pygame or Panda3D\n",
    "* AI for game bots and NPC behavior\n",
    "* Procedural content generation\n",
    "\n",
    "14. **Education & Research**\n",
    "\n",
    "* Interactive notebooks with Jupyter\n",
    "* Educational tools and simulations\n",
    "* Research automation and paper analysis (e.g., PDF parsing, citation extraction)\n",
    "\n",
    "\n"
   ]
  },
  {
   "cell_type": "markdown",
   "id": "65d9b332",
   "metadata": {},
   "source": [
    "## Python Syntax\n",
    "Python code is written in plain text files with `.py` extension or in Jupyter notebooks. A simple Python statement looks like this:"
   ]
  },
  {
   "cell_type": "code",
   "execution_count": 1,
   "id": "01e8070f",
   "metadata": {},
   "outputs": [
    {
     "name": "stdout",
     "output_type": "stream",
     "text": [
      "Hello, world!\n"
     ]
    }
   ],
   "source": [
    "print('Hello, world!')\n",
    "# This will display the text inside the parentheses"
   ]
  },
  {
   "cell_type": "markdown",
   "id": "c5397de9",
   "metadata": {},
   "source": [
    "## Python Indentation\n",
    "Python uses indentation (spaces or tabs) to define blocks of code."
   ]
  },
  {
   "cell_type": "code",
   "execution_count": 2,
   "id": "bfd442bc",
   "metadata": {},
   "outputs": [
    {
     "name": "stdout",
     "output_type": "stream",
     "text": [
      "Five is greater than two\n",
      "This runs regardless of the if statement\n"
     ]
    }
   ],
   "source": [
    "if 5 > 2:\n",
    "    print('Five is greater than two')  # 4 spaces indent\n",
    "    # Everything indented below 'if' is part of the block\n",
    "print('This runs regardless of the if statement')"
   ]
  },
  {
   "cell_type": "markdown",
   "id": "8debdf30",
   "metadata": {},
   "source": [
    "# Python Variables\n",
    "Variables store values that you can use later in your code."
   ]
  },
  {
   "cell_type": "code",
   "execution_count": 3,
   "id": "c7f734d0",
   "metadata": {},
   "outputs": [
    {
     "name": "stdout",
     "output_type": "stream",
     "text": [
      "10\n"
     ]
    }
   ],
   "source": [
    "x = 10  \n",
    "print(x)"
   ]
  },
  {
   "cell_type": "markdown",
   "id": "1c96e080",
   "metadata": {},
   "source": [
    "## Comments\n",
    "Comments are notes in your code that Python ignores. They start with `#` and help you explain what your code does."
   ]
  },
  {
   "cell_type": "code",
   "execution_count": 4,
   "id": "aaa9bc1a",
   "metadata": {},
   "outputs": [
    {
     "name": "stdout",
     "output_type": "stream",
     "text": [
      "10\n"
     ]
    }
   ],
   "source": [
    "# This is a comment and will not run\n",
    "x = 10  # Here we assign the value 10 to the variable x\n",
    "print(x)"
   ]
  },
  {
   "cell_type": "markdown",
   "id": "8b9cdf7c",
   "metadata": {},
   "source": [
    "## Variable Names\n",
    "Rules for naming variables:\n",
    "- Must start with a letter or underscore\n",
    "- Can contain letters, numbers, and underscores\n",
    "- Are case-sensitive (`age` and `Age` are different)\n",
    "- A variable name cannot start with a number\n",
    "\n",
    "Examples:"
   ]
  },
  {
   "cell_type": "code",
   "execution_count": 5,
   "id": "aeed41a3",
   "metadata": {},
   "outputs": [
    {
     "name": "stdout",
     "output_type": "stream",
     "text": [
      "Alice 30 True\n"
     ]
    }
   ],
   "source": [
    "name = 'Alice'\n",
    "age2 = 30\n",
    "_underscore = True\n",
    "print(name, age2, _underscore)"
   ]
  },
  {
   "cell_type": "markdown",
   "id": "534d0b9d",
   "metadata": {},
   "source": [
    "# Multi-Word Variable Names\n",
    "When a variable name has more than one word, there are several common styles:"
   ]
  },
  {
   "cell_type": "markdown",
   "id": "541668c3",
   "metadata": {},
   "source": [
    "## Camel Case\n",
    "First word lowercase, each following word capitalized."
   ]
  },
  {
   "cell_type": "code",
   "execution_count": 6,
   "id": "8c5726bd",
   "metadata": {},
   "outputs": [
    {
     "name": "stdout",
     "output_type": "stream",
     "text": [
      "5\n"
     ]
    }
   ],
   "source": [
    "myVariable = 5\n",
    "print(myVariable)"
   ]
  },
  {
   "cell_type": "markdown",
   "id": "b2c0f519",
   "metadata": {},
   "source": [
    "## Pascal Case\n",
    "Every word capitalized."
   ]
  },
  {
   "cell_type": "code",
   "execution_count": 7,
   "id": "b409e9ae",
   "metadata": {},
   "outputs": [
    {
     "name": "stdout",
     "output_type": "stream",
     "text": [
      "10\n"
     ]
    }
   ],
   "source": [
    "MyVariable = 10\n",
    "print(MyVariable)"
   ]
  },
  {
   "cell_type": "markdown",
   "id": "e17abff0",
   "metadata": {},
   "source": [
    "## Snake Case\n",
    "Words separated by underscores, all lowercase."
   ]
  },
  {
   "cell_type": "code",
   "execution_count": 8,
   "id": "4b108330",
   "metadata": {},
   "outputs": [
    {
     "name": "stdout",
     "output_type": "stream",
     "text": [
      "15\n"
     ]
    }
   ],
   "source": [
    "my_variable = 15\n",
    "print(my_variable)"
   ]
  },
  {
   "cell_type": "markdown",
   "id": "f6c9f224",
   "metadata": {},
   "source": [
    "# Assign Multiple Values\n",
    "You can assign multiple variables in one line."
   ]
  },
  {
   "cell_type": "markdown",
   "id": "41c63ae0",
   "metadata": {},
   "source": [
    "### Many Values to Multiple Variables\n",
    "Separate values with commas."
   ]
  },
  {
   "cell_type": "code",
   "execution_count": 9,
   "id": "c6c94619",
   "metadata": {},
   "outputs": [
    {
     "name": "stdout",
     "output_type": "stream",
     "text": [
      "1 2 3\n"
     ]
    }
   ],
   "source": [
    "a, b, c = 1, 2, 3\n",
    "print(a, b, c)"
   ]
  },
  {
   "cell_type": "markdown",
   "id": "762800a4",
   "metadata": {},
   "source": [
    "### One Value to Multiple Variables\n",
    "Assign the same value to multiple variables."
   ]
  },
  {
   "cell_type": "code",
   "execution_count": 10,
   "id": "894e6b51",
   "metadata": {},
   "outputs": [
    {
     "name": "stdout",
     "output_type": "stream",
     "text": [
      "Same Same Same\n"
     ]
    }
   ],
   "source": [
    "x = y = z = 'Same'\n",
    "print(x, y, z)"
   ]
  },
  {
   "cell_type": "markdown",
   "id": "a6a804bf",
   "metadata": {},
   "source": [
    "# Global Variables\n",
    "A global variable is defined outside functions and can be accessed inside them with the `global` keyword."
   ]
  },
  {
   "cell_type": "code",
   "execution_count": 11,
   "id": "051a7cee",
   "metadata": {},
   "outputs": [
    {
     "name": "stdout",
     "output_type": "stream",
     "text": [
      "1\n"
     ]
    }
   ],
   "source": [
    "count = 0  # global variable\n",
    "\n",
    "def increment():\n",
    "    global count\n",
    "    count += 1\n",
    "\n",
    "increment()\n",
    "print(count)"
   ]
  },
  {
   "cell_type": "markdown",
   "id": "9cd5f3bf",
   "metadata": {},
   "source": [
    "# Data Types\n",
    "Common data types in Python include:\n",
    "- **int**: integer numbers, e.g., `5`\n",
    "- **float**: decimal numbers, e.g., `3.14`\n",
    "- **str**: text (strings), e.g., `'Hello'`\n",
    "- **bool**: boolean values, `True` or `False`\n"
   ]
  },
  {
   "cell_type": "markdown",
   "id": "1b8db898",
   "metadata": {},
   "source": [
    "## Getting the Data Type\n",
    "Use the `type()` function to check the type of a value:"
   ]
  },
  {
   "cell_type": "code",
   "execution_count": 12,
   "id": "c178b5b8",
   "metadata": {},
   "outputs": [
    {
     "name": "stdout",
     "output_type": "stream",
     "text": [
      "<class 'int'>\n",
      "<class 'float'>\n",
      "<class 'str'>\n",
      "<class 'bool'>\n"
     ]
    }
   ],
   "source": [
    "print(type(5))        # <class 'int'>\n",
    "print(type(3.14))     # <class 'float'>\n",
    "print(type('Hello'))  # <class 'str'>\n",
    "print(type(True))     # <class 'bool'>"
   ]
  },
  {
   "cell_type": "markdown",
   "id": "c3f636ff",
   "metadata": {},
   "source": [
    "# Data Types"
   ]
  },
  {
   "cell_type": "markdown",
   "id": "e832b824",
   "metadata": {},
   "source": [
    "In programming, data type is an important concept.\n",
    "\n",
    "Variables can store data of different types, and different types can do different things.\n",
    "\n",
    "Python has the following data types built-in by default, in these categories:"
   ]
  },
  {
   "cell_type": "markdown",
   "id": "d51bf825",
   "metadata": {},
   "source": [
    "* Text Type:\tstr  (e.g \"House\" )\n",
    "* Boolean Type:\tbool (True and False)\n",
    "* Numeric Types:\tint (55), float (55.5) \n",
    "* Sequence Types:\tlist (\"are present in [ ]\"), tuple (\"are present in ( )\"), range\n",
    "* Set Types:\tset (\"are present in { }\"), frozenset\n",
    "* Mapping Type:\tdict\n",
    "\n"
   ]
  },
  {
   "cell_type": "markdown",
   "id": "409cb98b",
   "metadata": {},
   "source": [
    "# Checking Data Types"
   ]
  },
  {
   "cell_type": "code",
   "execution_count": 13,
   "id": "b79d4094",
   "metadata": {},
   "outputs": [
    {
     "data": {
      "text/plain": [
       "str"
      ]
     },
     "execution_count": 13,
     "metadata": {},
     "output_type": "execute_result"
    }
   ],
   "source": [
    "x=\"Name\"\n",
    "type(x)"
   ]
  },
  {
   "cell_type": "code",
   "execution_count": 14,
   "id": "1b5478fc",
   "metadata": {},
   "outputs": [
    {
     "data": {
      "text/plain": [
       "int"
      ]
     },
     "execution_count": 14,
     "metadata": {},
     "output_type": "execute_result"
    }
   ],
   "source": [
    "y=123\n",
    "type(y)"
   ]
  },
  {
   "cell_type": "code",
   "execution_count": 15,
   "id": "392bddc3",
   "metadata": {},
   "outputs": [
    {
     "data": {
      "text/plain": [
       "list"
      ]
     },
     "execution_count": 15,
     "metadata": {},
     "output_type": "execute_result"
    }
   ],
   "source": [
    "z=[159]\n",
    "type(z)"
   ]
  },
  {
   "cell_type": "code",
   "execution_count": 16,
   "id": "e951dc6d",
   "metadata": {},
   "outputs": [
    {
     "data": {
      "text/plain": [
       "set"
      ]
     },
     "execution_count": 16,
     "metadata": {},
     "output_type": "execute_result"
    }
   ],
   "source": [
    "zz = {155}\n",
    "type(zz)"
   ]
  },
  {
   "cell_type": "markdown",
   "id": "cfa43923",
   "metadata": {},
   "source": [
    "# Exercises\n",
    "Try these on your own:\n",
    "1. Create a variable `first_name` and assign your first name.\n",
    "2. Use snake case to create a variable for your age and assign a number.\n",
    "3. Assign three different values to `x, y, z` in one line.\n",
    "4. Write an `if` statement that prints \"Adult\" if `age` is 18 or more.\n",
    "5. Create a global variable and modify it inside a function."
   ]
  }
 ],
 "metadata": {
  "kernelspec": {
   "display_name": "base",
   "language": "python",
   "name": "python3"
  },
  "language_info": {
   "codemirror_mode": {
    "name": "ipython",
    "version": 3
   },
   "file_extension": ".py",
   "mimetype": "text/x-python",
   "name": "python",
   "nbconvert_exporter": "python",
   "pygments_lexer": "ipython3",
   "version": "3.12.9"
  }
 },
 "nbformat": 4,
 "nbformat_minor": 5
}
